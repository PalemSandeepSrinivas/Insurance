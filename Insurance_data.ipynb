{
  "cells": [
    {
      "cell_type": "markdown",
      "metadata": {
        "id": "view-in-github",
        "colab_type": "text"
      },
      "source": [
        "<a href=\"https://colab.research.google.com/github/PalemSandeepSrinivas/Insurance-/blob/main/Insurance_data.ipynb\" target=\"_parent\"><img src=\"https://colab.research.google.com/assets/colab-badge.svg\" alt=\"Open In Colab\"/></a>"
      ]
    },
    {
      "cell_type": "code",
      "source": [
        "from google.colab import drive\n",
        "drive.mount('/content/drive')"
      ],
      "metadata": {
        "colab": {
          "base_uri": "https://localhost:8080/"
        },
        "id": "KmOJtx3LrmB3",
        "outputId": "bb808c22-8f90-4080-b429-93537cc578cd"
      },
      "id": "KmOJtx3LrmB3",
      "execution_count": 1,
      "outputs": [
        {
          "output_type": "stream",
          "name": "stdout",
          "text": [
            "Mounted at /content/drive\n"
          ]
        }
      ]
    },
    {
      "cell_type": "code",
      "execution_count": 2,
      "id": "94d6fa0a",
      "metadata": {
        "id": "94d6fa0a"
      },
      "outputs": [],
      "source": [
        "#import the standard libraries\n",
        "import pandas as pd\n",
        "import numpy as np\n",
        "import matplotlib.pyplot as plt\n",
        "import seaborn as sns\n",
        "import plotly.express as px\n",
        "import warnings\n",
        "warnings.filterwarnings(\"ignore\")\n",
        "%matplotlib inline\n",
        "from sklearn.model_selection import train_test_split\n",
        "from sklearn.linear_model import LinearRegression"
      ]
    },
    {
      "cell_type": "code",
      "execution_count": 3,
      "id": "f34c35e1",
      "metadata": {
        "id": "f34c35e1",
        "outputId": "9667481f-0a4e-4b0b-a9b5-edf369a6b895",
        "colab": {
          "base_uri": "https://localhost:8080/",
          "height": 206
        }
      },
      "outputs": [
        {
          "output_type": "execute_result",
          "data": {
            "text/plain": [
              "<pandas.io.formats.style.Styler at 0x7f64a24c57d0>"
            ],
            "text/html": [
              "<style type=\"text/css\">\n",
              "#T_f0571_row0_col0 {\n",
              "  background-color: #feeae0;\n",
              "  color: #000000;\n",
              "}\n",
              "#T_f0571_row0_col2 {\n",
              "  background-color: #fb7353;\n",
              "  color: #f1f1f1;\n",
              "}\n",
              "#T_f0571_row0_col3, #T_f0571_row1_col0, #T_f0571_row1_col6, #T_f0571_row3_col2, #T_f0571_row3_col3, #T_f0571_row4_col3 {\n",
              "  background-color: #fff5f0;\n",
              "  color: #000000;\n",
              "}\n",
              "#T_f0571_row0_col6 {\n",
              "  background-color: #cb181d;\n",
              "  color: #f1f1f1;\n",
              "}\n",
              "#T_f0571_row1_col2, #T_f0571_row2_col3, #T_f0571_row3_col0, #T_f0571_row3_col6 {\n",
              "  background-color: #67000d;\n",
              "  color: #f1f1f1;\n",
              "}\n",
              "#T_f0571_row1_col3 {\n",
              "  background-color: #fca082;\n",
              "  color: #000000;\n",
              "}\n",
              "#T_f0571_row2_col0 {\n",
              "  background-color: #e32f27;\n",
              "  color: #f1f1f1;\n",
              "}\n",
              "#T_f0571_row2_col2, #T_f0571_row4_col0 {\n",
              "  background-color: #880811;\n",
              "  color: #f1f1f1;\n",
              "}\n",
              "#T_f0571_row2_col6 {\n",
              "  background-color: #fedecf;\n",
              "  color: #000000;\n",
              "}\n",
              "#T_f0571_row4_col2 {\n",
              "  background-color: #f6553c;\n",
              "  color: #f1f1f1;\n",
              "}\n",
              "#T_f0571_row4_col6 {\n",
              "  background-color: #fee3d7;\n",
              "  color: #000000;\n",
              "}\n",
              "</style>\n",
              "<table id=\"T_f0571_\" class=\"dataframe\">\n",
              "  <thead>\n",
              "    <tr>\n",
              "      <th class=\"blank level0\" >&nbsp;</th>\n",
              "      <th class=\"col_heading level0 col0\" >age</th>\n",
              "      <th class=\"col_heading level0 col1\" >sex</th>\n",
              "      <th class=\"col_heading level0 col2\" >bmi</th>\n",
              "      <th class=\"col_heading level0 col3\" >children</th>\n",
              "      <th class=\"col_heading level0 col4\" >smoker</th>\n",
              "      <th class=\"col_heading level0 col5\" >region</th>\n",
              "      <th class=\"col_heading level0 col6\" >charges</th>\n",
              "    </tr>\n",
              "  </thead>\n",
              "  <tbody>\n",
              "    <tr>\n",
              "      <th id=\"T_f0571_level0_row0\" class=\"row_heading level0 row0\" >0</th>\n",
              "      <td id=\"T_f0571_row0_col0\" class=\"data row0 col0\" >19</td>\n",
              "      <td id=\"T_f0571_row0_col1\" class=\"data row0 col1\" >female</td>\n",
              "      <td id=\"T_f0571_row0_col2\" class=\"data row0 col2\" >27.900000</td>\n",
              "      <td id=\"T_f0571_row0_col3\" class=\"data row0 col3\" >0</td>\n",
              "      <td id=\"T_f0571_row0_col4\" class=\"data row0 col4\" >yes</td>\n",
              "      <td id=\"T_f0571_row0_col5\" class=\"data row0 col5\" >southwest</td>\n",
              "      <td id=\"T_f0571_row0_col6\" class=\"data row0 col6\" >16884.924000</td>\n",
              "    </tr>\n",
              "    <tr>\n",
              "      <th id=\"T_f0571_level0_row1\" class=\"row_heading level0 row1\" >1</th>\n",
              "      <td id=\"T_f0571_row1_col0\" class=\"data row1 col0\" >18</td>\n",
              "      <td id=\"T_f0571_row1_col1\" class=\"data row1 col1\" >male</td>\n",
              "      <td id=\"T_f0571_row1_col2\" class=\"data row1 col2\" >33.770000</td>\n",
              "      <td id=\"T_f0571_row1_col3\" class=\"data row1 col3\" >1</td>\n",
              "      <td id=\"T_f0571_row1_col4\" class=\"data row1 col4\" >no</td>\n",
              "      <td id=\"T_f0571_row1_col5\" class=\"data row1 col5\" >southeast</td>\n",
              "      <td id=\"T_f0571_row1_col6\" class=\"data row1 col6\" >1725.552300</td>\n",
              "    </tr>\n",
              "    <tr>\n",
              "      <th id=\"T_f0571_level0_row2\" class=\"row_heading level0 row2\" >2</th>\n",
              "      <td id=\"T_f0571_row2_col0\" class=\"data row2 col0\" >28</td>\n",
              "      <td id=\"T_f0571_row2_col1\" class=\"data row2 col1\" >male</td>\n",
              "      <td id=\"T_f0571_row2_col2\" class=\"data row2 col2\" >33.000000</td>\n",
              "      <td id=\"T_f0571_row2_col3\" class=\"data row2 col3\" >3</td>\n",
              "      <td id=\"T_f0571_row2_col4\" class=\"data row2 col4\" >no</td>\n",
              "      <td id=\"T_f0571_row2_col5\" class=\"data row2 col5\" >southeast</td>\n",
              "      <td id=\"T_f0571_row2_col6\" class=\"data row2 col6\" >4449.462000</td>\n",
              "    </tr>\n",
              "    <tr>\n",
              "      <th id=\"T_f0571_level0_row3\" class=\"row_heading level0 row3\" >3</th>\n",
              "      <td id=\"T_f0571_row3_col0\" class=\"data row3 col0\" >33</td>\n",
              "      <td id=\"T_f0571_row3_col1\" class=\"data row3 col1\" >male</td>\n",
              "      <td id=\"T_f0571_row3_col2\" class=\"data row3 col2\" >22.705000</td>\n",
              "      <td id=\"T_f0571_row3_col3\" class=\"data row3 col3\" >0</td>\n",
              "      <td id=\"T_f0571_row3_col4\" class=\"data row3 col4\" >no</td>\n",
              "      <td id=\"T_f0571_row3_col5\" class=\"data row3 col5\" >northwest</td>\n",
              "      <td id=\"T_f0571_row3_col6\" class=\"data row3 col6\" >21984.470610</td>\n",
              "    </tr>\n",
              "    <tr>\n",
              "      <th id=\"T_f0571_level0_row4\" class=\"row_heading level0 row4\" >4</th>\n",
              "      <td id=\"T_f0571_row4_col0\" class=\"data row4 col0\" >32</td>\n",
              "      <td id=\"T_f0571_row4_col1\" class=\"data row4 col1\" >male</td>\n",
              "      <td id=\"T_f0571_row4_col2\" class=\"data row4 col2\" >28.880000</td>\n",
              "      <td id=\"T_f0571_row4_col3\" class=\"data row4 col3\" >0</td>\n",
              "      <td id=\"T_f0571_row4_col4\" class=\"data row4 col4\" >no</td>\n",
              "      <td id=\"T_f0571_row4_col5\" class=\"data row4 col5\" >northwest</td>\n",
              "      <td id=\"T_f0571_row4_col6\" class=\"data row4 col6\" >3866.855200</td>\n",
              "    </tr>\n",
              "  </tbody>\n",
              "</table>\n"
            ]
          },
          "metadata": {},
          "execution_count": 3
        }
      ],
      "source": [
        "#Read the data\n",
        "data=pd.read_csv('/content/drive/MyDrive/insurance.csv')\n",
        "#Print the first five rows\n",
        "data.head().style.background_gradient(cmap='Reds')"
      ]
    },
    {
      "cell_type": "code",
      "execution_count": 4,
      "id": "db0412a0",
      "metadata": {
        "id": "db0412a0",
        "outputId": "a2e2ac02-78e9-496c-b741-94d105ac817a",
        "colab": {
          "base_uri": "https://localhost:8080/"
        }
      },
      "outputs": [
        {
          "output_type": "stream",
          "name": "stdout",
          "text": [
            "<class 'pandas.core.frame.DataFrame'>\n",
            "RangeIndex: 1338 entries, 0 to 1337\n",
            "Data columns (total 7 columns):\n",
            " #   Column    Non-Null Count  Dtype  \n",
            "---  ------    --------------  -----  \n",
            " 0   age       1338 non-null   int64  \n",
            " 1   sex       1338 non-null   object \n",
            " 2   bmi       1338 non-null   float64\n",
            " 3   children  1338 non-null   int64  \n",
            " 4   smoker    1338 non-null   object \n",
            " 5   region    1338 non-null   object \n",
            " 6   charges   1338 non-null   float64\n",
            "dtypes: float64(2), int64(2), object(3)\n",
            "memory usage: 73.3+ KB\n"
          ]
        }
      ],
      "source": [
        "#data information\n",
        "data.info()"
      ]
    },
    {
      "cell_type": "code",
      "execution_count": 5,
      "id": "7304c34b",
      "metadata": {
        "id": "7304c34b",
        "outputId": "60888db0-76ae-4c84-f9f6-b26ec0aa13d2",
        "colab": {
          "base_uri": "https://localhost:8080/",
          "height": 300
        }
      },
      "outputs": [
        {
          "output_type": "execute_result",
          "data": {
            "text/plain": [
              "<pandas.io.formats.style.Styler at 0x7f640cc1a790>"
            ],
            "text/html": [
              "<style type=\"text/css\">\n",
              "#T_33805_row0_col0, #T_33805_row0_col1, #T_33805_row0_col2, #T_33805_row7_col3 {\n",
              "  background-color: #333399;\n",
              "  color: #f1f1f1;\n",
              "}\n",
              "#T_33805_row0_col3, #T_33805_row1_col2, #T_33805_row2_col0, #T_33805_row2_col1, #T_33805_row2_col2, #T_33805_row3_col0, #T_33805_row3_col2, #T_33805_row3_col3, #T_33805_row4_col2, #T_33805_row5_col2, #T_33805_row6_col2, #T_33805_row7_col2 {\n",
              "  background-color: #ffffff;\n",
              "  color: #000000;\n",
              "}\n",
              "#T_33805_row1_col0, #T_33805_row1_col1, #T_33805_row5_col0, #T_33805_row5_col1 {\n",
              "  background-color: #f7f5f4;\n",
              "  color: #000000;\n",
              "}\n",
              "#T_33805_row1_col3 {\n",
              "  background-color: #9d827c;\n",
              "  color: #f1f1f1;\n",
              "}\n",
              "#T_33805_row2_col3 {\n",
              "  background-color: #a78e89;\n",
              "  color: #f1f1f1;\n",
              "}\n",
              "#T_33805_row3_col1 {\n",
              "  background-color: #fdfcfc;\n",
              "  color: #000000;\n",
              "}\n",
              "#T_33805_row4_col0 {\n",
              "  background-color: #fbfafa;\n",
              "  color: #000000;\n",
              "}\n",
              "#T_33805_row4_col1 {\n",
              "  background-color: #f9f7f7;\n",
              "  color: #000000;\n",
              "}\n",
              "#T_33805_row4_col3 {\n",
              "  background-color: #e3dbd9;\n",
              "  color: #000000;\n",
              "}\n",
              "#T_33805_row5_col3 {\n",
              "  background-color: #bdaba7;\n",
              "  color: #000000;\n",
              "}\n",
              "#T_33805_row6_col0 {\n",
              "  background-color: #f1edec;\n",
              "  color: #000000;\n",
              "}\n",
              "#T_33805_row6_col1 {\n",
              "  background-color: #f5f2f2;\n",
              "  color: #000000;\n",
              "}\n",
              "#T_33805_row6_col3 {\n",
              "  background-color: #815e56;\n",
              "  color: #f1f1f1;\n",
              "}\n",
              "#T_33805_row7_col0, #T_33805_row7_col1 {\n",
              "  background-color: #ede8e7;\n",
              "  color: #000000;\n",
              "}\n",
              "</style>\n",
              "<table id=\"T_33805_\" class=\"dataframe\">\n",
              "  <thead>\n",
              "    <tr>\n",
              "      <th class=\"blank level0\" >&nbsp;</th>\n",
              "      <th class=\"col_heading level0 col0\" >age</th>\n",
              "      <th class=\"col_heading level0 col1\" >bmi</th>\n",
              "      <th class=\"col_heading level0 col2\" >children</th>\n",
              "      <th class=\"col_heading level0 col3\" >charges</th>\n",
              "    </tr>\n",
              "  </thead>\n",
              "  <tbody>\n",
              "    <tr>\n",
              "      <th id=\"T_33805_level0_row0\" class=\"row_heading level0 row0\" >count</th>\n",
              "      <td id=\"T_33805_row0_col0\" class=\"data row0 col0\" >1338.000000</td>\n",
              "      <td id=\"T_33805_row0_col1\" class=\"data row0 col1\" >1338.000000</td>\n",
              "      <td id=\"T_33805_row0_col2\" class=\"data row0 col2\" >1338.000000</td>\n",
              "      <td id=\"T_33805_row0_col3\" class=\"data row0 col3\" >1338.000000</td>\n",
              "    </tr>\n",
              "    <tr>\n",
              "      <th id=\"T_33805_level0_row1\" class=\"row_heading level0 row1\" >mean</th>\n",
              "      <td id=\"T_33805_row1_col0\" class=\"data row1 col0\" >39.207025</td>\n",
              "      <td id=\"T_33805_row1_col1\" class=\"data row1 col1\" >30.663397</td>\n",
              "      <td id=\"T_33805_row1_col2\" class=\"data row1 col2\" >1.094918</td>\n",
              "      <td id=\"T_33805_row1_col3\" class=\"data row1 col3\" >13270.422265</td>\n",
              "    </tr>\n",
              "    <tr>\n",
              "      <th id=\"T_33805_level0_row2\" class=\"row_heading level0 row2\" >std</th>\n",
              "      <td id=\"T_33805_row2_col0\" class=\"data row2 col0\" >14.049960</td>\n",
              "      <td id=\"T_33805_row2_col1\" class=\"data row2 col1\" >6.098187</td>\n",
              "      <td id=\"T_33805_row2_col2\" class=\"data row2 col2\" >1.205493</td>\n",
              "      <td id=\"T_33805_row2_col3\" class=\"data row2 col3\" >12110.011237</td>\n",
              "    </tr>\n",
              "    <tr>\n",
              "      <th id=\"T_33805_level0_row3\" class=\"row_heading level0 row3\" >min</th>\n",
              "      <td id=\"T_33805_row3_col0\" class=\"data row3 col0\" >18.000000</td>\n",
              "      <td id=\"T_33805_row3_col1\" class=\"data row3 col1\" >15.960000</td>\n",
              "      <td id=\"T_33805_row3_col2\" class=\"data row3 col2\" >0.000000</td>\n",
              "      <td id=\"T_33805_row3_col3\" class=\"data row3 col3\" >1121.873900</td>\n",
              "    </tr>\n",
              "    <tr>\n",
              "      <th id=\"T_33805_level0_row4\" class=\"row_heading level0 row4\" >25%</th>\n",
              "      <td id=\"T_33805_row4_col0\" class=\"data row4 col0\" >27.000000</td>\n",
              "      <td id=\"T_33805_row4_col1\" class=\"data row4 col1\" >26.296250</td>\n",
              "      <td id=\"T_33805_row4_col2\" class=\"data row4 col2\" >0.000000</td>\n",
              "      <td id=\"T_33805_row4_col3\" class=\"data row4 col3\" >4740.287150</td>\n",
              "    </tr>\n",
              "    <tr>\n",
              "      <th id=\"T_33805_level0_row5\" class=\"row_heading level0 row5\" >50%</th>\n",
              "      <td id=\"T_33805_row5_col0\" class=\"data row5 col0\" >39.000000</td>\n",
              "      <td id=\"T_33805_row5_col1\" class=\"data row5 col1\" >30.400000</td>\n",
              "      <td id=\"T_33805_row5_col2\" class=\"data row5 col2\" >1.000000</td>\n",
              "      <td id=\"T_33805_row5_col3\" class=\"data row5 col3\" >9382.033000</td>\n",
              "    </tr>\n",
              "    <tr>\n",
              "      <th id=\"T_33805_level0_row6\" class=\"row_heading level0 row6\" >75%</th>\n",
              "      <td id=\"T_33805_row6_col0\" class=\"data row6 col0\" >51.000000</td>\n",
              "      <td id=\"T_33805_row6_col1\" class=\"data row6 col1\" >34.693750</td>\n",
              "      <td id=\"T_33805_row6_col2\" class=\"data row6 col2\" >2.000000</td>\n",
              "      <td id=\"T_33805_row6_col3\" class=\"data row6 col3\" >16639.912515</td>\n",
              "    </tr>\n",
              "    <tr>\n",
              "      <th id=\"T_33805_level0_row7\" class=\"row_heading level0 row7\" >max</th>\n",
              "      <td id=\"T_33805_row7_col0\" class=\"data row7 col0\" >64.000000</td>\n",
              "      <td id=\"T_33805_row7_col1\" class=\"data row7 col1\" >53.130000</td>\n",
              "      <td id=\"T_33805_row7_col2\" class=\"data row7 col2\" >5.000000</td>\n",
              "      <td id=\"T_33805_row7_col3\" class=\"data row7 col3\" >63770.428010</td>\n",
              "    </tr>\n",
              "  </tbody>\n",
              "</table>\n"
            ]
          },
          "metadata": {},
          "execution_count": 5
        }
      ],
      "source": [
        "#Let's print the stastics the data\n",
        "data.describe().style.background_gradient(cmap='terrain_r')"
      ]
    },
    {
      "cell_type": "code",
      "execution_count": 6,
      "id": "b4607804",
      "metadata": {
        "id": "b4607804",
        "outputId": "f1106ed4-3619-442e-ef2d-930d584acfa5",
        "colab": {
          "base_uri": "https://localhost:8080/"
        }
      },
      "outputs": [
        {
          "output_type": "execute_result",
          "data": {
            "text/plain": [
              "age         0\n",
              "sex         0\n",
              "bmi         0\n",
              "children    0\n",
              "smoker      0\n",
              "region      0\n",
              "charges     0\n",
              "dtype: int64"
            ]
          },
          "metadata": {},
          "execution_count": 6
        }
      ],
      "source": [
        "#Let's check the null values to the data\n",
        "data.isna().sum()"
      ]
    },
    {
      "cell_type": "code",
      "execution_count": 7,
      "id": "70033d0b",
      "metadata": {
        "id": "70033d0b",
        "outputId": "e91420ef-e8e4-4a88-ac2c-6be629ad1b92",
        "colab": {
          "base_uri": "https://localhost:8080/",
          "height": 294
        }
      },
      "outputs": [
        {
          "output_type": "display_data",
          "data": {
            "text/plain": [
              "<Figure size 432x288 with 2 Axes>"
            ],
            "image/png": "[encoded data removed]"
          },
          "metadata": {
            "needs_background": "light"
          }
        }
      ],
      "source": [
        "#Let's visualize the correlation matrics\n",
        "sns.heatmap(data.corr(),annot=True,cmap='jet')\n",
        "plt.title(\"The correaltion matrics\",fontsize=30)\n",
        "plt.show()"
      ]
    },
    {
      "cell_type": "markdown",
      "id": "75dc5e76",
      "metadata": {
        "id": "75dc5e76"
      },
      "source": [
        "# Explore data analysis"
      ]
    },
    {
      "cell_type": "code",
      "execution_count": 8,
      "id": "8a5223e8",
      "metadata": {
        "id": "8a5223e8",
        "outputId": "fb2d71c9-22eb-4a01-f3cc-92ca4543c86f",
        "colab": {
          "base_uri": "https://localhost:8080/",
          "height": 313
        }
      },
      "outputs": [
        {
          "output_type": "display_data",
          "data": {
            "text/plain": [
              "<Figure size 432x288 with 1 Axes>"
            ],
            "image/png": "[encoded data removed]"
          },
          "metadata": {
            "needs_background": "light"
          }
        }
      ],
      "source": [
        "ax=plt.axes()\n",
        "#Let's intitalize background color\n",
        "ax.set(facecolor='green')\n",
        "#Set the figsize with styles\n",
        "sns.set(rc={'figure.figsize':(18,7)},style='dark')\n",
        "#Set the title \n",
        "ax.set_title(\"The ages in the dataset\",fontsize=35,fontweight='bold')\n",
        "#Using the cout plot and visualiz the differnet ages\n",
        "sns.countplot(data['age'])\n",
        "#On the x-axis Ages\n",
        "plt.xlabel(\"Ages\")\n",
        "#On y-axis the values count\n",
        "plt.ylabel(\"Count\")\n",
        "#Let's visualize the plot\n",
        "plt.show()"
      ]
    },
    {
      "cell_type": "code",
      "execution_count": 9,
      "id": "e39e2f00",
      "metadata": {
        "id": "e39e2f00",
        "outputId": "6e7bce9d-d189-48c7-a593-6af651f7e524",
        "colab": {
          "base_uri": "https://localhost:8080/",
          "height": 481
        }
      },
      "outputs": [
        {
          "output_type": "display_data",
          "data": {
            "text/plain": [
              "<Figure size 1296x504 with 1 Axes>"
            ],
            "image/png": "[encoded data removed]"
          },
          "metadata": {}
        }
      ],
      "source": [
        "#Let's visualize the charges of the dataset\n",
        "ax=plt.axes()\n",
        "#Let's intitalize background color\n",
        "ax.set(facecolor='red')\n",
        "#Set the figsize with styles\n",
        "sns.set(rc={'figure.figsize':(16,8)},style='dark')\n",
        "#Set the title \n",
        "ax.set_title(\"The Charges distribution\",fontsize=35,fontweight='bold')\n",
        "#Using the cout plot and visualize the charges\n",
        "sns.distplot(data['charges'],color='blue',hist=True)\n",
        "#On the x-axis charges\n",
        "plt.xlabel(\"Charges\")\n",
        "#On y-axis the values count\n",
        "plt.ylabel(\"Count\")\n",
        "#Let's visualize the plot\n",
        "plt.show()"
      ]
    },
    {
      "cell_type": "code",
      "execution_count": 10,
      "id": "05fb2966",
      "metadata": {
        "id": "05fb2966",
        "outputId": "3a19737f-e428-4754-8184-67961cc1c33a",
        "colab": {
          "base_uri": "https://localhost:8080/",
          "height": 535
        }
      },
      "outputs": [
        {
          "output_type": "display_data",
          "data": {
            "text/plain": [
              "<Figure size 1152x576 with 1 Axes>"
            ],
            "image/png": "[encoded data removed]"
          },
          "metadata": {}
        }
      ],
      "source": [
        "#Let's visualize the bmi of the dataset\n",
        "ax=plt.axes()\n",
        "#Let's intitalize background color\n",
        "ax.set(facecolor='yellow')\n",
        "#Set the figsize with styles\n",
        "sns.set(rc={'figure.figsize':(16,8)},style='dark')\n",
        "#Set the title \n",
        "ax.set_title(\"The Bmi distibution\",fontsize=35,fontweight='bold')\n",
        "#Using the cout plot and visualize the charges\n",
        "sns.distplot(data['bmi'],color='blue',hist=True,vertical=False,norm_hist=True)\n",
        "#On the x-axis charges\n",
        "plt.xlabel(\"bmi\")\n",
        "#On y-axis the values count\n",
        "plt.ylabel(\"Count\")\n",
        "#Let's visualize the plot\n",
        "plt.show()"
      ]
    },
    {
      "cell_type": "code",
      "execution_count": 11,
      "id": "e07b4c64",
      "metadata": {
        "id": "e07b4c64",
        "outputId": "8b4bc0b6-3e9e-4527-eb63-fe315a6748c7",
        "colab": {
          "base_uri": "https://localhost:8080/",
          "height": 206
        }
      },
      "outputs": [
        {
          "output_type": "execute_result",
          "data": {
            "text/plain": [
              "     children  age  Children_with_ages\n",
              "218         5   52                   1\n",
              "212         5   39                   4\n",
              "206         5   19                   1\n",
              "207         5   20                   2\n",
              "209         5   28                   1"
            ],
            "text/html": [
              "\n",
              "  <div id=\"df-9b070a27-0f5f-439d-877f-8b21c4109992\">\n",
              "    <div class=\"colab-df-container\">\n",
              "      <div>\n",
              "<style scoped>\n",
              "    .dataframe tbody tr th:only-of-type {\n",
              "        vertical-align: middle;\n",
              "    }\n",
              "\n",
              "    .dataframe tbody tr th {\n",
              "        vertical-align: top;\n",
              "    }\n",
              "\n",
              "    .dataframe thead th {\n",
              "        text-align: right;\n",
              "    }\n",
              "</style>\n",
              "<table border=\"1\" class=\"dataframe\">\n",
              "  <thead>\n",
              "    <tr style=\"text-align: right;\">\n",
              "      <th></th>\n",
              "      <th>children</th>\n",
              "      <th>age</th>\n",
              "      <th>Children_with_ages</th>\n",
              "    </tr>\n",
              "  </thead>\n",
              "  <tbody>\n",
              "    <tr>\n",
              "      <th>218</th>\n",
              "      <td>5</td>\n",
              "      <td>52</td>\n",
              "      <td>1</td>\n",
              "    </tr>\n",
              "    <tr>\n",
              "      <th>212</th>\n",
              "      <td>5</td>\n",
              "      <td>39</td>\n",
              "      <td>4</td>\n",
              "    </tr>\n",
              "    <tr>\n",
              "      <th>206</th>\n",
              "      <td>5</td>\n",
              "      <td>19</td>\n",
              "      <td>1</td>\n",
              "    </tr>\n",
              "    <tr>\n",
              "      <th>207</th>\n",
              "      <td>5</td>\n",
              "      <td>20</td>\n",
              "      <td>2</td>\n",
              "    </tr>\n",
              "    <tr>\n",
              "      <th>209</th>\n",
              "      <td>5</td>\n",
              "      <td>28</td>\n",
              "      <td>1</td>\n",
              "    </tr>\n",
              "  </tbody>\n",
              "</table>\n",
              "</div>\n",
              "      <button class=\"colab-df-convert\" onclick=\"convertToInteractive('df-9b070a27-0f5f-439d-877f-8b21c4109992')\"\n",
              "              title=\"Convert this dataframe to an interactive table.\"\n",
              "              style=\"display:none;\">\n",
              "        \n",
              "  <svg xmlns=\"http://www.w3.org/2000/svg\" height=\"24px\"viewBox=\"0 0 24 24\"\n",
              "       width=\"24px\">\n",
              "    <path d=\"M0 0h24v24H0V0z\" fill=\"none\"/>\n",
              "    <path d=\"M18.56 5.44l.94 2.06.94-2.06 2.06-.94-2.06-.94-.94-2.06-.94 2.06-2.06.94zm-11 1L8.5 8.5l.94-2.06 2.06-.94-2.06-.94L8.5 2.5l-.94 2.06-2.06.94zm10 10l.94 2.06.94-2.06 2.06-.94-2.06-.94-.94-2.06-.94 2.06-2.06.94z\"/><path d=\"M17.41 7.96l-1.37-1.37c-.4-.4-.92-.59-1.43-.59-.52 0-1.04.2-1.43.59L10.3 9.45l-7.72 7.72c-.78.78-.78 2.05 0 2.83L4 21.41c.39.39.9.59 1.41.59.51 0 1.02-.2 1.41-.59l7.78-7.78 2.81-2.81c.8-.78.8-2.07 0-2.86zM5.41 20L4 18.59l7.72-7.72 1.47 1.35L5.41 20z\"/>\n",
              "  </svg>\n",
              "      </button>\n",
              "      \n",
              "  <style>\n",
              "    .colab-df-container {\n",
              "      display:flex;\n",
              "      flex-wrap:wrap;\n",
              "      gap: 12px;\n",
              "    }\n",
              "\n",
              "    .colab-df-convert {\n",
              "      background-color: #E8F0FE;\n",
              "      border: none;\n",
              "      border-radius: 50%;\n",
              "      cursor: pointer;\n",
              "      display: none;\n",
              "      fill: #1967D2;\n",
              "      height: 32px;\n",
              "      padding: 0 0 0 0;\n",
              "      width: 32px;\n",
              "    }\n",
              "\n",
              "    .colab-df-convert:hover {\n",
              "      background-color: #E2EBFA;\n",
              "      box-shadow: 0px 1px 2px rgba(60, 64, 67, 0.3), 0px 1px 3px 1px rgba(60, 64, 67, 0.15);\n",
              "      fill: #174EA6;\n",
              "    }\n",
              "\n",
              "    [theme=dark] .colab-df-convert {\n",
              "      background-color: #3B4455;\n",
              "      fill: #D2E3FC;\n",
              "    }\n",
              "\n",
              "    [theme=dark] .colab-df-convert:hover {\n",
              "      background-color: #434B5C;\n",
              "      box-shadow: 0px 1px 3px 1px rgba(0, 0, 0, 0.15);\n",
              "      filter: drop-shadow(0px 1px 2px rgba(0, 0, 0, 0.3));\n",
              "      fill: #FFFFFF;\n",
              "    }\n",
              "  </style>\n",
              "\n",
              "      <script>\n",
              "        const buttonEl =\n",
              "          document.querySelector('#df-9b070a27-0f5f-439d-877f-8b21c4109992 button.colab-df-convert');\n",
              "        buttonEl.style.display =\n",
              "          google.colab.kernel.accessAllowed ? 'block' : 'none';\n",
              "\n",
              "        async function convertToInteractive(key) {\n",
              "          const element = document.querySelector('#df-9b070a27-0f5f-439d-877f-8b21c4109992');\n",
              "          const dataTable =\n",
              "            await google.colab.kernel.invokeFunction('convertToInteractive',\n",
              "                                                     [key], {});\n",
              "          if (!dataTable) return;\n",
              "\n",
              "          const docLinkHtml = 'Like what you see? Visit the ' +\n",
              "            '<a target=\"_blank\" href=https://colab.research.google.com/notebooks/data_table.ipynb>data table notebook</a>'\n",
              "            + ' to learn more about interactive tables.';\n",
              "          element.innerHTML = '';\n",
              "          dataTable['output_type'] = 'display_data';\n",
              "          await google.colab.output.renderOutput(dataTable, element);\n",
              "          const docLink = document.createElement('div');\n",
              "          docLink.innerHTML = docLinkHtml;\n",
              "          element.appendChild(docLink);\n",
              "        }\n",
              "      </script>\n",
              "    </div>\n",
              "  </div>\n",
              "  "
            ]
          },
          "metadata": {},
          "execution_count": 11
        }
      ],
      "source": [
        "#Let's check the which age persons have the most children\n",
        "children=data.groupby(['children','age']).size().reset_index().rename(columns={0:'Children_with_ages'}).sort_values(by='children',ascending=False)\n",
        "children.head()"
      ]
    },
    {
      "cell_type": "code",
      "execution_count": 12,
      "id": "f0ea2e74",
      "metadata": {
        "id": "f0ea2e74",
        "outputId": "bfafac05-abb5-478a-ed5a-311122ed3dce",
        "colab": {
          "base_uri": "https://localhost:8080/",
          "height": 542
        }
      },
      "outputs": [
        {
          "output_type": "display_data",
          "data": {
            "text/html": [
              "<html>\n",
              "<head><meta charset=\"utf-8\" /></head>\n",
              "<body>\n",
              "    <div>            <script src=\"https://cdnjs.cloudflare.com/ajax/libs/mathjax/2.7.5/MathJax.js?config=TeX-AMS-MML_SVG\"></script><script type=\"text/javascript\">if (window.MathJax) {MathJax.Hub.Config({SVG: {font: \"STIX-Web\"}});}</script>                <script type=\"text/javascript\">window.PlotlyConfig = {MathJaxConfig: 'local'};</script>\n",
              "        <script src=\"https://cdn.plot.ly/plotly-2.8.3.min.js\"></script>                <div id=\"bc60428e-a192-4f1f-86a2-282df8dd5bf1\" class=\"plotly-graph-div\" style=\"height:525px; width:100%;\"></div>            <script type=\"text/javascript\">                                    window.PLOTLYENV=window.PLOTLYENV || {};                                    if (document.getElementById(\"bc60428e-a192-4f1f-86a2-282df8dd5bf1\")) {                    Plotly.newPlot(                        \"bc60428e-a192-4f1f-86a2-282df8dd5bf1\",                        [{\"alignmentgroup\":\"True\",\"bingroup\":\"x\",\"hovertemplate\":\"children=5<br>age=%{x}<br>count=%{y}<extra></extra>\",\"legendgroup\":\"5\",\"marker\":{\"color\":\"#636efa\",\"pattern\":{\"shape\":\"\"}},\"name\":\"5\",\"offsetgroup\":\"5\",\"orientation\":\"v\",\"showlegend\":true,\"x\":[52,39,19,20,28,31,33,25,41,43,45,46,49],\"xaxis\":\"x\",\"yaxis\":\"y\",\"type\":\"histogram\"},{\"alignmentgroup\":\"True\",\"bingroup\":\"x\",\"hovertemplate\":\"children=4<br>age=%{x}<br>count=%{y}<extra></extra>\",\"legendgroup\":\"4\",\"marker\":{\"color\":\"#EF553B\",\"pattern\":{\"shape\":\"\"}},\"name\":\"4\",\"offsetgroup\":\"4\",\"orientation\":\"v\",\"showlegend\":true,\"x\":[37,18,21,24,25,26,29,33,35,36,32,39,50,40,57,56,51,61,49,48,47],\"xaxis\":\"x\",\"yaxis\":\"y\",\"type\":\"histogram\"},{\"alignmentgroup\":\"True\",\"bingroup\":\"x\",\"hovertemplate\":\"children=3<br>age=%{x}<br>count=%{y}<extra></extra>\",\"legendgroup\":\"3\",\"marker\":{\"color\":\"#00cc96\",\"pattern\":{\"shape\":\"\"}},\"name\":\"3\",\"offsetgroup\":\"3\",\"orientation\":\"v\",\"showlegend\":true,\"x\":[38,28,37,36,35,34,33,32,31,30,29,23,27,26,25,24,22,21,20,19,18,40,39,43,41,53,42,64,63,62,61,59,56,55,54,60,52,50,49,48,47,46,45,44,51],\"xaxis\":\"x\",\"yaxis\":\"y\",\"type\":\"histogram\"},{\"alignmentgroup\":\"True\",\"bingroup\":\"x\",\"hovertemplate\":\"children=2<br>age=%{x}<br>count=%{y}<extra></extra>\",\"legendgroup\":\"2\",\"marker\":{\"color\":\"#ab63fa\",\"pattern\":{\"shape\":\"\"}},\"name\":\"2\",\"offsetgroup\":\"2\",\"orientation\":\"v\",\"showlegend\":true,\"x\":[42,47,46,45,44,43,38,41,40,36,39,37,49,48,61,50,51,52,53,54,55,56,57,58,59,62,63,64,34,35,33,20,25,18,19,32,21,22,23,24,26,27,28,29,30,31],\"xaxis\":\"x\",\"yaxis\":\"y\",\"type\":\"histogram\"},{\"alignmentgroup\":\"True\",\"bingroup\":\"x\",\"hovertemplate\":\"children=1<br>age=%{x}<br>count=%{y}<extra></extra>\",\"legendgroup\":\"1\",\"marker\":{\"color\":\"#FFA15A\",\"pattern\":{\"shape\":\"\"}},\"name\":\"1\",\"offsetgroup\":\"1\",\"orientation\":\"v\",\"showlegend\":true,\"x\":[34,31,32,33,26,35,36,37,39,29,30,21,28,27,25,24,23,22,41,20,19,18,40,38,42,54,43,63,62,61,60,59,58,57,56,55,64,53,47,52,45,46,44,48,49,50,51],\"xaxis\":\"x\",\"yaxis\":\"y\",\"type\":\"histogram\"},{\"alignmentgroup\":\"True\",\"bingroup\":\"x\",\"hovertemplate\":\"children=0<br>age=%{x}<br>count=%{y}<extra></extra>\",\"legendgroup\":\"0\",\"marker\":{\"color\":\"#19d3f3\",\"pattern\":{\"shape\":\"\"}},\"name\":\"0\",\"offsetgroup\":\"0\",\"orientation\":\"v\",\"showlegend\":true,\"x\":[40,30,39,38,37,36,35,34,33,32,31,25,29,28,27,26,24,23,22,21,20,42,41,19,43,55,64,63,62,61,60,59,58,57,56,54,44,53,52,51,50,49,48,47,46,45,18],\"xaxis\":\"x\",\"yaxis\":\"y\",\"type\":\"histogram\"}],                        {\"template\":{\"data\":{\"barpolar\":[{\"marker\":{\"line\":{\"color\":\"rgb(17,17,17)\",\"width\":0.5},\"pattern\":{\"fillmode\":\"overlay\",\"size\":10,\"solidity\":0.2}},\"type\":\"barpolar\"}],\"bar\":[{\"error_x\":{\"color\":\"#f2f5fa\"},\"error_y\":{\"color\":\"#f2f5fa\"},\"marker\":{\"line\":{\"color\":\"rgb(17,17,17)\",\"width\":0.5},\"pattern\":{\"fillmode\":\"overlay\",\"size\":10,\"solidity\":0.2}},\"type\":\"bar\"}],\"carpet\":[{\"aaxis\":{\"endlinecolor\":\"#A2B1C6\",\"gridcolor\":\"#506784\",\"linecolor\":\"#506784\",\"minorgridcolor\":\"#506784\",\"startlinecolor\":\"#A2B1C6\"},\"baxis\":{\"endlinecolor\":\"#A2B1C6\",\"gridcolor\":\"#506784\",\"linecolor\":\"#506784\",\"minorgridcolor\":\"#506784\",\"startlinecolor\":\"#A2B1C6\"},\"type\":\"carpet\"}],\"choropleth\":[{\"colorbar\":{\"outlinewidth\":0,\"ticks\":\"\"},\"type\":\"choropleth\"}],\"contourcarpet\":[{\"colorbar\":{\"outlinewidth\":0,\"ticks\":\"\"},\"type\":\"contourcarpet\"}],\"contour\":[{\"colorbar\":{\"outlinewidth\":0,\"ticks\":\"\"},\"colorscale\":[[0.0,\"#0d0887\"],[0.1111111111111111,\"#46039f\"],[0.2222222222222222,\"#7201a8\"],[0.3333333333333333,\"#9c179e\"],[0.4444444444444444,\"#bd3786\"],[0.5555555555555556,\"#d8576b\"],[0.6666666666666666,\"#ed7953\"],[0.7777777777777778,\"#fb9f3a\"],[0.8888888888888888,\"#fdca26\"],[1.0,\"#f0f921\"]],\"type\":\"contour\"}],\"heatmapgl\":[{\"colorbar\":{\"outlinewidth\":0,\"ticks\":\"\"},\"colorscale\":[[0.0,\"#0d0887\"],[0.1111111111111111,\"#46039f\"],[0.2222222222222222,\"#7201a8\"],[0.3333333333333333,\"#9c179e\"],[0.4444444444444444,\"#bd3786\"],[0.5555555555555556,\"#d8576b\"],[0.6666666666666666,\"#ed7953\"],[0.7777777777777778,\"#fb9f3a\"],[0.8888888888888888,\"#fdca26\"],[1.0,\"#f0f921\"]],\"type\":\"heatmapgl\"}],\"heatmap\":[{\"colorbar\":{\"outlinewidth\":0,\"ticks\":\"\"},\"colorscale\":[[0.0,\"#0d0887\"],[0.1111111111111111,\"#46039f\"],[0.2222222222222222,\"#7201a8\"],[0.3333333333333333,\"#9c179e\"],[0.4444444444444444,\"#bd3786\"],[0.5555555555555556,\"#d8576b\"],[0.6666666666666666,\"#ed7953\"],[0.7777777777777778,\"#fb9f3a\"],[0.8888888888888888,\"#fdca26\"],[1.0,\"#f0f921\"]],\"type\":\"heatmap\"}],\"histogram2dcontour\":[{\"colorbar\":{\"outlinewidth\":0,\"ticks\":\"\"},\"colorscale\":[[0.0,\"#0d0887\"],[0.1111111111111111,\"#46039f\"],[0.2222222222222222,\"#7201a8\"],[0.3333333333333333,\"#9c179e\"],[0.4444444444444444,\"#bd3786\"],[0.5555555555555556,\"#d8576b\"],[0.6666666666666666,\"#ed7953\"],[0.7777777777777778,\"#fb9f3a\"],[0.8888888888888888,\"#fdca26\"],[1.0,\"#f0f921\"]],\"type\":\"histogram2dcontour\"}],\"histogram2d\":[{\"colorbar\":{\"outlinewidth\":0,\"ticks\":\"\"},\"colorscale\":[[0.0,\"#0d0887\"],[0.1111111111111111,\"#46039f\"],[0.2222222222222222,\"#7201a8\"],[0.3333333333333333,\"#9c179e\"],[0.4444444444444444,\"#bd3786\"],[0.5555555555555556,\"#d8576b\"],[0.6666666666666666,\"#ed7953\"],[0.7777777777777778,\"#fb9f3a\"],[0.8888888888888888,\"#fdca26\"],[1.0,\"#f0f921\"]],\"type\":\"histogram2d\"}],\"histogram\":[{\"marker\":{\"pattern\":{\"fillmode\":\"overlay\",\"size\":10,\"solidity\":0.2}},\"type\":\"histogram\"}],\"mesh3d\":[{\"colorbar\":{\"outlinewidth\":0,\"ticks\":\"\"},\"type\":\"mesh3d\"}],\"parcoords\":[{\"line\":{\"colorbar\":{\"outlinewidth\":0,\"ticks\":\"\"}},\"type\":\"parcoords\"}],\"pie\":[{\"automargin\":true,\"type\":\"pie\"}],\"scatter3d\":[{\"line\":{\"colorbar\":{\"outlinewidth\":0,\"ticks\":\"\"}},\"marker\":{\"colorbar\":{\"outlinewidth\":0,\"ticks\":\"\"}},\"type\":\"scatter3d\"}],\"scattercarpet\":[{\"marker\":{\"colorbar\":{\"outlinewidth\":0,\"ticks\":\"\"}},\"type\":\"scattercarpet\"}],\"scattergeo\":[{\"marker\":{\"colorbar\":{\"outlinewidth\":0,\"ticks\":\"\"}},\"type\":\"scattergeo\"}],\"scattergl\":[{\"marker\":{\"line\":{\"color\":\"#283442\"}},\"type\":\"scattergl\"}],\"scattermapbox\":[{\"marker\":{\"colorbar\":{\"outlinewidth\":0,\"ticks\":\"\"}},\"type\":\"scattermapbox\"}],\"scatterpolargl\":[{\"marker\":{\"colorbar\":{\"outlinewidth\":0,\"ticks\":\"\"}},\"type\":\"scatterpolargl\"}],\"scatterpolar\":[{\"marker\":{\"colorbar\":{\"outlinewidth\":0,\"ticks\":\"\"}},\"type\":\"scatterpolar\"}],\"scatter\":[{\"marker\":{\"line\":{\"color\":\"#283442\"}},\"type\":\"scatter\"}],\"scatterternary\":[{\"marker\":{\"colorbar\":{\"outlinewidth\":0,\"ticks\":\"\"}},\"type\":\"scatterternary\"}],\"surface\":[{\"colorbar\":{\"outlinewidth\":0,\"ticks\":\"\"},\"colorscale\":[[0.0,\"#0d0887\"],[0.1111111111111111,\"#46039f\"],[0.2222222222222222,\"#7201a8\"],[0.3333333333333333,\"#9c179e\"],[0.4444444444444444,\"#bd3786\"],[0.5555555555555556,\"#d8576b\"],[0.6666666666666666,\"#ed7953\"],[0.7777777777777778,\"#fb9f3a\"],[0.8888888888888888,\"#fdca26\"],[1.0,\"#f0f921\"]],\"type\":\"surface\"}],\"table\":[{\"cells\":{\"fill\":{\"color\":\"#506784\"},\"line\":{\"color\":\"rgb(17,17,17)\"}},\"header\":{\"fill\":{\"color\":\"#2a3f5f\"},\"line\":{\"color\":\"rgb(17,17,17)\"}},\"type\":\"table\"}]},\"layout\":{\"annotationdefaults\":{\"arrowcolor\":\"#f2f5fa\",\"arrowhead\":0,\"arrowwidth\":1},\"autotypenumbers\":\"strict\",\"coloraxis\":{\"colorbar\":{\"outlinewidth\":0,\"ticks\":\"\"}},\"colorscale\":{\"diverging\":[[0,\"#8e0152\"],[0.1,\"#c51b7d\"],[0.2,\"#de77ae\"],[0.3,\"#f1b6da\"],[0.4,\"#fde0ef\"],[0.5,\"#f7f7f7\"],[0.6,\"#e6f5d0\"],[0.7,\"#b8e186\"],[0.8,\"#7fbc41\"],[0.9,\"#4d9221\"],[1,\"#276419\"]],\"sequential\":[[0.0,\"#0d0887\"],[0.1111111111111111,\"#46039f\"],[0.2222222222222222,\"#7201a8\"],[0.3333333333333333,\"#9c179e\"],[0.4444444444444444,\"#bd3786\"],[0.5555555555555556,\"#d8576b\"],[0.6666666666666666,\"#ed7953\"],[0.7777777777777778,\"#fb9f3a\"],[0.8888888888888888,\"#fdca26\"],[1.0,\"#f0f921\"]],\"sequentialminus\":[[0.0,\"#0d0887\"],[0.1111111111111111,\"#46039f\"],[0.2222222222222222,\"#7201a8\"],[0.3333333333333333,\"#9c179e\"],[0.4444444444444444,\"#bd3786\"],[0.5555555555555556,\"#d8576b\"],[0.6666666666666666,\"#ed7953\"],[0.7777777777777778,\"#fb9f3a\"],[0.8888888888888888,\"#fdca26\"],[1.0,\"#f0f921\"]]},\"colorway\":[\"#636efa\",\"#EF553B\",\"#00cc96\",\"#ab63fa\",\"#FFA15A\",\"#19d3f3\",\"#FF6692\",\"#B6E880\",\"#FF97FF\",\"#FECB52\"],\"font\":{\"color\":\"#f2f5fa\"},\"geo\":{\"bgcolor\":\"rgb(17,17,17)\",\"lakecolor\":\"rgb(17,17,17)\",\"landcolor\":\"rgb(17,17,17)\",\"showlakes\":true,\"showland\":true,\"subunitcolor\":\"#506784\"},\"hoverlabel\":{\"align\":\"left\"},\"hovermode\":\"closest\",\"mapbox\":{\"style\":\"dark\"},\"paper_bgcolor\":\"rgb(17,17,17)\",\"plot_bgcolor\":\"rgb(17,17,17)\",\"polar\":{\"angularaxis\":{\"gridcolor\":\"#506784\",\"linecolor\":\"#506784\",\"ticks\":\"\"},\"bgcolor\":\"rgb(17,17,17)\",\"radialaxis\":{\"gridcolor\":\"#506784\",\"linecolor\":\"#506784\",\"ticks\":\"\"}},\"scene\":{\"xaxis\":{\"backgroundcolor\":\"rgb(17,17,17)\",\"gridcolor\":\"#506784\",\"gridwidth\":2,\"linecolor\":\"#506784\",\"showbackground\":true,\"ticks\":\"\",\"zerolinecolor\":\"#C8D4E3\"},\"yaxis\":{\"backgroundcolor\":\"rgb(17,17,17)\",\"gridcolor\":\"#506784\",\"gridwidth\":2,\"linecolor\":\"#506784\",\"showbackground\":true,\"ticks\":\"\",\"zerolinecolor\":\"#C8D4E3\"},\"zaxis\":{\"backgroundcolor\":\"rgb(17,17,17)\",\"gridcolor\":\"#506784\",\"gridwidth\":2,\"linecolor\":\"#506784\",\"showbackground\":true,\"ticks\":\"\",\"zerolinecolor\":\"#C8D4E3\"}},\"shapedefaults\":{\"line\":{\"color\":\"#f2f5fa\"}},\"sliderdefaults\":{\"bgcolor\":\"#C8D4E3\",\"bordercolor\":\"rgb(17,17,17)\",\"borderwidth\":1,\"tickwidth\":0},\"ternary\":{\"aaxis\":{\"gridcolor\":\"#506784\",\"linecolor\":\"#506784\",\"ticks\":\"\"},\"baxis\":{\"gridcolor\":\"#506784\",\"linecolor\":\"#506784\",\"ticks\":\"\"},\"bgcolor\":\"rgb(17,17,17)\",\"caxis\":{\"gridcolor\":\"#506784\",\"linecolor\":\"#506784\",\"ticks\":\"\"}},\"title\":{\"x\":0.05},\"updatemenudefaults\":{\"bgcolor\":\"#506784\",\"borderwidth\":0},\"xaxis\":{\"automargin\":true,\"gridcolor\":\"#283442\",\"linecolor\":\"#506784\",\"ticks\":\"\",\"title\":{\"standoff\":15},\"zerolinecolor\":\"#283442\",\"zerolinewidth\":2},\"yaxis\":{\"automargin\":true,\"gridcolor\":\"#283442\",\"linecolor\":\"#506784\",\"ticks\":\"\",\"title\":{\"standoff\":15},\"zerolinecolor\":\"#283442\",\"zerolinewidth\":2}}},\"xaxis\":{\"anchor\":\"y\",\"domain\":[0.0,1.0],\"title\":{\"text\":\"age\"}},\"yaxis\":{\"anchor\":\"x\",\"domain\":[0.0,1.0],\"title\":{\"text\":\"count\"}},\"legend\":{\"title\":{\"text\":\"children\"},\"tracegroupgap\":0},\"title\":{\"text\":\"Let's visualize the which age persons have most children\"},\"barmode\":\"relative\",\"bargap\":0.5,\"plot_bgcolor\":\"gray\"},                        {\"responsive\": true}                    ).then(function(){\n",
              "                            \n",
              "var gd = document.getElementById('bc60428e-a192-4f1f-86a2-282df8dd5bf1');\n",
              "var x = new MutationObserver(function (mutations, observer) {{\n",
              "        var display = window.getComputedStyle(gd).display;\n",
              "        if (!display || display === 'none') {{\n",
              "            console.log([gd, 'removed!']);\n",
              "            Plotly.purge(gd);\n",
              "            observer.disconnect();\n",
              "        }}\n",
              "}});\n",
              "\n",
              "// Listen for the removal of the full notebook cells\n",
              "var notebookContainer = gd.closest('#notebook-container');\n",
              "if (notebookContainer) {{\n",
              "    x.observe(notebookContainer, {childList: true});\n",
              "}}\n",
              "\n",
              "// Listen for the clearing of the current output cell\n",
              "var outputEl = gd.closest('.output');\n",
              "if (outputEl) {{\n",
              "    x.observe(outputEl, {childList: true});\n",
              "}}\n",
              "\n",
              "                        })                };                            </script>        </div>\n",
              "</body>\n",
              "</html>"
            ]
          },
          "metadata": {}
        }
      ],
      "source": [
        "#So let's visualize the above data using the plotly \n",
        "fig=px.histogram(children,color='children',x='age',title=\"Let's visualize the which age persons have most children\")\n",
        "fig.update_layout(bargap=0.5,plot_bgcolor='gray',template = \"plotly_dark\",)\n",
        "fig.show()"
      ]
    },
    {
      "cell_type": "markdown",
      "id": "5228becf",
      "metadata": {
        "id": "5228becf"
      },
      "source": [
        "# Observation\n",
        "1.From the above data we observe the the age between 15-19 and 50-54 ages persons have 5 children"
      ]
    },
    {
      "cell_type": "code",
      "execution_count": 13,
      "id": "f583f60d",
      "metadata": {
        "id": "f583f60d",
        "outputId": "1809614a-2de0-4abb-921c-4a86d44d0ca4",
        "colab": {
          "base_uri": "https://localhost:8080/",
          "height": 499
        }
      },
      "outputs": [
        {
          "output_type": "display_data",
          "data": {
            "text/plain": [
              "<Figure size 1152x576 with 1 Axes>"
            ],
            "image/png": "[encoded data removed]"
          },
          "metadata": {}
        }
      ],
      "source": [
        "#Let's find the gender ratio on the dataset using the pie chart\n",
        "gender=data['sex'].value_counts()\n",
        "#Let's visualize the above data using the pie chart\n",
        "gender.plot(kind='pie',autopct='%1.2f%%',colors=['yellow','blue'])\n",
        "#Set the title fontsize and fontweights\n",
        "plt.title(\"The Gender ration in the dataset\",fontsize=35,fontweight='bold')\n",
        "#let's visualize the plot\n",
        "plt.show()"
      ]
    },
    {
      "cell_type": "code",
      "execution_count": 14,
      "id": "13b65933",
      "metadata": {
        "id": "13b65933",
        "outputId": "21c05e7e-7701-4d53-d675-3785c4d73d30",
        "colab": {
          "base_uri": "https://localhost:8080/",
          "height": 542
        }
      },
      "outputs": [
        {
          "output_type": "display_data",
          "data": {
            "text/html": [
              "<html>\n",
              "<head><meta charset=\"utf-8\" /></head>\n",
              "<body>\n",
              "    <div>            <script src=\"https://cdnjs.cloudflare.com/ajax/libs/mathjax/2.7.5/MathJax.js?config=TeX-AMS-MML_SVG\"></script><script type=\"text/javascript\">if (window.MathJax) {MathJax.Hub.Config({SVG: {font: \"STIX-Web\"}});}</script>                <script type=\"text/javascript\">window.PlotlyConfig = {MathJaxConfig: 'local'};</script>\n",
              "        <script src=\"https://cdn.plot.ly/plotly-2.8.3.min.js\"></script>                <div id=\"d0f5074b-015a-4c38-9856-c450cd999c68\" class=\"plotly-graph-div\" style=\"height:525px; width:100%;\"></div>            <script type=\"text/javascript\">                                    window.PLOTLYENV=window.PLOTLYENV || {};                                    if (document.getElementById(\"d0f5074b-015a-4c38-9856-c450cd999c68\")) {                    Plotly.newPlot(                        \"d0f5074b-015a-4c38-9856-c450cd999c68\",                        [{\"domain\":{\"x\":[0.0,1.0],\"y\":[0.0,1.0]},\"hovertemplate\":\"sex=%{label}<extra></extra>\",\"labels\":[\"female\",\"male\",\"male\",\"male\",\"male\",\"female\",\"female\",\"female\",\"male\",\"female\",\"male\",\"female\",\"male\",\"female\",\"male\",\"male\",\"female\",\"male\",\"male\",\"male\",\"female\",\"female\",\"male\",\"female\",\"male\",\"female\",\"female\",\"female\",\"male\",\"male\",\"male\",\"female\",\"female\",\"male\",\"male\",\"male\",\"female\",\"male\",\"male\",\"male\",\"female\",\"female\",\"male\",\"female\",\"male\",\"male\",\"female\",\"female\",\"female\",\"male\",\"female\",\"female\",\"male\",\"male\",\"female\",\"male\",\"female\",\"male\",\"female\",\"female\",\"male\",\"male\",\"male\",\"female\",\"female\",\"female\",\"female\",\"male\",\"female\",\"male\",\"female\",\"male\",\"female\",\"male\",\"male\",\"male\",\"female\",\"male\",\"female\",\"female\",\"male\",\"female\",\"male\",\"female\",\"female\",\"male\",\"female\",\"female\",\"female\",\"female\",\"female\",\"female\",\"male\",\"male\",\"female\",\"female\",\"female\",\"male\",\"male\",\"male\",\"female\",\"male\",\"female\",\"female\",\"female\",\"male\",\"female\",\"male\",\"male\",\"male\",\"male\",\"female\",\"male\",\"female\",\"male\",\"male\",\"male\",\"female\",\"female\",\"female\",\"male\",\"male\",\"female\",\"male\",\"female\",\"female\",\"female\",\"female\",\"female\",\"male\",\"female\",\"female\",\"female\",\"male\",\"female\",\"female\",\"male\",\"male\",\"female\",\"female\",\"male\",\"male\",\"male\",\"male\",\"male\",\"female\",\"male\",\"female\",\"female\",\"male\",\"male\",\"male\",\"female\",\"female\",\"female\",\"male\",\"male\",\"male\",\"male\",\"female\",\"female\",\"female\",\"male\",\"female\",\"male\",\"male\",\"female\",\"female\",\"female\",\"male\",\"male\",\"male\",\"male\",\"female\",\"female\",\"female\",\"male\",\"male\",\"female\",\"female\",\"male\",\"female\",\"male\",\"female\",\"male\",\"male\",\"female\",\"female\",\"female\",\"female\",\"male\",\"female\",\"male\",\"female\",\"male\",\"male\",\"female\",\"female\",\"female\",\"female\",\"female\",\"female\",\"female\",\"female\",\"male\",\"female\",\"male\",\"male\",\"female\",\"male\",\"male\",\"male\",\"male\",\"female\",\"female\",\"female\",\"female\",\"male\",\"female\",\"female\",\"female\",\"female\",\"male\",\"male\",\"male\",\"male\",\"male\",\"female\",\"female\",\"male\",\"female\",\"female\",\"female\",\"male\",\"male\",\"female\",\"female\",\"male\",\"male\",\"male\",\"female\",\"female\",\"female\",\"male\",\"female\",\"male\",\"female\",\"male\",\"male\",\"male\",\"male\",\"female\",\"male\",\"male\",\"male\",\"female\",\"male\",\"female\",\"male\",\"male\",\"female\",\"female\",\"male\",\"male\",\"female\",\"male\",\"male\",\"female\",\"male\",\"male\",\"male\",\"male\",\"male\",\"male\",\"male\",\"female\",\"male\",\"female\",\"male\",\"female\",\"female\",\"male\",\"male\",\"female\",\"female\",\"male\",\"female\",\"female\",\"female\",\"male\",\"female\",\"male\",\"male\",\"female\",\"male\",\"male\",\"male\",\"male\",\"male\",\"female\",\"male\",\"female\",\"female\",\"female\",\"female\",\"male\",\"female\",\"female\",\"male\",\"female\",\"male\",\"female\",\"male\",\"male\",\"female\",\"male\",\"male\",\"male\",\"female\",\"male\",\"male\",\"female\",\"male\",\"male\",\"male\",\"male\",\"female\",\"male\",\"female\",\"male\",\"female\",\"male\",\"female\",\"female\",\"female\",\"male\",\"male\",\"male\",\"male\",\"female\",\"female\",\"male\",\"female\",\"male\",\"female\",\"female\",\"male\",\"male\",\"female\",\"male\",\"female\",\"female\",\"female\",\"male\",\"female\",\"male\",\"male\",\"male\",\"male\",\"female\",\"female\",\"male\",\"female\",\"female\",\"female\",\"female\",\"female\",\"female\",\"male\",\"male\",\"female\",\"female\",\"female\",\"male\",\"male\",\"female\",\"female\",\"male\",\"female\",\"male\",\"female\",\"male\",\"male\",\"female\",\"male\",\"male\",\"female\",\"male\",\"female\",\"female\",\"male\",\"female\",\"male\",\"male\",\"female\",\"male\",\"female\",\"male\",\"male\",\"female\",\"female\",\"male\",\"female\",\"male\",\"male\",\"female\",\"female\",\"female\",\"male\",\"male\",\"male\",\"female\",\"female\",\"male\",\"female\",\"female\",\"male\",\"female\",\"male\",\"female\",\"male\",\"male\",\"male\",\"male\",\"male\",\"male\",\"female\",\"female\",\"female\",\"female\",\"male\",\"female\",\"male\",\"female\",\"male\",\"male\",\"male\",\"male\",\"female\",\"male\",\"female\",\"female\",\"male\",\"female\",\"male\",\"female\",\"male\",\"female\",\"female\",\"male\",\"male\",\"male\",\"male\",\"male\",\"male\",\"male\",\"female\",\"female\",\"male\",\"female\",\"female\",\"male\",\"female\",\"male\",\"male\",\"female\",\"female\",\"female\",\"female\",\"female\",\"male\",\"female\",\"female\",\"female\",\"male\",\"male\",\"male\",\"male\",\"male\",\"male\",\"male\",\"male\",\"female\",\"female\",\"male\",\"female\",\"female\",\"male\",\"female\",\"male\",\"female\",\"female\",\"female\",\"male\",\"male\",\"male\",\"female\",\"male\",\"female\",\"female\",\"male\",\"male\",\"male\",\"male\",\"female\",\"male\",\"male\",\"male\",\"female\",\"female\",\"male\",\"male\",\"male\",\"male\",\"male\",\"male\",\"male\",\"male\",\"female\",\"male\",\"female\",\"female\",\"female\",\"female\",\"male\",\"female\",\"female\",\"female\",\"male\",\"male\",\"male\",\"female\",\"male\",\"male\",\"male\",\"male\",\"female\",\"female\",\"female\",\"male\",\"female\",\"female\",\"female\",\"female\",\"male\",\"male\",\"male\",\"female\",\"female\",\"female\",\"male\",\"female\",\"male\",\"female\",\"female\",\"male\",\"male\",\"male\",\"female\",\"male\",\"female\",\"female\",\"male\",\"male\",\"female\",\"female\",\"female\",\"male\",\"female\",\"male\",\"female\",\"female\",\"female\",\"female\",\"female\",\"female\",\"male\",\"female\",\"male\",\"female\",\"male\",\"male\",\"male\",\"female\",\"male\",\"female\",\"male\",\"female\",\"female\",\"female\",\"female\",\"male\",\"male\",\"female\",\"male\",\"female\",\"female\",\"female\",\"male\",\"female\",\"female\",\"male\",\"female\",\"female\",\"female\",\"female\",\"female\",\"female\",\"male\",\"male\",\"female\",\"female\",\"female\",\"female\",\"female\",\"female\",\"female\",\"male\",\"female\",\"female\",\"male\",\"male\",\"female\",\"male\",\"male\",\"female\",\"male\",\"male\",\"male\",\"female\",\"male\",\"male\",\"female\",\"male\",\"male\",\"male\",\"female\",\"female\",\"male\",\"male\",\"male\",\"male\",\"male\",\"female\",\"male\",\"male\",\"male\",\"female\",\"male\",\"female\",\"female\",\"female\",\"female\",\"female\",\"female\",\"female\",\"female\",\"male\",\"female\",\"female\",\"male\",\"female\",\"female\",\"male\",\"female\",\"male\",\"male\",\"female\",\"male\",\"female\",\"male\",\"female\",\"male\",\"female\",\"female\",\"male\",\"female\",\"male\",\"male\",\"female\",\"female\",\"male\",\"male\",\"male\",\"female\",\"male\",\"male\",\"male\",\"female\",\"male\",\"male\",\"male\",\"male\",\"male\",\"female\",\"female\",\"female\",\"male\",\"male\",\"female\",\"female\",\"female\",\"male\",\"female\",\"female\",\"female\",\"female\",\"male\",\"female\",\"female\",\"male\",\"female\",\"female\",\"male\",\"female\",\"male\",\"female\",\"male\",\"female\",\"female\",\"female\",\"male\",\"male\",\"male\",\"female\",\"female\",\"male\",\"female\",\"female\",\"female\",\"male\",\"male\",\"female\",\"female\",\"female\",\"female\",\"female\",\"male\",\"male\",\"male\",\"male\",\"male\",\"male\",\"female\",\"male\",\"female\",\"male\",\"male\",\"female\",\"male\",\"female\",\"male\",\"male\",\"female\",\"male\",\"male\",\"female\",\"female\",\"male\",\"male\",\"female\",\"male\",\"male\",\"male\",\"female\",\"female\",\"male\",\"female\",\"female\",\"female\",\"male\",\"female\",\"female\",\"female\",\"male\",\"male\",\"male\",\"male\",\"male\",\"male\",\"male\",\"male\",\"male\",\"female\",\"female\",\"female\",\"male\",\"male\",\"male\",\"female\",\"female\",\"male\",\"female\",\"male\",\"female\",\"male\",\"male\",\"female\",\"female\",\"male\",\"female\",\"female\",\"male\",\"female\",\"male\",\"female\",\"female\",\"female\",\"male\",\"male\",\"female\",\"female\",\"male\",\"male\",\"male\",\"female\",\"female\",\"male\",\"female\",\"female\",\"male\",\"male\",\"female\",\"female\",\"male\",\"female\",\"male\",\"male\",\"male\",\"male\",\"male\",\"female\",\"female\",\"male\",\"male\",\"male\",\"male\",\"female\",\"female\",\"female\",\"male\",\"male\",\"female\",\"female\",\"male\",\"female\",\"female\",\"male\",\"female\",\"male\",\"female\",\"male\",\"female\",\"female\",\"female\",\"female\",\"female\",\"male\",\"female\",\"male\",\"female\",\"female\",\"female\",\"female\",\"male\",\"male\",\"male\",\"male\",\"male\",\"female\",\"male\",\"female\",\"male\",\"male\",\"male\",\"female\",\"female\",\"male\",\"male\",\"female\",\"male\",\"male\",\"female\",\"female\",\"male\",\"male\",\"male\",\"female\",\"male\",\"male\",\"female\",\"female\",\"male\",\"male\",\"male\",\"female\",\"female\",\"male\",\"female\",\"female\",\"male\",\"male\",\"male\",\"male\",\"female\",\"female\",\"male\",\"female\",\"male\",\"female\",\"male\",\"male\",\"female\",\"female\",\"male\",\"female\",\"female\",\"male\",\"female\",\"female\",\"female\",\"female\",\"male\",\"male\",\"male\",\"male\",\"female\",\"female\",\"female\",\"male\",\"male\",\"female\",\"male\",\"female\",\"male\",\"female\",\"male\",\"female\",\"male\",\"male\",\"male\",\"female\",\"female\",\"male\",\"male\",\"female\",\"male\",\"male\",\"male\",\"male\",\"male\",\"male\",\"female\",\"male\",\"male\",\"male\",\"male\",\"male\",\"male\",\"male\",\"female\",\"female\",\"female\",\"male\",\"male\",\"male\",\"male\",\"male\",\"male\",\"female\",\"female\",\"female\",\"female\",\"female\",\"male\",\"male\",\"male\",\"male\",\"female\",\"female\",\"male\",\"male\",\"male\",\"female\",\"male\",\"female\",\"male\",\"female\",\"male\",\"female\",\"female\",\"female\",\"female\",\"male\",\"female\",\"female\",\"female\",\"female\",\"female\",\"female\",\"male\",\"male\",\"male\",\"male\",\"male\",\"male\",\"male\",\"male\",\"male\",\"male\",\"female\",\"male\",\"female\",\"male\",\"female\",\"male\",\"female\",\"female\",\"female\",\"female\",\"male\",\"female\",\"male\",\"male\",\"female\",\"female\",\"male\",\"male\",\"male\",\"female\",\"female\",\"female\",\"female\",\"male\",\"male\",\"female\",\"male\",\"female\",\"male\",\"male\",\"female\",\"male\",\"male\",\"female\",\"male\",\"female\",\"female\",\"male\",\"female\",\"male\",\"female\",\"male\",\"male\",\"male\",\"female\",\"male\",\"female\",\"female\",\"female\",\"male\",\"male\",\"male\",\"male\",\"male\",\"female\",\"female\",\"male\",\"male\",\"male\",\"female\",\"male\",\"male\",\"male\",\"female\",\"female\",\"female\",\"female\",\"male\",\"male\",\"male\",\"male\",\"male\",\"male\",\"male\",\"female\",\"female\",\"male\",\"male\",\"male\",\"male\",\"male\",\"female\",\"male\",\"female\",\"female\",\"female\",\"female\",\"male\",\"female\",\"female\",\"female\",\"male\",\"male\",\"male\",\"male\",\"female\",\"female\",\"female\",\"male\",\"male\",\"female\",\"male\",\"female\",\"female\",\"male\",\"male\",\"male\",\"male\",\"male\",\"female\",\"female\",\"male\",\"female\",\"female\",\"female\",\"female\",\"male\",\"female\",\"male\",\"female\",\"female\",\"male\",\"male\",\"female\",\"male\",\"female\",\"female\",\"female\",\"male\",\"female\",\"male\",\"female\",\"female\",\"male\",\"male\",\"male\",\"male\",\"female\",\"male\",\"male\",\"female\",\"female\",\"female\",\"female\",\"female\",\"female\",\"male\",\"female\",\"female\",\"female\",\"female\",\"male\",\"male\",\"female\",\"female\",\"female\",\"male\",\"female\",\"male\",\"female\",\"male\",\"female\",\"female\",\"male\",\"male\",\"female\",\"female\",\"female\",\"female\",\"male\",\"female\",\"female\",\"female\",\"female\",\"female\",\"male\",\"male\",\"female\",\"female\",\"female\",\"female\",\"female\",\"female\",\"female\",\"female\",\"female\",\"female\",\"male\",\"male\",\"female\",\"male\",\"male\",\"male\",\"male\",\"female\",\"male\",\"female\",\"male\",\"female\",\"male\",\"male\",\"male\",\"male\",\"female\",\"female\",\"male\",\"male\",\"male\",\"female\",\"female\",\"female\",\"male\",\"male\",\"female\",\"male\",\"female\",\"male\",\"male\",\"male\",\"male\",\"male\",\"female\",\"female\",\"male\",\"female\",\"male\",\"female\",\"female\",\"male\",\"female\",\"male\",\"male\",\"female\",\"female\",\"male\",\"male\",\"female\",\"male\",\"female\",\"male\",\"male\",\"male\",\"male\",\"female\",\"female\",\"female\",\"female\",\"female\",\"male\",\"female\",\"female\",\"male\",\"female\",\"female\",\"female\",\"male\",\"female\",\"male\",\"female\",\"male\",\"male\",\"female\",\"male\",\"male\",\"male\",\"male\",\"female\",\"female\",\"male\",\"female\",\"female\",\"female\",\"female\",\"male\",\"male\",\"female\",\"female\",\"female\",\"male\",\"male\",\"female\",\"male\",\"male\",\"male\",\"male\",\"male\",\"male\",\"female\",\"male\",\"female\",\"male\",\"male\",\"female\",\"male\",\"male\",\"female\",\"female\",\"male\",\"female\",\"male\",\"male\",\"female\",\"male\",\"female\",\"female\",\"male\",\"female\",\"male\",\"male\",\"female\",\"male\",\"male\",\"male\",\"female\",\"male\",\"male\",\"female\",\"male\",\"female\",\"male\",\"female\",\"female\",\"female\",\"male\",\"female\",\"female\",\"female\",\"female\"],\"legendgroup\":\"\",\"name\":\"\",\"showlegend\":true,\"type\":\"pie\"}],                        {\"template\":{\"data\":{\"bar\":[{\"error_x\":{\"color\":\"#2a3f5f\"},\"error_y\":{\"color\":\"#2a3f5f\"},\"marker\":{\"line\":{\"color\":\"#E5ECF6\",\"width\":0.5},\"pattern\":{\"fillmode\":\"overlay\",\"size\":10,\"solidity\":0.2}},\"type\":\"bar\"}],\"barpolar\":[{\"marker\":{\"line\":{\"color\":\"#E5ECF6\",\"width\":0.5},\"pattern\":{\"fillmode\":\"overlay\",\"size\":10,\"solidity\":0.2}},\"type\":\"barpolar\"}],\"carpet\":[{\"aaxis\":{\"endlinecolor\":\"#2a3f5f\",\"gridcolor\":\"white\",\"linecolor\":\"white\",\"minorgridcolor\":\"white\",\"startlinecolor\":\"#2a3f5f\"},\"baxis\":{\"endlinecolor\":\"#2a3f5f\",\"gridcolor\":\"white\",\"linecolor\":\"white\",\"minorgridcolor\":\"white\",\"startlinecolor\":\"#2a3f5f\"},\"type\":\"carpet\"}],\"choropleth\":[{\"colorbar\":{\"outlinewidth\":0,\"ticks\":\"\"},\"type\":\"choropleth\"}],\"contour\":[{\"colorbar\":{\"outlinewidth\":0,\"ticks\":\"\"},\"colorscale\":[[0.0,\"#0d0887\"],[0.1111111111111111,\"#46039f\"],[0.2222222222222222,\"#7201a8\"],[0.3333333333333333,\"#9c179e\"],[0.4444444444444444,\"#bd3786\"],[0.5555555555555556,\"#d8576b\"],[0.6666666666666666,\"#ed7953\"],[0.7777777777777778,\"#fb9f3a\"],[0.8888888888888888,\"#fdca26\"],[1.0,\"#f0f921\"]],\"type\":\"contour\"}],\"contourcarpet\":[{\"colorbar\":{\"outlinewidth\":0,\"ticks\":\"\"},\"type\":\"contourcarpet\"}],\"heatmap\":[{\"colorbar\":{\"outlinewidth\":0,\"ticks\":\"\"},\"colorscale\":[[0.0,\"#0d0887\"],[0.1111111111111111,\"#46039f\"],[0.2222222222222222,\"#7201a8\"],[0.3333333333333333,\"#9c179e\"],[0.4444444444444444,\"#bd3786\"],[0.5555555555555556,\"#d8576b\"],[0.6666666666666666,\"#ed7953\"],[0.7777777777777778,\"#fb9f3a\"],[0.8888888888888888,\"#fdca26\"],[1.0,\"#f0f921\"]],\"type\":\"heatmap\"}],\"heatmapgl\":[{\"colorbar\":{\"outlinewidth\":0,\"ticks\":\"\"},\"colorscale\":[[0.0,\"#0d0887\"],[0.1111111111111111,\"#46039f\"],[0.2222222222222222,\"#7201a8\"],[0.3333333333333333,\"#9c179e\"],[0.4444444444444444,\"#bd3786\"],[0.5555555555555556,\"#d8576b\"],[0.6666666666666666,\"#ed7953\"],[0.7777777777777778,\"#fb9f3a\"],[0.8888888888888888,\"#fdca26\"],[1.0,\"#f0f921\"]],\"type\":\"heatmapgl\"}],\"histogram\":[{\"marker\":{\"pattern\":{\"fillmode\":\"overlay\",\"size\":10,\"solidity\":0.2}},\"type\":\"histogram\"}],\"histogram2d\":[{\"colorbar\":{\"outlinewidth\":0,\"ticks\":\"\"},\"colorscale\":[[0.0,\"#0d0887\"],[0.1111111111111111,\"#46039f\"],[0.2222222222222222,\"#7201a8\"],[0.3333333333333333,\"#9c179e\"],[0.4444444444444444,\"#bd3786\"],[0.5555555555555556,\"#d8576b\"],[0.6666666666666666,\"#ed7953\"],[0.7777777777777778,\"#fb9f3a\"],[0.8888888888888888,\"#fdca26\"],[1.0,\"#f0f921\"]],\"type\":\"histogram2d\"}],\"histogram2dcontour\":[{\"colorbar\":{\"outlinewidth\":0,\"ticks\":\"\"},\"colorscale\":[[0.0,\"#0d0887\"],[0.1111111111111111,\"#46039f\"],[0.2222222222222222,\"#7201a8\"],[0.3333333333333333,\"#9c179e\"],[0.4444444444444444,\"#bd3786\"],[0.5555555555555556,\"#d8576b\"],[0.6666666666666666,\"#ed7953\"],[0.7777777777777778,\"#fb9f3a\"],[0.8888888888888888,\"#fdca26\"],[1.0,\"#f0f921\"]],\"type\":\"histogram2dcontour\"}],\"mesh3d\":[{\"colorbar\":{\"outlinewidth\":0,\"ticks\":\"\"},\"type\":\"mesh3d\"}],\"parcoords\":[{\"line\":{\"colorbar\":{\"outlinewidth\":0,\"ticks\":\"\"}},\"type\":\"parcoords\"}],\"pie\":[{\"automargin\":true,\"type\":\"pie\"}],\"scatter\":[{\"marker\":{\"colorbar\":{\"outlinewidth\":0,\"ticks\":\"\"}},\"type\":\"scatter\"}],\"scatter3d\":[{\"line\":{\"colorbar\":{\"outlinewidth\":0,\"ticks\":\"\"}},\"marker\":{\"colorbar\":{\"outlinewidth\":0,\"ticks\":\"\"}},\"type\":\"scatter3d\"}],\"scattercarpet\":[{\"marker\":{\"colorbar\":{\"outlinewidth\":0,\"ticks\":\"\"}},\"type\":\"scattercarpet\"}],\"scattergeo\":[{\"marker\":{\"colorbar\":{\"outlinewidth\":0,\"ticks\":\"\"}},\"type\":\"scattergeo\"}],\"scattergl\":[{\"marker\":{\"colorbar\":{\"outlinewidth\":0,\"ticks\":\"\"}},\"type\":\"scattergl\"}],\"scattermapbox\":[{\"marker\":{\"colorbar\":{\"outlinewidth\":0,\"ticks\":\"\"}},\"type\":\"scattermapbox\"}],\"scatterpolar\":[{\"marker\":{\"colorbar\":{\"outlinewidth\":0,\"ticks\":\"\"}},\"type\":\"scatterpolar\"}],\"scatterpolargl\":[{\"marker\":{\"colorbar\":{\"outlinewidth\":0,\"ticks\":\"\"}},\"type\":\"scatterpolargl\"}],\"scatterternary\":[{\"marker\":{\"colorbar\":{\"outlinewidth\":0,\"ticks\":\"\"}},\"type\":\"scatterternary\"}],\"surface\":[{\"colorbar\":{\"outlinewidth\":0,\"ticks\":\"\"},\"colorscale\":[[0.0,\"#0d0887\"],[0.1111111111111111,\"#46039f\"],[0.2222222222222222,\"#7201a8\"],[0.3333333333333333,\"#9c179e\"],[0.4444444444444444,\"#bd3786\"],[0.5555555555555556,\"#d8576b\"],[0.6666666666666666,\"#ed7953\"],[0.7777777777777778,\"#fb9f3a\"],[0.8888888888888888,\"#fdca26\"],[1.0,\"#f0f921\"]],\"type\":\"surface\"}],\"table\":[{\"cells\":{\"fill\":{\"color\":\"#EBF0F8\"},\"line\":{\"color\":\"white\"}},\"header\":{\"fill\":{\"color\":\"#C8D4E3\"},\"line\":{\"color\":\"white\"}},\"type\":\"table\"}]},\"layout\":{\"annotationdefaults\":{\"arrowcolor\":\"#2a3f5f\",\"arrowhead\":0,\"arrowwidth\":1},\"autotypenumbers\":\"strict\",\"coloraxis\":{\"colorbar\":{\"outlinewidth\":0,\"ticks\":\"\"}},\"colorscale\":{\"diverging\":[[0,\"#8e0152\"],[0.1,\"#c51b7d\"],[0.2,\"#de77ae\"],[0.3,\"#f1b6da\"],[0.4,\"#fde0ef\"],[0.5,\"#f7f7f7\"],[0.6,\"#e6f5d0\"],[0.7,\"#b8e186\"],[0.8,\"#7fbc41\"],[0.9,\"#4d9221\"],[1,\"#276419\"]],\"sequential\":[[0.0,\"#0d0887\"],[0.1111111111111111,\"#46039f\"],[0.2222222222222222,\"#7201a8\"],[0.3333333333333333,\"#9c179e\"],[0.4444444444444444,\"#bd3786\"],[0.5555555555555556,\"#d8576b\"],[0.6666666666666666,\"#ed7953\"],[0.7777777777777778,\"#fb9f3a\"],[0.8888888888888888,\"#fdca26\"],[1.0,\"#f0f921\"]],\"sequentialminus\":[[0.0,\"#0d0887\"],[0.1111111111111111,\"#46039f\"],[0.2222222222222222,\"#7201a8\"],[0.3333333333333333,\"#9c179e\"],[0.4444444444444444,\"#bd3786\"],[0.5555555555555556,\"#d8576b\"],[0.6666666666666666,\"#ed7953\"],[0.7777777777777778,\"#fb9f3a\"],[0.8888888888888888,\"#fdca26\"],[1.0,\"#f0f921\"]]},\"colorway\":[\"#636efa\",\"#EF553B\",\"#00cc96\",\"#ab63fa\",\"#FFA15A\",\"#19d3f3\",\"#FF6692\",\"#B6E880\",\"#FF97FF\",\"#FECB52\"],\"font\":{\"color\":\"#2a3f5f\"},\"geo\":{\"bgcolor\":\"white\",\"lakecolor\":\"white\",\"landcolor\":\"#E5ECF6\",\"showlakes\":true,\"showland\":true,\"subunitcolor\":\"white\"},\"hoverlabel\":{\"align\":\"left\"},\"hovermode\":\"closest\",\"mapbox\":{\"style\":\"light\"},\"paper_bgcolor\":\"white\",\"plot_bgcolor\":\"#E5ECF6\",\"polar\":{\"angularaxis\":{\"gridcolor\":\"white\",\"linecolor\":\"white\",\"ticks\":\"\"},\"bgcolor\":\"#E5ECF6\",\"radialaxis\":{\"gridcolor\":\"white\",\"linecolor\":\"white\",\"ticks\":\"\"}},\"scene\":{\"xaxis\":{\"backgroundcolor\":\"#E5ECF6\",\"gridcolor\":\"white\",\"gridwidth\":2,\"linecolor\":\"white\",\"showbackground\":true,\"ticks\":\"\",\"zerolinecolor\":\"white\"},\"yaxis\":{\"backgroundcolor\":\"#E5ECF6\",\"gridcolor\":\"white\",\"gridwidth\":2,\"linecolor\":\"white\",\"showbackground\":true,\"ticks\":\"\",\"zerolinecolor\":\"white\"},\"zaxis\":{\"backgroundcolor\":\"#E5ECF6\",\"gridcolor\":\"white\",\"gridwidth\":2,\"linecolor\":\"white\",\"showbackground\":true,\"ticks\":\"\",\"zerolinecolor\":\"white\"}},\"shapedefaults\":{\"line\":{\"color\":\"#2a3f5f\"}},\"ternary\":{\"aaxis\":{\"gridcolor\":\"white\",\"linecolor\":\"white\",\"ticks\":\"\"},\"baxis\":{\"gridcolor\":\"white\",\"linecolor\":\"white\",\"ticks\":\"\"},\"bgcolor\":\"#E5ECF6\",\"caxis\":{\"gridcolor\":\"white\",\"linecolor\":\"white\",\"ticks\":\"\"}},\"title\":{\"x\":0.05},\"xaxis\":{\"automargin\":true,\"gridcolor\":\"white\",\"linecolor\":\"white\",\"ticks\":\"\",\"title\":{\"standoff\":15},\"zerolinecolor\":\"white\",\"zerolinewidth\":2},\"yaxis\":{\"automargin\":true,\"gridcolor\":\"white\",\"linecolor\":\"white\",\"ticks\":\"\",\"title\":{\"standoff\":15},\"zerolinecolor\":\"white\",\"zerolinewidth\":2}}},\"legend\":{\"tracegroupgap\":0},\"title\":{\"text\":\"The gender percentage in the dataset\"},\"bargap\":0.5,\"plot_bgcolor\":\"lightgreen\"},                        {\"responsive\": true}                    ).then(function(){\n",
              "                            \n",
              "var gd = document.getElementById('d0f5074b-015a-4c38-9856-c450cd999c68');\n",
              "var x = new MutationObserver(function (mutations, observer) {{\n",
              "        var display = window.getComputedStyle(gd).display;\n",
              "        if (!display || display === 'none') {{\n",
              "            console.log([gd, 'removed!']);\n",
              "            Plotly.purge(gd);\n",
              "            observer.disconnect();\n",
              "        }}\n",
              "}});\n",
              "\n",
              "// Listen for the removal of the full notebook cells\n",
              "var notebookContainer = gd.closest('#notebook-container');\n",
              "if (notebookContainer) {{\n",
              "    x.observe(notebookContainer, {childList: true});\n",
              "}}\n",
              "\n",
              "// Listen for the clearing of the current output cell\n",
              "var outputEl = gd.closest('.output');\n",
              "if (outputEl) {{\n",
              "    x.observe(outputEl, {childList: true});\n",
              "}}\n",
              "\n",
              "                        })                };                            </script>        </div>\n",
              "</body>\n",
              "</html>"
            ]
          },
          "metadata": {}
        }
      ],
      "source": [
        "#Visualize the above information with plotly\n",
        "fig=px.pie(data,names='sex',title=\"The gender percentage in the dataset\")\n",
        "fig.update_layout(bargap=0.5,plot_bgcolor='lightgreen',template = \"plotly\")\n",
        "fig.show()"
      ]
    },
    {
      "cell_type": "markdown",
      "id": "af3fce6e",
      "metadata": {
        "id": "af3fce6e"
      },
      "source": [
        "# Observation\n",
        "1.From the above data male percentage is high comapre to the female percentage"
      ]
    },
    {
      "cell_type": "code",
      "execution_count": 15,
      "id": "2a772439",
      "metadata": {
        "id": "2a772439",
        "outputId": "78f44435-f8d5-47ce-f0e4-b3a4a7bd9c23",
        "colab": {
          "base_uri": "https://localhost:8080/",
          "height": 499
        }
      },
      "outputs": [
        {
          "output_type": "display_data",
          "data": {
            "text/plain": [
              "<Figure size 1152x576 with 1 Axes>"
            ],
            "image/png": "[encoded data removed]"
          },
          "metadata": {}
        }
      ],
      "source": [
        "#Alnog with let's visualize the smoke ratio in the dataset\n",
        "smoker=data['smoker'].value_counts()\n",
        "#Let's visualize the above data using the pie chart\n",
        "smoker.plot(kind='pie',autopct='%1.2f%%',colors=['green','red'])\n",
        "#Set the title\n",
        "plt.title(\"The smoker ratio in the dataset\",fontsize=35,fontweight='bold')\n",
        "plt.show()"
      ]
    },
    {
      "cell_type": "markdown",
      "id": "e9ad6d63",
      "metadata": {
        "id": "e9ad6d63"
      },
      "source": [
        "# Observation\n",
        "1.From the data the non-smoker percentage is more compare to the smokers"
      ]
    },
    {
      "cell_type": "code",
      "execution_count": 16,
      "id": "0450bbad",
      "metadata": {
        "id": "0450bbad",
        "outputId": "a45bdbb8-1057-4a1a-fa62-974331ea1047",
        "colab": {
          "base_uri": "https://localhost:8080/",
          "height": 206
        }
      },
      "outputs": [
        {
          "output_type": "execute_result",
          "data": {
            "text/plain": [
              "    age     sex  age_gender\n",
              "93   64    male          11\n",
              "92   64  female          11\n",
              "91   63    male          11\n",
              "90   63  female          12\n",
              "89   62    male          11"
            ],
            "text/html": [
              "\n",
              "  <div id=\"df-e57dfe98-b356-4dd6-827f-5221e5acf234\">\n",
              "    <div class=\"colab-df-container\">\n",
              "      <div>\n",
              "<style scoped>\n",
              "    .dataframe tbody tr th:only-of-type {\n",
              "        vertical-align: middle;\n",
              "    }\n",
              "\n",
              "    .dataframe tbody tr th {\n",
              "        vertical-align: top;\n",
              "    }\n",
              "\n",
              "    .dataframe thead th {\n",
              "        text-align: right;\n",
              "    }\n",
              "</style>\n",
              "<table border=\"1\" class=\"dataframe\">\n",
              "  <thead>\n",
              "    <tr style=\"text-align: right;\">\n",
              "      <th></th>\n",
              "      <th>age</th>\n",
              "      <th>sex</th>\n",
              "      <th>age_gender</th>\n",
              "    </tr>\n",
              "  </thead>\n",
              "  <tbody>\n",
              "    <tr>\n",
              "      <th>93</th>\n",
              "      <td>64</td>\n",
              "      <td>male</td>\n",
              "      <td>11</td>\n",
              "    </tr>\n",
              "    <tr>\n",
              "      <th>92</th>\n",
              "      <td>64</td>\n",
              "      <td>female</td>\n",
              "      <td>11</td>\n",
              "    </tr>\n",
              "    <tr>\n",
              "      <th>91</th>\n",
              "      <td>63</td>\n",
              "      <td>male</td>\n",
              "      <td>11</td>\n",
              "    </tr>\n",
              "    <tr>\n",
              "      <th>90</th>\n",
              "      <td>63</td>\n",
              "      <td>female</td>\n",
              "      <td>12</td>\n",
              "    </tr>\n",
              "    <tr>\n",
              "      <th>89</th>\n",
              "      <td>62</td>\n",
              "      <td>male</td>\n",
              "      <td>11</td>\n",
              "    </tr>\n",
              "  </tbody>\n",
              "</table>\n",
              "</div>\n",
              "      <button class=\"colab-df-convert\" onclick=\"convertToInteractive('df-e57dfe98-b356-4dd6-827f-5221e5acf234')\"\n",
              "              title=\"Convert this dataframe to an interactive table.\"\n",
              "              style=\"display:none;\">\n",
              "        \n",
              "  <svg xmlns=\"http://www.w3.org/2000/svg\" height=\"24px\"viewBox=\"0 0 24 24\"\n",
              "       width=\"24px\">\n",
              "    <path d=\"M0 0h24v24H0V0z\" fill=\"none\"/>\n",
              "    <path d=\"M18.56 5.44l.94 2.06.94-2.06 2.06-.94-2.06-.94-.94-2.06-.94 2.06-2.06.94zm-11 1L8.5 8.5l.94-2.06 2.06-.94-2.06-.94L8.5 2.5l-.94 2.06-2.06.94zm10 10l.94 2.06.94-2.06 2.06-.94-2.06-.94-.94-2.06-.94 2.06-2.06.94z\"/><path d=\"M17.41 7.96l-1.37-1.37c-.4-.4-.92-.59-1.43-.59-.52 0-1.04.2-1.43.59L10.3 9.45l-7.72 7.72c-.78.78-.78 2.05 0 2.83L4 21.41c.39.39.9.59 1.41.59.51 0 1.02-.2 1.41-.59l7.78-7.78 2.81-2.81c.8-.78.8-2.07 0-2.86zM5.41 20L4 18.59l7.72-7.72 1.47 1.35L5.41 20z\"/>\n",
              "  </svg>\n",
              "      </button>\n",
              "      \n",
              "  <style>\n",
              "    .colab-df-container {\n",
              "      display:flex;\n",
              "      flex-wrap:wrap;\n",
              "      gap: 12px;\n",
              "    }\n",
              "\n",
              "    .colab-df-convert {\n",
              "      background-color: #E8F0FE;\n",
              "      border: none;\n",
              "      border-radius: 50%;\n",
              "      cursor: pointer;\n",
              "      display: none;\n",
              "      fill: #1967D2;\n",
              "      height: 32px;\n",
              "      padding: 0 0 0 0;\n",
              "      width: 32px;\n",
              "    }\n",
              "\n",
              "    .colab-df-convert:hover {\n",
              "      background-color: #E2EBFA;\n",
              "      box-shadow: 0px 1px 2px rgba(60, 64, 67, 0.3), 0px 1px 3px 1px rgba(60, 64, 67, 0.15);\n",
              "      fill: #174EA6;\n",
              "    }\n",
              "\n",
              "    [theme=dark] .colab-df-convert {\n",
              "      background-color: #3B4455;\n",
              "      fill: #D2E3FC;\n",
              "    }\n",
              "\n",
              "    [theme=dark] .colab-df-convert:hover {\n",
              "      background-color: #434B5C;\n",
              "      box-shadow: 0px 1px 3px 1px rgba(0, 0, 0, 0.15);\n",
              "      filter: drop-shadow(0px 1px 2px rgba(0, 0, 0, 0.3));\n",
              "      fill: #FFFFFF;\n",
              "    }\n",
              "  </style>\n",
              "\n",
              "      <script>\n",
              "        const buttonEl =\n",
              "          document.querySelector('#df-e57dfe98-b356-4dd6-827f-5221e5acf234 button.colab-df-convert');\n",
              "        buttonEl.style.display =\n",
              "          google.colab.kernel.accessAllowed ? 'block' : 'none';\n",
              "\n",
              "        async function convertToInteractive(key) {\n",
              "          const element = document.querySelector('#df-e57dfe98-b356-4dd6-827f-5221e5acf234');\n",
              "          const dataTable =\n",
              "            await google.colab.kernel.invokeFunction('convertToInteractive',\n",
              "                                                     [key], {});\n",
              "          if (!dataTable) return;\n",
              "\n",
              "          const docLinkHtml = 'Like what you see? Visit the ' +\n",
              "            '<a target=\"_blank\" href=https://colab.research.google.com/notebooks/data_table.ipynb>data table notebook</a>'\n",
              "            + ' to learn more about interactive tables.';\n",
              "          element.innerHTML = '';\n",
              "          dataTable['output_type'] = 'display_data';\n",
              "          await google.colab.output.renderOutput(dataTable, element);\n",
              "          const docLink = document.createElement('div');\n",
              "          docLink.innerHTML = docLinkHtml;\n",
              "          element.appendChild(docLink);\n",
              "        }\n",
              "      </script>\n",
              "    </div>\n",
              "  </div>\n",
              "  "
            ]
          },
          "metadata": {},
          "execution_count": 16
        }
      ],
      "source": [
        "#Let's visualize the which age gender have in the dataset\n",
        "gender=data.groupby(['age','sex']).size().reset_index().rename(columns={0:'age_gender'}).sort_values(by='age',ascending=False)\n",
        "gender.head()"
      ]
    },
    {
      "cell_type": "code",
      "execution_count": 17,
      "id": "9acd4cab",
      "metadata": {
        "id": "9acd4cab",
        "outputId": "4a4669f8-6cc0-4291-8adc-dd1d8b6fa823",
        "colab": {
          "base_uri": "https://localhost:8080/",
          "height": 542
        }
      },
      "outputs": [
        {
          "output_type": "display_data",
          "data": {
            "text/html": [
              "<html>\n",
              "<head><meta charset=\"utf-8\" /></head>\n",
              "<body>\n",
              "    <div>            <script src=\"https://cdnjs.cloudflare.com/ajax/libs/mathjax/2.7.5/MathJax.js?config=TeX-AMS-MML_SVG\"></script><script type=\"text/javascript\">if (window.MathJax) {MathJax.Hub.Config({SVG: {font: \"STIX-Web\"}});}</script>                <script type=\"text/javascript\">window.PlotlyConfig = {MathJaxConfig: 'local'};</script>\n",
              "        <script src=\"https://cdn.plot.ly/plotly-2.8.3.min.js\"></script>                <div id=\"fe3d575b-25b8-4fa0-b4a2-37ead60cb9e2\" class=\"plotly-graph-div\" style=\"height:525px; width:100%;\"></div>            <script type=\"text/javascript\">                                    window.PLOTLYENV=window.PLOTLYENV || {};                                    if (document.getElementById(\"fe3d575b-25b8-4fa0-b4a2-37ead60cb9e2\")) {                    Plotly.newPlot(                        \"fe3d575b-25b8-4fa0-b4a2-37ead60cb9e2\",                        [{\"alignmentgroup\":\"True\",\"bingroup\":\"x\",\"histfunc\":\"sum\",\"hovertemplate\":\"sex=male<br>age=%{x}<br>sum of age_gender=%{y}<extra></extra>\",\"legendgroup\":\"male\",\"marker\":{\"color\":\"#636efa\",\"pattern\":{\"shape\":\"\"}},\"name\":\"male\",\"offsetgroup\":\"male\",\"orientation\":\"v\",\"showlegend\":true,\"x\":[64,63,62,61,60,59,58,57,56,55,54,53,52,51,50,49,48,47,46,45,44,43,42,41,40,39,38,37,36,35,34,33,32,31,30,29,28,27,26,25,24,23,22,21,20,19,18],\"xaxis\":\"x\",\"y\":[11,11,11,11,12,12,12,13,13,13,14,14,14,14,15,14,14,14,15,15,13,13,14,14,14,12,12,13,13,13,13,13,13,14,14,14,14,14,15,15,14,14,15,15,15,35,36],\"yaxis\":\"y\",\"type\":\"histogram\"},{\"alignmentgroup\":\"True\",\"bingroup\":\"x\",\"histfunc\":\"sum\",\"hovertemplate\":\"sex=female<br>age=%{x}<br>sum of age_gender=%{y}<extra></extra>\",\"legendgroup\":\"female\",\"marker\":{\"color\":\"#EF553B\",\"pattern\":{\"shape\":\"\"}},\"name\":\"female\",\"offsetgroup\":\"female\",\"orientation\":\"v\",\"showlegend\":true,\"x\":[64,63,62,61,60,59,58,57,56,55,54,53,52,51,50,49,48,47,46,45,44,43,42,41,40,39,38,37,36,35,34,33,32,31,30,29,28,27,26,25,24,23,22,21,20,19,18],\"xaxis\":\"x\",\"y\":[11,12,12,12,11,13,13,13,13,13,14,14,15,15,14,14,15,15,14,14,14,14,13,13,13,13,13,12,12,12,13,13,13,13,13,13,14,14,13,13,14,14,13,13,14,33,33],\"yaxis\":\"y\",\"type\":\"histogram\"}],                        {\"template\":{\"data\":{\"bar\":[{\"error_x\":{\"color\":\"#2a3f5f\"},\"error_y\":{\"color\":\"#2a3f5f\"},\"marker\":{\"line\":{\"color\":\"#E5ECF6\",\"width\":0.5},\"pattern\":{\"fillmode\":\"overlay\",\"size\":10,\"solidity\":0.2}},\"type\":\"bar\"}],\"barpolar\":[{\"marker\":{\"line\":{\"color\":\"#E5ECF6\",\"width\":0.5},\"pattern\":{\"fillmode\":\"overlay\",\"size\":10,\"solidity\":0.2}},\"type\":\"barpolar\"}],\"carpet\":[{\"aaxis\":{\"endlinecolor\":\"#2a3f5f\",\"gridcolor\":\"white\",\"linecolor\":\"white\",\"minorgridcolor\":\"white\",\"startlinecolor\":\"#2a3f5f\"},\"baxis\":{\"endlinecolor\":\"#2a3f5f\",\"gridcolor\":\"white\",\"linecolor\":\"white\",\"minorgridcolor\":\"white\",\"startlinecolor\":\"#2a3f5f\"},\"type\":\"carpet\"}],\"choropleth\":[{\"colorbar\":{\"outlinewidth\":0,\"ticks\":\"\"},\"type\":\"choropleth\"}],\"contour\":[{\"colorbar\":{\"outlinewidth\":0,\"ticks\":\"\"},\"colorscale\":[[0.0,\"#0d0887\"],[0.1111111111111111,\"#46039f\"],[0.2222222222222222,\"#7201a8\"],[0.3333333333333333,\"#9c179e\"],[0.4444444444444444,\"#bd3786\"],[0.5555555555555556,\"#d8576b\"],[0.6666666666666666,\"#ed7953\"],[0.7777777777777778,\"#fb9f3a\"],[0.8888888888888888,\"#fdca26\"],[1.0,\"#f0f921\"]],\"type\":\"contour\"}],\"contourcarpet\":[{\"colorbar\":{\"outlinewidth\":0,\"ticks\":\"\"},\"type\":\"contourcarpet\"}],\"heatmap\":[{\"colorbar\":{\"outlinewidth\":0,\"ticks\":\"\"},\"colorscale\":[[0.0,\"#0d0887\"],[0.1111111111111111,\"#46039f\"],[0.2222222222222222,\"#7201a8\"],[0.3333333333333333,\"#9c179e\"],[0.4444444444444444,\"#bd3786\"],[0.5555555555555556,\"#d8576b\"],[0.6666666666666666,\"#ed7953\"],[0.7777777777777778,\"#fb9f3a\"],[0.8888888888888888,\"#fdca26\"],[1.0,\"#f0f921\"]],\"type\":\"heatmap\"}],\"heatmapgl\":[{\"colorbar\":{\"outlinewidth\":0,\"ticks\":\"\"},\"colorscale\":[[0.0,\"#0d0887\"],[0.1111111111111111,\"#46039f\"],[0.2222222222222222,\"#7201a8\"],[0.3333333333333333,\"#9c179e\"],[0.4444444444444444,\"#bd3786\"],[0.5555555555555556,\"#d8576b\"],[0.6666666666666666,\"#ed7953\"],[0.7777777777777778,\"#fb9f3a\"],[0.8888888888888888,\"#fdca26\"],[1.0,\"#f0f921\"]],\"type\":\"heatmapgl\"}],\"histogram\":[{\"marker\":{\"pattern\":{\"fillmode\":\"overlay\",\"size\":10,\"solidity\":0.2}},\"type\":\"histogram\"}],\"histogram2d\":[{\"colorbar\":{\"outlinewidth\":0,\"ticks\":\"\"},\"colorscale\":[[0.0,\"#0d0887\"],[0.1111111111111111,\"#46039f\"],[0.2222222222222222,\"#7201a8\"],[0.3333333333333333,\"#9c179e\"],[0.4444444444444444,\"#bd3786\"],[0.5555555555555556,\"#d8576b\"],[0.6666666666666666,\"#ed7953\"],[0.7777777777777778,\"#fb9f3a\"],[0.8888888888888888,\"#fdca26\"],[1.0,\"#f0f921\"]],\"type\":\"histogram2d\"}],\"histogram2dcontour\":[{\"colorbar\":{\"outlinewidth\":0,\"ticks\":\"\"},\"colorscale\":[[0.0,\"#0d0887\"],[0.1111111111111111,\"#46039f\"],[0.2222222222222222,\"#7201a8\"],[0.3333333333333333,\"#9c179e\"],[0.4444444444444444,\"#bd3786\"],[0.5555555555555556,\"#d8576b\"],[0.6666666666666666,\"#ed7953\"],[0.7777777777777778,\"#fb9f3a\"],[0.8888888888888888,\"#fdca26\"],[1.0,\"#f0f921\"]],\"type\":\"histogram2dcontour\"}],\"mesh3d\":[{\"colorbar\":{\"outlinewidth\":0,\"ticks\":\"\"},\"type\":\"mesh3d\"}],\"parcoords\":[{\"line\":{\"colorbar\":{\"outlinewidth\":0,\"ticks\":\"\"}},\"type\":\"parcoords\"}],\"pie\":[{\"automargin\":true,\"type\":\"pie\"}],\"scatter\":[{\"marker\":{\"colorbar\":{\"outlinewidth\":0,\"ticks\":\"\"}},\"type\":\"scatter\"}],\"scatter3d\":[{\"line\":{\"colorbar\":{\"outlinewidth\":0,\"ticks\":\"\"}},\"marker\":{\"colorbar\":{\"outlinewidth\":0,\"ticks\":\"\"}},\"type\":\"scatter3d\"}],\"scattercarpet\":[{\"marker\":{\"colorbar\":{\"outlinewidth\":0,\"ticks\":\"\"}},\"type\":\"scattercarpet\"}],\"scattergeo\":[{\"marker\":{\"colorbar\":{\"outlinewidth\":0,\"ticks\":\"\"}},\"type\":\"scattergeo\"}],\"scattergl\":[{\"marker\":{\"colorbar\":{\"outlinewidth\":0,\"ticks\":\"\"}},\"type\":\"scattergl\"}],\"scattermapbox\":[{\"marker\":{\"colorbar\":{\"outlinewidth\":0,\"ticks\":\"\"}},\"type\":\"scattermapbox\"}],\"scatterpolar\":[{\"marker\":{\"colorbar\":{\"outlinewidth\":0,\"ticks\":\"\"}},\"type\":\"scatterpolar\"}],\"scatterpolargl\":[{\"marker\":{\"colorbar\":{\"outlinewidth\":0,\"ticks\":\"\"}},\"type\":\"scatterpolargl\"}],\"scatterternary\":[{\"marker\":{\"colorbar\":{\"outlinewidth\":0,\"ticks\":\"\"}},\"type\":\"scatterternary\"}],\"surface\":[{\"colorbar\":{\"outlinewidth\":0,\"ticks\":\"\"},\"colorscale\":[[0.0,\"#0d0887\"],[0.1111111111111111,\"#46039f\"],[0.2222222222222222,\"#7201a8\"],[0.3333333333333333,\"#9c179e\"],[0.4444444444444444,\"#bd3786\"],[0.5555555555555556,\"#d8576b\"],[0.6666666666666666,\"#ed7953\"],[0.7777777777777778,\"#fb9f3a\"],[0.8888888888888888,\"#fdca26\"],[1.0,\"#f0f921\"]],\"type\":\"surface\"}],\"table\":[{\"cells\":{\"fill\":{\"color\":\"#EBF0F8\"},\"line\":{\"color\":\"white\"}},\"header\":{\"fill\":{\"color\":\"#C8D4E3\"},\"line\":{\"color\":\"white\"}},\"type\":\"table\"}]},\"layout\":{\"annotationdefaults\":{\"arrowcolor\":\"#2a3f5f\",\"arrowhead\":0,\"arrowwidth\":1},\"autotypenumbers\":\"strict\",\"coloraxis\":{\"colorbar\":{\"outlinewidth\":0,\"ticks\":\"\"}},\"colorscale\":{\"diverging\":[[0,\"#8e0152\"],[0.1,\"#c51b7d\"],[0.2,\"#de77ae\"],[0.3,\"#f1b6da\"],[0.4,\"#fde0ef\"],[0.5,\"#f7f7f7\"],[0.6,\"#e6f5d0\"],[0.7,\"#b8e186\"],[0.8,\"#7fbc41\"],[0.9,\"#4d9221\"],[1,\"#276419\"]],\"sequential\":[[0.0,\"#0d0887\"],[0.1111111111111111,\"#46039f\"],[0.2222222222222222,\"#7201a8\"],[0.3333333333333333,\"#9c179e\"],[0.4444444444444444,\"#bd3786\"],[0.5555555555555556,\"#d8576b\"],[0.6666666666666666,\"#ed7953\"],[0.7777777777777778,\"#fb9f3a\"],[0.8888888888888888,\"#fdca26\"],[1.0,\"#f0f921\"]],\"sequentialminus\":[[0.0,\"#0d0887\"],[0.1111111111111111,\"#46039f\"],[0.2222222222222222,\"#7201a8\"],[0.3333333333333333,\"#9c179e\"],[0.4444444444444444,\"#bd3786\"],[0.5555555555555556,\"#d8576b\"],[0.6666666666666666,\"#ed7953\"],[0.7777777777777778,\"#fb9f3a\"],[0.8888888888888888,\"#fdca26\"],[1.0,\"#f0f921\"]]},\"colorway\":[\"#636efa\",\"#EF553B\",\"#00cc96\",\"#ab63fa\",\"#FFA15A\",\"#19d3f3\",\"#FF6692\",\"#B6E880\",\"#FF97FF\",\"#FECB52\"],\"font\":{\"color\":\"#2a3f5f\"},\"geo\":{\"bgcolor\":\"white\",\"lakecolor\":\"white\",\"landcolor\":\"#E5ECF6\",\"showlakes\":true,\"showland\":true,\"subunitcolor\":\"white\"},\"hoverlabel\":{\"align\":\"left\"},\"hovermode\":\"closest\",\"mapbox\":{\"style\":\"light\"},\"paper_bgcolor\":\"white\",\"plot_bgcolor\":\"#E5ECF6\",\"polar\":{\"angularaxis\":{\"gridcolor\":\"white\",\"linecolor\":\"white\",\"ticks\":\"\"},\"bgcolor\":\"#E5ECF6\",\"radialaxis\":{\"gridcolor\":\"white\",\"linecolor\":\"white\",\"ticks\":\"\"}},\"scene\":{\"xaxis\":{\"backgroundcolor\":\"#E5ECF6\",\"gridcolor\":\"white\",\"gridwidth\":2,\"linecolor\":\"white\",\"showbackground\":true,\"ticks\":\"\",\"zerolinecolor\":\"white\"},\"yaxis\":{\"backgroundcolor\":\"#E5ECF6\",\"gridcolor\":\"white\",\"gridwidth\":2,\"linecolor\":\"white\",\"showbackground\":true,\"ticks\":\"\",\"zerolinecolor\":\"white\"},\"zaxis\":{\"backgroundcolor\":\"#E5ECF6\",\"gridcolor\":\"white\",\"gridwidth\":2,\"linecolor\":\"white\",\"showbackground\":true,\"ticks\":\"\",\"zerolinecolor\":\"white\"}},\"shapedefaults\":{\"line\":{\"color\":\"#2a3f5f\"}},\"ternary\":{\"aaxis\":{\"gridcolor\":\"white\",\"linecolor\":\"white\",\"ticks\":\"\"},\"baxis\":{\"gridcolor\":\"white\",\"linecolor\":\"white\",\"ticks\":\"\"},\"bgcolor\":\"#E5ECF6\",\"caxis\":{\"gridcolor\":\"white\",\"linecolor\":\"white\",\"ticks\":\"\"}},\"title\":{\"x\":0.05},\"xaxis\":{\"automargin\":true,\"gridcolor\":\"white\",\"linecolor\":\"white\",\"ticks\":\"\",\"title\":{\"standoff\":15},\"zerolinecolor\":\"white\",\"zerolinewidth\":2},\"yaxis\":{\"automargin\":true,\"gridcolor\":\"white\",\"linecolor\":\"white\",\"ticks\":\"\",\"title\":{\"standoff\":15},\"zerolinecolor\":\"white\",\"zerolinewidth\":2}}},\"xaxis\":{\"anchor\":\"y\",\"domain\":[0.0,1.0],\"title\":{\"text\":\"age\"}},\"yaxis\":{\"anchor\":\"x\",\"domain\":[0.0,1.0],\"title\":{\"text\":\"sum of age_gender\"}},\"legend\":{\"title\":{\"text\":\"sex\"},\"tracegroupgap\":0},\"title\":{\"text\":\"Let's visualize the which age and gender \"},\"barmode\":\"relative\",\"bargap\":0.5,\"plot_bgcolor\":\"lightgreen\"},                        {\"responsive\": true}                    ).then(function(){\n",
              "                            \n",
              "var gd = document.getElementById('fe3d575b-25b8-4fa0-b4a2-37ead60cb9e2');\n",
              "var x = new MutationObserver(function (mutations, observer) {{\n",
              "        var display = window.getComputedStyle(gd).display;\n",
              "        if (!display || display === 'none') {{\n",
              "            console.log([gd, 'removed!']);\n",
              "            Plotly.purge(gd);\n",
              "            observer.disconnect();\n",
              "        }}\n",
              "}});\n",
              "\n",
              "// Listen for the removal of the full notebook cells\n",
              "var notebookContainer = gd.closest('#notebook-container');\n",
              "if (notebookContainer) {{\n",
              "    x.observe(notebookContainer, {childList: true});\n",
              "}}\n",
              "\n",
              "// Listen for the clearing of the current output cell\n",
              "var outputEl = gd.closest('.output');\n",
              "if (outputEl) {{\n",
              "    x.observe(outputEl, {childList: true});\n",
              "}}\n",
              "\n",
              "                        })                };                            </script>        </div>\n",
              "</body>\n",
              "</html>"
            ]
          },
          "metadata": {}
        }
      ],
      "source": [
        "#Let's visualize the above data using the plotly\n",
        "fig=px.histogram(gender,color='sex',x='age',y='age_gender',title=\"Let's visualize the which age and gender \")\n",
        "fig.update_layout(bargap=0.5,plot_bgcolor='lightgreen',template = \"plotly\")\n",
        "fig.show()"
      ]
    },
    {
      "cell_type": "markdown",
      "id": "87c58b69",
      "metadata": {
        "id": "87c58b69"
      },
      "source": [
        "# Observations\n",
        "1)From the above data age 20-24 and 45-49 is the male persons datasets.\n",
        "2)According to the data 40-49 and 50-55 ages female have the highest in the dataset"
      ]
    },
    {
      "cell_type": "code",
      "execution_count": 18,
      "id": "5c9897e0",
      "metadata": {
        "id": "5c9897e0",
        "outputId": "6bee3207-22b9-4118-b4a3-f55d3b42783c",
        "colab": {
          "base_uri": "https://localhost:8080/",
          "height": 499
        }
      },
      "outputs": [
        {
          "output_type": "display_data",
          "data": {
            "text/plain": [
              "<Figure size 1152x576 with 1 Axes>"
            ],
            "image/png": "[encoded data removed]"
          },
          "metadata": {}
        }
      ],
      "source": [
        "#Let's find the region ratio on the dataset using the pie chart\n",
        "gender=data['region'].value_counts()\n",
        "#Let's visualize the above data using the pie chart\n",
        "gender.plot(kind='pie',autopct='%1.2f%%',colors=['grey','orange','red','maroon'])\n",
        "#Set the title fontsize and fontweights\n",
        "plt.title(\"The region ration in the dataset\",fontsize=35,fontweight='bold')\n",
        "#let's visualize the plot\n",
        "plt.show()"
      ]
    },
    {
      "cell_type": "markdown",
      "id": "b8246457",
      "metadata": {
        "id": "b8246457"
      },
      "source": [
        "# Observation\n",
        "1)Analysis the data the southeast region is hieghst range"
      ]
    },
    {
      "cell_type": "code",
      "execution_count": 19,
      "id": "e87a7ddd",
      "metadata": {
        "id": "e87a7ddd",
        "outputId": "2e6e2096-212b-4f52-bc3b-1aa8e81b0f33",
        "colab": {
          "base_uri": "https://localhost:8080/",
          "height": 206
        }
      },
      "outputs": [
        {
          "output_type": "execute_result",
          "data": {
            "text/plain": [
              "    age smoker  age_smoker\n",
              "93   64    yes           7\n",
              "92   64     no          15\n",
              "91   63    yes           5\n",
              "90   63     no          18\n",
              "89   62    yes           4"
            ],
            "text/html": [
              "\n",
              "  <div id=\"df-231d0de5-1889-4f2f-b41e-3023d7f85d0d\">\n",
              "    <div class=\"colab-df-container\">\n",
              "      <div>\n",
              "<style scoped>\n",
              "    .dataframe tbody tr th:only-of-type {\n",
              "        vertical-align: middle;\n",
              "    }\n",
              "\n",
              "    .dataframe tbody tr th {\n",
              "        vertical-align: top;\n",
              "    }\n",
              "\n",
              "    .dataframe thead th {\n",
              "        text-align: right;\n",
              "    }\n",
              "</style>\n",
              "<table border=\"1\" class=\"dataframe\">\n",
              "  <thead>\n",
              "    <tr style=\"text-align: right;\">\n",
              "      <th></th>\n",
              "      <th>age</th>\n",
              "      <th>smoker</th>\n",
              "      <th>age_smoker</th>\n",
              "    </tr>\n",
              "  </thead>\n",
              "  <tbody>\n",
              "    <tr>\n",
              "      <th>93</th>\n",
              "      <td>64</td>\n",
              "      <td>yes</td>\n",
              "      <td>7</td>\n",
              "    </tr>\n",
              "    <tr>\n",
              "      <th>92</th>\n",
              "      <td>64</td>\n",
              "      <td>no</td>\n",
              "      <td>15</td>\n",
              "    </tr>\n",
              "    <tr>\n",
              "      <th>91</th>\n",
              "      <td>63</td>\n",
              "      <td>yes</td>\n",
              "      <td>5</td>\n",
              "    </tr>\n",
              "    <tr>\n",
              "      <th>90</th>\n",
              "      <td>63</td>\n",
              "      <td>no</td>\n",
              "      <td>18</td>\n",
              "    </tr>\n",
              "    <tr>\n",
              "      <th>89</th>\n",
              "      <td>62</td>\n",
              "      <td>yes</td>\n",
              "      <td>4</td>\n",
              "    </tr>\n",
              "  </tbody>\n",
              "</table>\n",
              "</div>\n",
              "      <button class=\"colab-df-convert\" onclick=\"convertToInteractive('df-231d0de5-1889-4f2f-b41e-3023d7f85d0d')\"\n",
              "              title=\"Convert this dataframe to an interactive table.\"\n",
              "              style=\"display:none;\">\n",
              "        \n",
              "  <svg xmlns=\"http://www.w3.org/2000/svg\" height=\"24px\"viewBox=\"0 0 24 24\"\n",
              "       width=\"24px\">\n",
              "    <path d=\"M0 0h24v24H0V0z\" fill=\"none\"/>\n",
              "    <path d=\"M18.56 5.44l.94 2.06.94-2.06 2.06-.94-2.06-.94-.94-2.06-.94 2.06-2.06.94zm-11 1L8.5 8.5l.94-2.06 2.06-.94-2.06-.94L8.5 2.5l-.94 2.06-2.06.94zm10 10l.94 2.06.94-2.06 2.06-.94-2.06-.94-.94-2.06-.94 2.06-2.06.94z\"/><path d=\"M17.41 7.96l-1.37-1.37c-.4-.4-.92-.59-1.43-.59-.52 0-1.04.2-1.43.59L10.3 9.45l-7.72 7.72c-.78.78-.78 2.05 0 2.83L4 21.41c.39.39.9.59 1.41.59.51 0 1.02-.2 1.41-.59l7.78-7.78 2.81-2.81c.8-.78.8-2.07 0-2.86zM5.41 20L4 18.59l7.72-7.72 1.47 1.35L5.41 20z\"/>\n",
              "  </svg>\n",
              "      </button>\n",
              "      \n",
              "  <style>\n",
              "    .colab-df-container {\n",
              "      display:flex;\n",
              "      flex-wrap:wrap;\n",
              "      gap: 12px;\n",
              "    }\n",
              "\n",
              "    .colab-df-convert {\n",
              "      background-color: #E8F0FE;\n",
              "      border: none;\n",
              "      border-radius: 50%;\n",
              "      cursor: pointer;\n",
              "      display: none;\n",
              "      fill: #1967D2;\n",
              "      height: 32px;\n",
              "      padding: 0 0 0 0;\n",
              "      width: 32px;\n",
              "    }\n",
              "\n",
              "    .colab-df-convert:hover {\n",
              "      background-color: #E2EBFA;\n",
              "      box-shadow: 0px 1px 2px rgba(60, 64, 67, 0.3), 0px 1px 3px 1px rgba(60, 64, 67, 0.15);\n",
              "      fill: #174EA6;\n",
              "    }\n",
              "\n",
              "    [theme=dark] .colab-df-convert {\n",
              "      background-color: #3B4455;\n",
              "      fill: #D2E3FC;\n",
              "    }\n",
              "\n",
              "    [theme=dark] .colab-df-convert:hover {\n",
              "      background-color: #434B5C;\n",
              "      box-shadow: 0px 1px 3px 1px rgba(0, 0, 0, 0.15);\n",
              "      filter: drop-shadow(0px 1px 2px rgba(0, 0, 0, 0.3));\n",
              "      fill: #FFFFFF;\n",
              "    }\n",
              "  </style>\n",
              "\n",
              "      <script>\n",
              "        const buttonEl =\n",
              "          document.querySelector('#df-231d0de5-1889-4f2f-b41e-3023d7f85d0d button.colab-df-convert');\n",
              "        buttonEl.style.display =\n",
              "          google.colab.kernel.accessAllowed ? 'block' : 'none';\n",
              "\n",
              "        async function convertToInteractive(key) {\n",
              "          const element = document.querySelector('#df-231d0de5-1889-4f2f-b41e-3023d7f85d0d');\n",
              "          const dataTable =\n",
              "            await google.colab.kernel.invokeFunction('convertToInteractive',\n",
              "                                                     [key], {});\n",
              "          if (!dataTable) return;\n",
              "\n",
              "          const docLinkHtml = 'Like what you see? Visit the ' +\n",
              "            '<a target=\"_blank\" href=https://colab.research.google.com/notebooks/data_table.ipynb>data table notebook</a>'\n",
              "            + ' to learn more about interactive tables.';\n",
              "          element.innerHTML = '';\n",
              "          dataTable['output_type'] = 'display_data';\n",
              "          await google.colab.output.renderOutput(dataTable, element);\n",
              "          const docLink = document.createElement('div');\n",
              "          docLink.innerHTML = docLinkHtml;\n",
              "          element.appendChild(docLink);\n",
              "        }\n",
              "      </script>\n",
              "    </div>\n",
              "  </div>\n",
              "  "
            ]
          },
          "metadata": {},
          "execution_count": 19
        }
      ],
      "source": [
        "#Analysis the data and visualize the which age persons is most smoker\n",
        "smoker=data.groupby(['age','smoker']).size().reset_index().rename(columns={0:'age_smoker'}).sort_values(by='age',ascending=False)\n",
        "smoker.head()"
      ]
    },
    {
      "cell_type": "code",
      "execution_count": 20,
      "id": "c5ed4e12",
      "metadata": {
        "id": "c5ed4e12",
        "outputId": "8b997727-210c-46a0-b38d-cbbd67ab7986",
        "colab": {
          "base_uri": "https://localhost:8080/",
          "height": 542
        }
      },
      "outputs": [
        {
          "output_type": "display_data",
          "data": {
            "text/html": [
              "<html>\n",
              "<head><meta charset=\"utf-8\" /></head>\n",
              "<body>\n",
              "    <div>            <script src=\"https://cdnjs.cloudflare.com/ajax/libs/mathjax/2.7.5/MathJax.js?config=TeX-AMS-MML_SVG\"></script><script type=\"text/javascript\">if (window.MathJax) {MathJax.Hub.Config({SVG: {font: \"STIX-Web\"}});}</script>                <script type=\"text/javascript\">window.PlotlyConfig = {MathJaxConfig: 'local'};</script>\n",
              "        <script src=\"https://cdn.plot.ly/plotly-2.8.3.min.js\"></script>                <div id=\"8676c62b-ac39-4359-a60f-641355f4ce17\" class=\"plotly-graph-div\" style=\"height:525px; width:100%;\"></div>            <script type=\"text/javascript\">                                    window.PLOTLYENV=window.PLOTLYENV || {};                                    if (document.getElementById(\"8676c62b-ac39-4359-a60f-641355f4ce17\")) {                    Plotly.newPlot(                        \"8676c62b-ac39-4359-a60f-641355f4ce17\",                        [{\"alignmentgroup\":\"True\",\"bingroup\":\"x\",\"histfunc\":\"sum\",\"hovertemplate\":\"smoker=yes<br>age=%{x}<br>sum of age_smoker=%{y}<extra></extra>\",\"legendgroup\":\"yes\",\"marker\":{\"color\":\"#636efa\",\"pattern\":{\"shape\":\"\"}},\"name\":\"yes\",\"offsetgroup\":\"yes\",\"orientation\":\"v\",\"showlegend\":true,\"x\":[64,63,62,61,60,59,58,57,56,55,54,53,52,51,50,49,48,47,46,45,44,43,42,41,40,39,38,37,36,35,34,33,32,31,30,29,28,27,26,25,24,23,22,21,20,19,18],\"xaxis\":\"x\",\"y\":[7,5,4,6,5,4,1,4,4,2,5,5,6,6,4,4,5,10,5,5,6,12,8,2,5,6,2,9,6,5,5,6,5,5,9,6,3,9,3,5,6,7,6,2,9,18,12],\"yaxis\":\"y\",\"type\":\"histogram\"},{\"alignmentgroup\":\"True\",\"bingroup\":\"x\",\"histfunc\":\"sum\",\"hovertemplate\":\"smoker=no<br>age=%{x}<br>sum of age_smoker=%{y}<extra></extra>\",\"legendgroup\":\"no\",\"marker\":{\"color\":\"#EF553B\",\"pattern\":{\"shape\":\"\"}},\"name\":\"no\",\"offsetgroup\":\"no\",\"orientation\":\"v\",\"showlegend\":true,\"x\":[64,63,62,61,60,59,58,57,56,55,54,53,52,51,50,49,48,47,46,45,44,43,42,41,40,39,38,37,36,35,34,33,32,31,30,29,28,27,26,25,24,23,22,21,20,19,18],\"xaxis\":\"x\",\"y\":[15,18,19,17,18,21,24,22,22,24,23,23,23,23,25,24,24,19,24,24,21,15,19,25,22,19,23,16,19,20,21,20,21,22,18,21,25,19,25,23,22,21,22,26,20,50,57],\"yaxis\":\"y\",\"type\":\"histogram\"}],                        {\"template\":{\"data\":{\"barpolar\":[{\"marker\":{\"line\":{\"color\":\"rgb(17,17,17)\",\"width\":0.5},\"pattern\":{\"fillmode\":\"overlay\",\"size\":10,\"solidity\":0.2}},\"type\":\"barpolar\"}],\"bar\":[{\"error_x\":{\"color\":\"#f2f5fa\"},\"error_y\":{\"color\":\"#f2f5fa\"},\"marker\":{\"line\":{\"color\":\"rgb(17,17,17)\",\"width\":0.5},\"pattern\":{\"fillmode\":\"overlay\",\"size\":10,\"solidity\":0.2}},\"type\":\"bar\"}],\"carpet\":[{\"aaxis\":{\"endlinecolor\":\"#A2B1C6\",\"gridcolor\":\"#506784\",\"linecolor\":\"#506784\",\"minorgridcolor\":\"#506784\",\"startlinecolor\":\"#A2B1C6\"},\"baxis\":{\"endlinecolor\":\"#A2B1C6\",\"gridcolor\":\"#506784\",\"linecolor\":\"#506784\",\"minorgridcolor\":\"#506784\",\"startlinecolor\":\"#A2B1C6\"},\"type\":\"carpet\"}],\"choropleth\":[{\"colorbar\":{\"outlinewidth\":0,\"ticks\":\"\"},\"type\":\"choropleth\"}],\"contourcarpet\":[{\"colorbar\":{\"outlinewidth\":0,\"ticks\":\"\"},\"type\":\"contourcarpet\"}],\"contour\":[{\"colorbar\":{\"outlinewidth\":0,\"ticks\":\"\"},\"colorscale\":[[0.0,\"#0d0887\"],[0.1111111111111111,\"#46039f\"],[0.2222222222222222,\"#7201a8\"],[0.3333333333333333,\"#9c179e\"],[0.4444444444444444,\"#bd3786\"],[0.5555555555555556,\"#d8576b\"],[0.6666666666666666,\"#ed7953\"],[0.7777777777777778,\"#fb9f3a\"],[0.8888888888888888,\"#fdca26\"],[1.0,\"#f0f921\"]],\"type\":\"contour\"}],\"heatmapgl\":[{\"colorbar\":{\"outlinewidth\":0,\"ticks\":\"\"},\"colorscale\":[[0.0,\"#0d0887\"],[0.1111111111111111,\"#46039f\"],[0.2222222222222222,\"#7201a8\"],[0.3333333333333333,\"#9c179e\"],[0.4444444444444444,\"#bd3786\"],[0.5555555555555556,\"#d8576b\"],[0.6666666666666666,\"#ed7953\"],[0.7777777777777778,\"#fb9f3a\"],[0.8888888888888888,\"#fdca26\"],[1.0,\"#f0f921\"]],\"type\":\"heatmapgl\"}],\"heatmap\":[{\"colorbar\":{\"outlinewidth\":0,\"ticks\":\"\"},\"colorscale\":[[0.0,\"#0d0887\"],[0.1111111111111111,\"#46039f\"],[0.2222222222222222,\"#7201a8\"],[0.3333333333333333,\"#9c179e\"],[0.4444444444444444,\"#bd3786\"],[0.5555555555555556,\"#d8576b\"],[0.6666666666666666,\"#ed7953\"],[0.7777777777777778,\"#fb9f3a\"],[0.8888888888888888,\"#fdca26\"],[1.0,\"#f0f921\"]],\"type\":\"heatmap\"}],\"histogram2dcontour\":[{\"colorbar\":{\"outlinewidth\":0,\"ticks\":\"\"},\"colorscale\":[[0.0,\"#0d0887\"],[0.1111111111111111,\"#46039f\"],[0.2222222222222222,\"#7201a8\"],[0.3333333333333333,\"#9c179e\"],[0.4444444444444444,\"#bd3786\"],[0.5555555555555556,\"#d8576b\"],[0.6666666666666666,\"#ed7953\"],[0.7777777777777778,\"#fb9f3a\"],[0.8888888888888888,\"#fdca26\"],[1.0,\"#f0f921\"]],\"type\":\"histogram2dcontour\"}],\"histogram2d\":[{\"colorbar\":{\"outlinewidth\":0,\"ticks\":\"\"},\"colorscale\":[[0.0,\"#0d0887\"],[0.1111111111111111,\"#46039f\"],[0.2222222222222222,\"#7201a8\"],[0.3333333333333333,\"#9c179e\"],[0.4444444444444444,\"#bd3786\"],[0.5555555555555556,\"#d8576b\"],[0.6666666666666666,\"#ed7953\"],[0.7777777777777778,\"#fb9f3a\"],[0.8888888888888888,\"#fdca26\"],[1.0,\"#f0f921\"]],\"type\":\"histogram2d\"}],\"histogram\":[{\"marker\":{\"pattern\":{\"fillmode\":\"overlay\",\"size\":10,\"solidity\":0.2}},\"type\":\"histogram\"}],\"mesh3d\":[{\"colorbar\":{\"outlinewidth\":0,\"ticks\":\"\"},\"type\":\"mesh3d\"}],\"parcoords\":[{\"line\":{\"colorbar\":{\"outlinewidth\":0,\"ticks\":\"\"}},\"type\":\"parcoords\"}],\"pie\":[{\"automargin\":true,\"type\":\"pie\"}],\"scatter3d\":[{\"line\":{\"colorbar\":{\"outlinewidth\":0,\"ticks\":\"\"}},\"marker\":{\"colorbar\":{\"outlinewidth\":0,\"ticks\":\"\"}},\"type\":\"scatter3d\"}],\"scattercarpet\":[{\"marker\":{\"colorbar\":{\"outlinewidth\":0,\"ticks\":\"\"}},\"type\":\"scattercarpet\"}],\"scattergeo\":[{\"marker\":{\"colorbar\":{\"outlinewidth\":0,\"ticks\":\"\"}},\"type\":\"scattergeo\"}],\"scattergl\":[{\"marker\":{\"line\":{\"color\":\"#283442\"}},\"type\":\"scattergl\"}],\"scattermapbox\":[{\"marker\":{\"colorbar\":{\"outlinewidth\":0,\"ticks\":\"\"}},\"type\":\"scattermapbox\"}],\"scatterpolargl\":[{\"marker\":{\"colorbar\":{\"outlinewidth\":0,\"ticks\":\"\"}},\"type\":\"scatterpolargl\"}],\"scatterpolar\":[{\"marker\":{\"colorbar\":{\"outlinewidth\":0,\"ticks\":\"\"}},\"type\":\"scatterpolar\"}],\"scatter\":[{\"marker\":{\"line\":{\"color\":\"#283442\"}},\"type\":\"scatter\"}],\"scatterternary\":[{\"marker\":{\"colorbar\":{\"outlinewidth\":0,\"ticks\":\"\"}},\"type\":\"scatterternary\"}],\"surface\":[{\"colorbar\":{\"outlinewidth\":0,\"ticks\":\"\"},\"colorscale\":[[0.0,\"#0d0887\"],[0.1111111111111111,\"#46039f\"],[0.2222222222222222,\"#7201a8\"],[0.3333333333333333,\"#9c179e\"],[0.4444444444444444,\"#bd3786\"],[0.5555555555555556,\"#d8576b\"],[0.6666666666666666,\"#ed7953\"],[0.7777777777777778,\"#fb9f3a\"],[0.8888888888888888,\"#fdca26\"],[1.0,\"#f0f921\"]],\"type\":\"surface\"}],\"table\":[{\"cells\":{\"fill\":{\"color\":\"#506784\"},\"line\":{\"color\":\"rgb(17,17,17)\"}},\"header\":{\"fill\":{\"color\":\"#2a3f5f\"},\"line\":{\"color\":\"rgb(17,17,17)\"}},\"type\":\"table\"}]},\"layout\":{\"annotationdefaults\":{\"arrowcolor\":\"#f2f5fa\",\"arrowhead\":0,\"arrowwidth\":1},\"autotypenumbers\":\"strict\",\"coloraxis\":{\"colorbar\":{\"outlinewidth\":0,\"ticks\":\"\"}},\"colorscale\":{\"diverging\":[[0,\"#8e0152\"],[0.1,\"#c51b7d\"],[0.2,\"#de77ae\"],[0.3,\"#f1b6da\"],[0.4,\"#fde0ef\"],[0.5,\"#f7f7f7\"],[0.6,\"#e6f5d0\"],[0.7,\"#b8e186\"],[0.8,\"#7fbc41\"],[0.9,\"#4d9221\"],[1,\"#276419\"]],\"sequential\":[[0.0,\"#0d0887\"],[0.1111111111111111,\"#46039f\"],[0.2222222222222222,\"#7201a8\"],[0.3333333333333333,\"#9c179e\"],[0.4444444444444444,\"#bd3786\"],[0.5555555555555556,\"#d8576b\"],[0.6666666666666666,\"#ed7953\"],[0.7777777777777778,\"#fb9f3a\"],[0.8888888888888888,\"#fdca26\"],[1.0,\"#f0f921\"]],\"sequentialminus\":[[0.0,\"#0d0887\"],[0.1111111111111111,\"#46039f\"],[0.2222222222222222,\"#7201a8\"],[0.3333333333333333,\"#9c179e\"],[0.4444444444444444,\"#bd3786\"],[0.5555555555555556,\"#d8576b\"],[0.6666666666666666,\"#ed7953\"],[0.7777777777777778,\"#fb9f3a\"],[0.8888888888888888,\"#fdca26\"],[1.0,\"#f0f921\"]]},\"colorway\":[\"#636efa\",\"#EF553B\",\"#00cc96\",\"#ab63fa\",\"#FFA15A\",\"#19d3f3\",\"#FF6692\",\"#B6E880\",\"#FF97FF\",\"#FECB52\"],\"font\":{\"color\":\"#f2f5fa\"},\"geo\":{\"bgcolor\":\"rgb(17,17,17)\",\"lakecolor\":\"rgb(17,17,17)\",\"landcolor\":\"rgb(17,17,17)\",\"showlakes\":true,\"showland\":true,\"subunitcolor\":\"#506784\"},\"hoverlabel\":{\"align\":\"left\"},\"hovermode\":\"closest\",\"mapbox\":{\"style\":\"dark\"},\"paper_bgcolor\":\"rgb(17,17,17)\",\"plot_bgcolor\":\"rgb(17,17,17)\",\"polar\":{\"angularaxis\":{\"gridcolor\":\"#506784\",\"linecolor\":\"#506784\",\"ticks\":\"\"},\"bgcolor\":\"rgb(17,17,17)\",\"radialaxis\":{\"gridcolor\":\"#506784\",\"linecolor\":\"#506784\",\"ticks\":\"\"}},\"scene\":{\"xaxis\":{\"backgroundcolor\":\"rgb(17,17,17)\",\"gridcolor\":\"#506784\",\"gridwidth\":2,\"linecolor\":\"#506784\",\"showbackground\":true,\"ticks\":\"\",\"zerolinecolor\":\"#C8D4E3\"},\"yaxis\":{\"backgroundcolor\":\"rgb(17,17,17)\",\"gridcolor\":\"#506784\",\"gridwidth\":2,\"linecolor\":\"#506784\",\"showbackground\":true,\"ticks\":\"\",\"zerolinecolor\":\"#C8D4E3\"},\"zaxis\":{\"backgroundcolor\":\"rgb(17,17,17)\",\"gridcolor\":\"#506784\",\"gridwidth\":2,\"linecolor\":\"#506784\",\"showbackground\":true,\"ticks\":\"\",\"zerolinecolor\":\"#C8D4E3\"}},\"shapedefaults\":{\"line\":{\"color\":\"#f2f5fa\"}},\"sliderdefaults\":{\"bgcolor\":\"#C8D4E3\",\"bordercolor\":\"rgb(17,17,17)\",\"borderwidth\":1,\"tickwidth\":0},\"ternary\":{\"aaxis\":{\"gridcolor\":\"#506784\",\"linecolor\":\"#506784\",\"ticks\":\"\"},\"baxis\":{\"gridcolor\":\"#506784\",\"linecolor\":\"#506784\",\"ticks\":\"\"},\"bgcolor\":\"rgb(17,17,17)\",\"caxis\":{\"gridcolor\":\"#506784\",\"linecolor\":\"#506784\",\"ticks\":\"\"}},\"title\":{\"x\":0.05},\"updatemenudefaults\":{\"bgcolor\":\"#506784\",\"borderwidth\":0},\"xaxis\":{\"automargin\":true,\"gridcolor\":\"#283442\",\"linecolor\":\"#506784\",\"ticks\":\"\",\"title\":{\"standoff\":15},\"zerolinecolor\":\"#283442\",\"zerolinewidth\":2},\"yaxis\":{\"automargin\":true,\"gridcolor\":\"#283442\",\"linecolor\":\"#506784\",\"ticks\":\"\",\"title\":{\"standoff\":15},\"zerolinecolor\":\"#283442\",\"zerolinewidth\":2}}},\"xaxis\":{\"anchor\":\"y\",\"domain\":[0.0,1.0],\"title\":{\"text\":\"age\"}},\"yaxis\":{\"anchor\":\"x\",\"domain\":[0.0,1.0],\"title\":{\"text\":\"sum of age_smoker\"}},\"legend\":{\"title\":{\"text\":\"smoker\"},\"tracegroupgap\":0},\"title\":{\"text\":\"Let's visualize the  which age pepole have most smokers \"},\"barmode\":\"relative\",\"bargap\":0.5,\"plot_bgcolor\":\"orange\"},                        {\"responsive\": true}                    ).then(function(){\n",
              "                            \n",
              "var gd = document.getElementById('8676c62b-ac39-4359-a60f-641355f4ce17');\n",
              "var x = new MutationObserver(function (mutations, observer) {{\n",
              "        var display = window.getComputedStyle(gd).display;\n",
              "        if (!display || display === 'none') {{\n",
              "            console.log([gd, 'removed!']);\n",
              "            Plotly.purge(gd);\n",
              "            observer.disconnect();\n",
              "        }}\n",
              "}});\n",
              "\n",
              "// Listen for the removal of the full notebook cells\n",
              "var notebookContainer = gd.closest('#notebook-container');\n",
              "if (notebookContainer) {{\n",
              "    x.observe(notebookContainer, {childList: true});\n",
              "}}\n",
              "\n",
              "// Listen for the clearing of the current output cell\n",
              "var outputEl = gd.closest('.output');\n",
              "if (outputEl) {{\n",
              "    x.observe(outputEl, {childList: true});\n",
              "}}\n",
              "\n",
              "                        })                };                            </script>        </div>\n",
              "</body>\n",
              "</html>"
            ]
          },
          "metadata": {}
        }
      ],
      "source": [
        "#To visualize the above data using the using the plotly\n",
        "fig=px.histogram(smoker,x='age',color='smoker',y='age_smoker',title=\"Let's visualize the  which age pepole have most smokers \")\n",
        "fig.update_layout(bargap=0.5,plot_bgcolor='orange',template = \"plotly_dark\")\n",
        "fig.show()"
      ]
    },
    {
      "cell_type": "markdown",
      "id": "f3275e42",
      "metadata": {
        "id": "f3275e42"
      },
      "source": [
        "# Observations:\n",
        "1) After analysis the data the most smoker age between the 40-45\n",
        "2) At the age 50-54 age people most non smokers"
      ]
    },
    {
      "cell_type": "code",
      "execution_count": 21,
      "id": "e876a2d9",
      "metadata": {
        "id": "e876a2d9",
        "outputId": "684971af-7d57-4521-902d-eac628e88ae3",
        "colab": {
          "base_uri": "https://localhost:8080/",
          "height": 175
        }
      },
      "outputs": [
        {
          "output_type": "execute_result",
          "data": {
            "text/plain": [
              "      sex smoker  gender_smoker\n",
              "0  female     no            547\n",
              "1  female    yes            115\n",
              "2    male     no            517\n",
              "3    male    yes            159"
            ],
            "text/html": [
              "\n",
              "  <div id=\"df-6f10bc6d-302d-4464-af97-3280239d4456\">\n",
              "    <div class=\"colab-df-container\">\n",
              "      <div>\n",
              "<style scoped>\n",
              "    .dataframe tbody tr th:only-of-type {\n",
              "        vertical-align: middle;\n",
              "    }\n",
              "\n",
              "    .dataframe tbody tr th {\n",
              "        vertical-align: top;\n",
              "    }\n",
              "\n",
              "    .dataframe thead th {\n",
              "        text-align: right;\n",
              "    }\n",
              "</style>\n",
              "<table border=\"1\" class=\"dataframe\">\n",
              "  <thead>\n",
              "    <tr style=\"text-align: right;\">\n",
              "      <th></th>\n",
              "      <th>sex</th>\n",
              "      <th>smoker</th>\n",
              "      <th>gender_smoker</th>\n",
              "    </tr>\n",
              "  </thead>\n",
              "  <tbody>\n",
              "    <tr>\n",
              "      <th>0</th>\n",
              "      <td>female</td>\n",
              "      <td>no</td>\n",
              "      <td>547</td>\n",
              "    </tr>\n",
              "    <tr>\n",
              "      <th>1</th>\n",
              "      <td>female</td>\n",
              "      <td>yes</td>\n",
              "      <td>115</td>\n",
              "    </tr>\n",
              "    <tr>\n",
              "      <th>2</th>\n",
              "      <td>male</td>\n",
              "      <td>no</td>\n",
              "      <td>517</td>\n",
              "    </tr>\n",
              "    <tr>\n",
              "      <th>3</th>\n",
              "      <td>male</td>\n",
              "      <td>yes</td>\n",
              "      <td>159</td>\n",
              "    </tr>\n",
              "  </tbody>\n",
              "</table>\n",
              "</div>\n",
              "      <button class=\"colab-df-convert\" onclick=\"convertToInteractive('df-6f10bc6d-302d-4464-af97-3280239d4456')\"\n",
              "              title=\"Convert this dataframe to an interactive table.\"\n",
              "              style=\"display:none;\">\n",
              "        \n",
              "  <svg xmlns=\"http://www.w3.org/2000/svg\" height=\"24px\"viewBox=\"0 0 24 24\"\n",
              "       width=\"24px\">\n",
              "    <path d=\"M0 0h24v24H0V0z\" fill=\"none\"/>\n",
              "    <path d=\"M18.56 5.44l.94 2.06.94-2.06 2.06-.94-2.06-.94-.94-2.06-.94 2.06-2.06.94zm-11 1L8.5 8.5l.94-2.06 2.06-.94-2.06-.94L8.5 2.5l-.94 2.06-2.06.94zm10 10l.94 2.06.94-2.06 2.06-.94-2.06-.94-.94-2.06-.94 2.06-2.06.94z\"/><path d=\"M17.41 7.96l-1.37-1.37c-.4-.4-.92-.59-1.43-.59-.52 0-1.04.2-1.43.59L10.3 9.45l-7.72 7.72c-.78.78-.78 2.05 0 2.83L4 21.41c.39.39.9.59 1.41.59.51 0 1.02-.2 1.41-.59l7.78-7.78 2.81-2.81c.8-.78.8-2.07 0-2.86zM5.41 20L4 18.59l7.72-7.72 1.47 1.35L5.41 20z\"/>\n",
              "  </svg>\n",
              "      </button>\n",
              "      \n",
              "  <style>\n",
              "    .colab-df-container {\n",
              "      display:flex;\n",
              "      flex-wrap:wrap;\n",
              "      gap: 12px;\n",
              "    }\n",
              "\n",
              "    .colab-df-convert {\n",
              "      background-color: #E8F0FE;\n",
              "      border: none;\n",
              "      border-radius: 50%;\n",
              "      cursor: pointer;\n",
              "      display: none;\n",
              "      fill: #1967D2;\n",
              "      height: 32px;\n",
              "      padding: 0 0 0 0;\n",
              "      width: 32px;\n",
              "    }\n",
              "\n",
              "    .colab-df-convert:hover {\n",
              "      background-color: #E2EBFA;\n",
              "      box-shadow: 0px 1px 2px rgba(60, 64, 67, 0.3), 0px 1px 3px 1px rgba(60, 64, 67, 0.15);\n",
              "      fill: #174EA6;\n",
              "    }\n",
              "\n",
              "    [theme=dark] .colab-df-convert {\n",
              "      background-color: #3B4455;\n",
              "      fill: #D2E3FC;\n",
              "    }\n",
              "\n",
              "    [theme=dark] .colab-df-convert:hover {\n",
              "      background-color: #434B5C;\n",
              "      box-shadow: 0px 1px 3px 1px rgba(0, 0, 0, 0.15);\n",
              "      filter: drop-shadow(0px 1px 2px rgba(0, 0, 0, 0.3));\n",
              "      fill: #FFFFFF;\n",
              "    }\n",
              "  </style>\n",
              "\n",
              "      <script>\n",
              "        const buttonEl =\n",
              "          document.querySelector('#df-6f10bc6d-302d-4464-af97-3280239d4456 button.colab-df-convert');\n",
              "        buttonEl.style.display =\n",
              "          google.colab.kernel.accessAllowed ? 'block' : 'none';\n",
              "\n",
              "        async function convertToInteractive(key) {\n",
              "          const element = document.querySelector('#df-6f10bc6d-302d-4464-af97-3280239d4456');\n",
              "          const dataTable =\n",
              "            await google.colab.kernel.invokeFunction('convertToInteractive',\n",
              "                                                     [key], {});\n",
              "          if (!dataTable) return;\n",
              "\n",
              "          const docLinkHtml = 'Like what you see? Visit the ' +\n",
              "            '<a target=\"_blank\" href=https://colab.research.google.com/notebooks/data_table.ipynb>data table notebook</a>'\n",
              "            + ' to learn more about interactive tables.';\n",
              "          element.innerHTML = '';\n",
              "          dataTable['output_type'] = 'display_data';\n",
              "          await google.colab.output.renderOutput(dataTable, element);\n",
              "          const docLink = document.createElement('div');\n",
              "          docLink.innerHTML = docLinkHtml;\n",
              "          element.appendChild(docLink);\n",
              "        }\n",
              "      </script>\n",
              "    </div>\n",
              "  </div>\n",
              "  "
            ]
          },
          "metadata": {},
          "execution_count": 21
        }
      ],
      "source": [
        "#Analysis the data which gender is smoker is more in the data\n",
        "gender=data.groupby(['sex','smoker']).size().reset_index().rename(columns={0:'gender_smoker'})\n",
        "gender.head()"
      ]
    },
    {
      "cell_type": "code",
      "execution_count": 22,
      "id": "b1220d91",
      "metadata": {
        "id": "b1220d91",
        "outputId": "2a027485-ce47-48c9-ab0e-2f6c45b23e4e",
        "colab": {
          "base_uri": "https://localhost:8080/",
          "height": 542
        }
      },
      "outputs": [
        {
          "output_type": "display_data",
          "data": {
            "text/html": [
              "<html>\n",
              "<head><meta charset=\"utf-8\" /></head>\n",
              "<body>\n",
              "    <div>            <script src=\"https://cdnjs.cloudflare.com/ajax/libs/mathjax/2.7.5/MathJax.js?config=TeX-AMS-MML_SVG\"></script><script type=\"text/javascript\">if (window.MathJax) {MathJax.Hub.Config({SVG: {font: \"STIX-Web\"}});}</script>                <script type=\"text/javascript\">window.PlotlyConfig = {MathJaxConfig: 'local'};</script>\n",
              "        <script src=\"https://cdn.plot.ly/plotly-2.8.3.min.js\"></script>                <div id=\"11a97ef1-66cb-4b42-b82c-c6614071a85b\" class=\"plotly-graph-div\" style=\"height:525px; width:100%;\"></div>            <script type=\"text/javascript\">                                    window.PLOTLYENV=window.PLOTLYENV || {};                                    if (document.getElementById(\"11a97ef1-66cb-4b42-b82c-c6614071a85b\")) {                    Plotly.newPlot(                        \"11a97ef1-66cb-4b42-b82c-c6614071a85b\",                        [{\"alignmentgroup\":\"True\",\"bingroup\":\"x\",\"histfunc\":\"sum\",\"hovertemplate\":\"smoker=no<br>sex=%{x}<br>sum of gender_smoker=%{y}<extra></extra>\",\"legendgroup\":\"no\",\"marker\":{\"color\":\"#636efa\",\"pattern\":{\"shape\":\"\"}},\"name\":\"no\",\"offsetgroup\":\"no\",\"orientation\":\"v\",\"showlegend\":true,\"x\":[\"female\",\"male\"],\"xaxis\":\"x\",\"y\":[547,517],\"yaxis\":\"y\",\"type\":\"histogram\"},{\"alignmentgroup\":\"True\",\"bingroup\":\"x\",\"histfunc\":\"sum\",\"hovertemplate\":\"smoker=yes<br>sex=%{x}<br>sum of gender_smoker=%{y}<extra></extra>\",\"legendgroup\":\"yes\",\"marker\":{\"color\":\"#EF553B\",\"pattern\":{\"shape\":\"\"}},\"name\":\"yes\",\"offsetgroup\":\"yes\",\"orientation\":\"v\",\"showlegend\":true,\"x\":[\"female\",\"male\"],\"xaxis\":\"x\",\"y\":[115,159],\"yaxis\":\"y\",\"type\":\"histogram\"}],                        {\"template\":{\"data\":{\"barpolar\":[{\"marker\":{\"line\":{\"color\":\"rgb(17,17,17)\",\"width\":0.5},\"pattern\":{\"fillmode\":\"overlay\",\"size\":10,\"solidity\":0.2}},\"type\":\"barpolar\"}],\"bar\":[{\"error_x\":{\"color\":\"#f2f5fa\"},\"error_y\":{\"color\":\"#f2f5fa\"},\"marker\":{\"line\":{\"color\":\"rgb(17,17,17)\",\"width\":0.5},\"pattern\":{\"fillmode\":\"overlay\",\"size\":10,\"solidity\":0.2}},\"type\":\"bar\"}],\"carpet\":[{\"aaxis\":{\"endlinecolor\":\"#A2B1C6\",\"gridcolor\":\"#506784\",\"linecolor\":\"#506784\",\"minorgridcolor\":\"#506784\",\"startlinecolor\":\"#A2B1C6\"},\"baxis\":{\"endlinecolor\":\"#A2B1C6\",\"gridcolor\":\"#506784\",\"linecolor\":\"#506784\",\"minorgridcolor\":\"#506784\",\"startlinecolor\":\"#A2B1C6\"},\"type\":\"carpet\"}],\"choropleth\":[{\"colorbar\":{\"outlinewidth\":0,\"ticks\":\"\"},\"type\":\"choropleth\"}],\"contourcarpet\":[{\"colorbar\":{\"outlinewidth\":0,\"ticks\":\"\"},\"type\":\"contourcarpet\"}],\"contour\":[{\"colorbar\":{\"outlinewidth\":0,\"ticks\":\"\"},\"colorscale\":[[0.0,\"#0d0887\"],[0.1111111111111111,\"#46039f\"],[0.2222222222222222,\"#7201a8\"],[0.3333333333333333,\"#9c179e\"],[0.4444444444444444,\"#bd3786\"],[0.5555555555555556,\"#d8576b\"],[0.6666666666666666,\"#ed7953\"],[0.7777777777777778,\"#fb9f3a\"],[0.8888888888888888,\"#fdca26\"],[1.0,\"#f0f921\"]],\"type\":\"contour\"}],\"heatmapgl\":[{\"colorbar\":{\"outlinewidth\":0,\"ticks\":\"\"},\"colorscale\":[[0.0,\"#0d0887\"],[0.1111111111111111,\"#46039f\"],[0.2222222222222222,\"#7201a8\"],[0.3333333333333333,\"#9c179e\"],[0.4444444444444444,\"#bd3786\"],[0.5555555555555556,\"#d8576b\"],[0.6666666666666666,\"#ed7953\"],[0.7777777777777778,\"#fb9f3a\"],[0.8888888888888888,\"#fdca26\"],[1.0,\"#f0f921\"]],\"type\":\"heatmapgl\"}],\"heatmap\":[{\"colorbar\":{\"outlinewidth\":0,\"ticks\":\"\"},\"colorscale\":[[0.0,\"#0d0887\"],[0.1111111111111111,\"#46039f\"],[0.2222222222222222,\"#7201a8\"],[0.3333333333333333,\"#9c179e\"],[0.4444444444444444,\"#bd3786\"],[0.5555555555555556,\"#d8576b\"],[0.6666666666666666,\"#ed7953\"],[0.7777777777777778,\"#fb9f3a\"],[0.8888888888888888,\"#fdca26\"],[1.0,\"#f0f921\"]],\"type\":\"heatmap\"}],\"histogram2dcontour\":[{\"colorbar\":{\"outlinewidth\":0,\"ticks\":\"\"},\"colorscale\":[[0.0,\"#0d0887\"],[0.1111111111111111,\"#46039f\"],[0.2222222222222222,\"#7201a8\"],[0.3333333333333333,\"#9c179e\"],[0.4444444444444444,\"#bd3786\"],[0.5555555555555556,\"#d8576b\"],[0.6666666666666666,\"#ed7953\"],[0.7777777777777778,\"#fb9f3a\"],[0.8888888888888888,\"#fdca26\"],[1.0,\"#f0f921\"]],\"type\":\"histogram2dcontour\"}],\"histogram2d\":[{\"colorbar\":{\"outlinewidth\":0,\"ticks\":\"\"},\"colorscale\":[[0.0,\"#0d0887\"],[0.1111111111111111,\"#46039f\"],[0.2222222222222222,\"#7201a8\"],[0.3333333333333333,\"#9c179e\"],[0.4444444444444444,\"#bd3786\"],[0.5555555555555556,\"#d8576b\"],[0.6666666666666666,\"#ed7953\"],[0.7777777777777778,\"#fb9f3a\"],[0.8888888888888888,\"#fdca26\"],[1.0,\"#f0f921\"]],\"type\":\"histogram2d\"}],\"histogram\":[{\"marker\":{\"pattern\":{\"fillmode\":\"overlay\",\"size\":10,\"solidity\":0.2}},\"type\":\"histogram\"}],\"mesh3d\":[{\"colorbar\":{\"outlinewidth\":0,\"ticks\":\"\"},\"type\":\"mesh3d\"}],\"parcoords\":[{\"line\":{\"colorbar\":{\"outlinewidth\":0,\"ticks\":\"\"}},\"type\":\"parcoords\"}],\"pie\":[{\"automargin\":true,\"type\":\"pie\"}],\"scatter3d\":[{\"line\":{\"colorbar\":{\"outlinewidth\":0,\"ticks\":\"\"}},\"marker\":{\"colorbar\":{\"outlinewidth\":0,\"ticks\":\"\"}},\"type\":\"scatter3d\"}],\"scattercarpet\":[{\"marker\":{\"colorbar\":{\"outlinewidth\":0,\"ticks\":\"\"}},\"type\":\"scattercarpet\"}],\"scattergeo\":[{\"marker\":{\"colorbar\":{\"outlinewidth\":0,\"ticks\":\"\"}},\"type\":\"scattergeo\"}],\"scattergl\":[{\"marker\":{\"line\":{\"color\":\"#283442\"}},\"type\":\"scattergl\"}],\"scattermapbox\":[{\"marker\":{\"colorbar\":{\"outlinewidth\":0,\"ticks\":\"\"}},\"type\":\"scattermapbox\"}],\"scatterpolargl\":[{\"marker\":{\"colorbar\":{\"outlinewidth\":0,\"ticks\":\"\"}},\"type\":\"scatterpolargl\"}],\"scatterpolar\":[{\"marker\":{\"colorbar\":{\"outlinewidth\":0,\"ticks\":\"\"}},\"type\":\"scatterpolar\"}],\"scatter\":[{\"marker\":{\"line\":{\"color\":\"#283442\"}},\"type\":\"scatter\"}],\"scatterternary\":[{\"marker\":{\"colorbar\":{\"outlinewidth\":0,\"ticks\":\"\"}},\"type\":\"scatterternary\"}],\"surface\":[{\"colorbar\":{\"outlinewidth\":0,\"ticks\":\"\"},\"colorscale\":[[0.0,\"#0d0887\"],[0.1111111111111111,\"#46039f\"],[0.2222222222222222,\"#7201a8\"],[0.3333333333333333,\"#9c179e\"],[0.4444444444444444,\"#bd3786\"],[0.5555555555555556,\"#d8576b\"],[0.6666666666666666,\"#ed7953\"],[0.7777777777777778,\"#fb9f3a\"],[0.8888888888888888,\"#fdca26\"],[1.0,\"#f0f921\"]],\"type\":\"surface\"}],\"table\":[{\"cells\":{\"fill\":{\"color\":\"#506784\"},\"line\":{\"color\":\"rgb(17,17,17)\"}},\"header\":{\"fill\":{\"color\":\"#2a3f5f\"},\"line\":{\"color\":\"rgb(17,17,17)\"}},\"type\":\"table\"}]},\"layout\":{\"annotationdefaults\":{\"arrowcolor\":\"#f2f5fa\",\"arrowhead\":0,\"arrowwidth\":1},\"autotypenumbers\":\"strict\",\"coloraxis\":{\"colorbar\":{\"outlinewidth\":0,\"ticks\":\"\"}},\"colorscale\":{\"diverging\":[[0,\"#8e0152\"],[0.1,\"#c51b7d\"],[0.2,\"#de77ae\"],[0.3,\"#f1b6da\"],[0.4,\"#fde0ef\"],[0.5,\"#f7f7f7\"],[0.6,\"#e6f5d0\"],[0.7,\"#b8e186\"],[0.8,\"#7fbc41\"],[0.9,\"#4d9221\"],[1,\"#276419\"]],\"sequential\":[[0.0,\"#0d0887\"],[0.1111111111111111,\"#46039f\"],[0.2222222222222222,\"#7201a8\"],[0.3333333333333333,\"#9c179e\"],[0.4444444444444444,\"#bd3786\"],[0.5555555555555556,\"#d8576b\"],[0.6666666666666666,\"#ed7953\"],[0.7777777777777778,\"#fb9f3a\"],[0.8888888888888888,\"#fdca26\"],[1.0,\"#f0f921\"]],\"sequentialminus\":[[0.0,\"#0d0887\"],[0.1111111111111111,\"#46039f\"],[0.2222222222222222,\"#7201a8\"],[0.3333333333333333,\"#9c179e\"],[0.4444444444444444,\"#bd3786\"],[0.5555555555555556,\"#d8576b\"],[0.6666666666666666,\"#ed7953\"],[0.7777777777777778,\"#fb9f3a\"],[0.8888888888888888,\"#fdca26\"],[1.0,\"#f0f921\"]]},\"colorway\":[\"#636efa\",\"#EF553B\",\"#00cc96\",\"#ab63fa\",\"#FFA15A\",\"#19d3f3\",\"#FF6692\",\"#B6E880\",\"#FF97FF\",\"#FECB52\"],\"font\":{\"color\":\"#f2f5fa\"},\"geo\":{\"bgcolor\":\"rgb(17,17,17)\",\"lakecolor\":\"rgb(17,17,17)\",\"landcolor\":\"rgb(17,17,17)\",\"showlakes\":true,\"showland\":true,\"subunitcolor\":\"#506784\"},\"hoverlabel\":{\"align\":\"left\"},\"hovermode\":\"closest\",\"mapbox\":{\"style\":\"dark\"},\"paper_bgcolor\":\"rgb(17,17,17)\",\"plot_bgcolor\":\"rgb(17,17,17)\",\"polar\":{\"angularaxis\":{\"gridcolor\":\"#506784\",\"linecolor\":\"#506784\",\"ticks\":\"\"},\"bgcolor\":\"rgb(17,17,17)\",\"radialaxis\":{\"gridcolor\":\"#506784\",\"linecolor\":\"#506784\",\"ticks\":\"\"}},\"scene\":{\"xaxis\":{\"backgroundcolor\":\"rgb(17,17,17)\",\"gridcolor\":\"#506784\",\"gridwidth\":2,\"linecolor\":\"#506784\",\"showbackground\":true,\"ticks\":\"\",\"zerolinecolor\":\"#C8D4E3\"},\"yaxis\":{\"backgroundcolor\":\"rgb(17,17,17)\",\"gridcolor\":\"#506784\",\"gridwidth\":2,\"linecolor\":\"#506784\",\"showbackground\":true,\"ticks\":\"\",\"zerolinecolor\":\"#C8D4E3\"},\"zaxis\":{\"backgroundcolor\":\"rgb(17,17,17)\",\"gridcolor\":\"#506784\",\"gridwidth\":2,\"linecolor\":\"#506784\",\"showbackground\":true,\"ticks\":\"\",\"zerolinecolor\":\"#C8D4E3\"}},\"shapedefaults\":{\"line\":{\"color\":\"#f2f5fa\"}},\"sliderdefaults\":{\"bgcolor\":\"#C8D4E3\",\"bordercolor\":\"rgb(17,17,17)\",\"borderwidth\":1,\"tickwidth\":0},\"ternary\":{\"aaxis\":{\"gridcolor\":\"#506784\",\"linecolor\":\"#506784\",\"ticks\":\"\"},\"baxis\":{\"gridcolor\":\"#506784\",\"linecolor\":\"#506784\",\"ticks\":\"\"},\"bgcolor\":\"rgb(17,17,17)\",\"caxis\":{\"gridcolor\":\"#506784\",\"linecolor\":\"#506784\",\"ticks\":\"\"}},\"title\":{\"x\":0.05},\"updatemenudefaults\":{\"bgcolor\":\"#506784\",\"borderwidth\":0},\"xaxis\":{\"automargin\":true,\"gridcolor\":\"#283442\",\"linecolor\":\"#506784\",\"ticks\":\"\",\"title\":{\"standoff\":15},\"zerolinecolor\":\"#283442\",\"zerolinewidth\":2},\"yaxis\":{\"automargin\":true,\"gridcolor\":\"#283442\",\"linecolor\":\"#506784\",\"ticks\":\"\",\"title\":{\"standoff\":15},\"zerolinecolor\":\"#283442\",\"zerolinewidth\":2}}},\"xaxis\":{\"anchor\":\"y\",\"domain\":[0.0,1.0],\"title\":{\"text\":\"sex\"}},\"yaxis\":{\"anchor\":\"x\",\"domain\":[0.0,1.0],\"title\":{\"text\":\"sum of gender_smoker\"}},\"legend\":{\"title\":{\"text\":\"smoker\"},\"tracegroupgap\":0},\"title\":{\"text\":\"Let's visualize the which gender is smoker\"},\"barmode\":\"relative\",\"bargap\":0.5,\"plot_bgcolor\":\"gray\"},                        {\"responsive\": true}                    ).then(function(){\n",
              "                            \n",
              "var gd = document.getElementById('11a97ef1-66cb-4b42-b82c-c6614071a85b');\n",
              "var x = new MutationObserver(function (mutations, observer) {{\n",
              "        var display = window.getComputedStyle(gd).display;\n",
              "        if (!display || display === 'none') {{\n",
              "            console.log([gd, 'removed!']);\n",
              "            Plotly.purge(gd);\n",
              "            observer.disconnect();\n",
              "        }}\n",
              "}});\n",
              "\n",
              "// Listen for the removal of the full notebook cells\n",
              "var notebookContainer = gd.closest('#notebook-container');\n",
              "if (notebookContainer) {{\n",
              "    x.observe(notebookContainer, {childList: true});\n",
              "}}\n",
              "\n",
              "// Listen for the clearing of the current output cell\n",
              "var outputEl = gd.closest('.output');\n",
              "if (outputEl) {{\n",
              "    x.observe(outputEl, {childList: true});\n",
              "}}\n",
              "\n",
              "                        })                };                            </script>        </div>\n",
              "</body>\n",
              "</html>"
            ]
          },
          "metadata": {}
        }
      ],
      "source": [
        "#To analysis the data and visualize the some data points using the plotly bargraph\n",
        "fig=px.histogram(gender,y='gender_smoker',color='smoker',x='sex',title=\"Let's visualize the which gender is smoker\")\n",
        "fig.update_layout(bargap=0.5,plot_bgcolor='gray',template = \"plotly_dark\")\n",
        "fig.show()"
      ]
    },
    {
      "cell_type": "markdown",
      "id": "d96f77f8",
      "metadata": {
        "id": "d96f77f8"
      },
      "source": [
        "# Observations:\n",
        "1)To analysis the above data male gender is more smoker\n",
        "2)And The non-smoker female gender si more"
      ]
    },
    {
      "cell_type": "code",
      "execution_count": 23,
      "id": "705142d7",
      "metadata": {
        "id": "705142d7",
        "outputId": "53e68007-c9b1-4701-e052-cd6ddfba964a",
        "colab": {
          "base_uri": "https://localhost:8080/",
          "height": 206
        }
      },
      "outputs": [
        {
          "output_type": "execute_result",
          "data": {
            "text/plain": [
              "      region smoker  region_smoker\n",
              "4  southeast     no            273\n",
              "2  northwest     no            267\n",
              "6  southwest     no            267\n",
              "0  northeast     no            257\n",
              "5  southeast    yes             91"
            ],
            "text/html": [
              "\n",
              "  <div id=\"df-ed630e75-2bce-4e80-8711-f075342b47d7\">\n",
              "    <div class=\"colab-df-container\">\n",
              "      <div>\n",
              "<style scoped>\n",
              "    .dataframe tbody tr th:only-of-type {\n",
              "        vertical-align: middle;\n",
              "    }\n",
              "\n",
              "    .dataframe tbody tr th {\n",
              "        vertical-align: top;\n",
              "    }\n",
              "\n",
              "    .dataframe thead th {\n",
              "        text-align: right;\n",
              "    }\n",
              "</style>\n",
              "<table border=\"1\" class=\"dataframe\">\n",
              "  <thead>\n",
              "    <tr style=\"text-align: right;\">\n",
              "      <th></th>\n",
              "      <th>region</th>\n",
              "      <th>smoker</th>\n",
              "      <th>region_smoker</th>\n",
              "    </tr>\n",
              "  </thead>\n",
              "  <tbody>\n",
              "    <tr>\n",
              "      <th>4</th>\n",
              "      <td>southeast</td>\n",
              "      <td>no</td>\n",
              "      <td>273</td>\n",
              "    </tr>\n",
              "    <tr>\n",
              "      <th>2</th>\n",
              "      <td>northwest</td>\n",
              "      <td>no</td>\n",
              "      <td>267</td>\n",
              "    </tr>\n",
              "    <tr>\n",
              "      <th>6</th>\n",
              "      <td>southwest</td>\n",
              "      <td>no</td>\n",
              "      <td>267</td>\n",
              "    </tr>\n",
              "    <tr>\n",
              "      <th>0</th>\n",
              "      <td>northeast</td>\n",
              "      <td>no</td>\n",
              "      <td>257</td>\n",
              "    </tr>\n",
              "    <tr>\n",
              "      <th>5</th>\n",
              "      <td>southeast</td>\n",
              "      <td>yes</td>\n",
              "      <td>91</td>\n",
              "    </tr>\n",
              "  </tbody>\n",
              "</table>\n",
              "</div>\n",
              "      <button class=\"colab-df-convert\" onclick=\"convertToInteractive('df-ed630e75-2bce-4e80-8711-f075342b47d7')\"\n",
              "              title=\"Convert this dataframe to an interactive table.\"\n",
              "              style=\"display:none;\">\n",
              "        \n",
              "  <svg xmlns=\"http://www.w3.org/2000/svg\" height=\"24px\"viewBox=\"0 0 24 24\"\n",
              "       width=\"24px\">\n",
              "    <path d=\"M0 0h24v24H0V0z\" fill=\"none\"/>\n",
              "    <path d=\"M18.56 5.44l.94 2.06.94-2.06 2.06-.94-2.06-.94-.94-2.06-.94 2.06-2.06.94zm-11 1L8.5 8.5l.94-2.06 2.06-.94-2.06-.94L8.5 2.5l-.94 2.06-2.06.94zm10 10l.94 2.06.94-2.06 2.06-.94-2.06-.94-.94-2.06-.94 2.06-2.06.94z\"/><path d=\"M17.41 7.96l-1.37-1.37c-.4-.4-.92-.59-1.43-.59-.52 0-1.04.2-1.43.59L10.3 9.45l-7.72 7.72c-.78.78-.78 2.05 0 2.83L4 21.41c.39.39.9.59 1.41.59.51 0 1.02-.2 1.41-.59l7.78-7.78 2.81-2.81c.8-.78.8-2.07 0-2.86zM5.41 20L4 18.59l7.72-7.72 1.47 1.35L5.41 20z\"/>\n",
              "  </svg>\n",
              "      </button>\n",
              "      \n",
              "  <style>\n",
              "    .colab-df-container {\n",
              "      display:flex;\n",
              "      flex-wrap:wrap;\n",
              "      gap: 12px;\n",
              "    }\n",
              "\n",
              "    .colab-df-convert {\n",
              "      background-color: #E8F0FE;\n",
              "      border: none;\n",
              "      border-radius: 50%;\n",
              "      cursor: pointer;\n",
              "      display: none;\n",
              "      fill: #1967D2;\n",
              "      height: 32px;\n",
              "      padding: 0 0 0 0;\n",
              "      width: 32px;\n",
              "    }\n",
              "\n",
              "    .colab-df-convert:hover {\n",
              "      background-color: #E2EBFA;\n",
              "      box-shadow: 0px 1px 2px rgba(60, 64, 67, 0.3), 0px 1px 3px 1px rgba(60, 64, 67, 0.15);\n",
              "      fill: #174EA6;\n",
              "    }\n",
              "\n",
              "    [theme=dark] .colab-df-convert {\n",
              "      background-color: #3B4455;\n",
              "      fill: #D2E3FC;\n",
              "    }\n",
              "\n",
              "    [theme=dark] .colab-df-convert:hover {\n",
              "      background-color: #434B5C;\n",
              "      box-shadow: 0px 1px 3px 1px rgba(0, 0, 0, 0.15);\n",
              "      filter: drop-shadow(0px 1px 2px rgba(0, 0, 0, 0.3));\n",
              "      fill: #FFFFFF;\n",
              "    }\n",
              "  </style>\n",
              "\n",
              "      <script>\n",
              "        const buttonEl =\n",
              "          document.querySelector('#df-ed630e75-2bce-4e80-8711-f075342b47d7 button.colab-df-convert');\n",
              "        buttonEl.style.display =\n",
              "          google.colab.kernel.accessAllowed ? 'block' : 'none';\n",
              "\n",
              "        async function convertToInteractive(key) {\n",
              "          const element = document.querySelector('#df-ed630e75-2bce-4e80-8711-f075342b47d7');\n",
              "          const dataTable =\n",
              "            await google.colab.kernel.invokeFunction('convertToInteractive',\n",
              "                                                     [key], {});\n",
              "          if (!dataTable) return;\n",
              "\n",
              "          const docLinkHtml = 'Like what you see? Visit the ' +\n",
              "            '<a target=\"_blank\" href=https://colab.research.google.com/notebooks/data_table.ipynb>data table notebook</a>'\n",
              "            + ' to learn more about interactive tables.';\n",
              "          element.innerHTML = '';\n",
              "          dataTable['output_type'] = 'display_data';\n",
              "          await google.colab.output.renderOutput(dataTable, element);\n",
              "          const docLink = document.createElement('div');\n",
              "          docLink.innerHTML = docLinkHtml;\n",
              "          element.appendChild(docLink);\n",
              "        }\n",
              "      </script>\n",
              "    </div>\n",
              "  </div>\n",
              "  "
            ]
          },
          "metadata": {},
          "execution_count": 23
        }
      ],
      "source": [
        "# To analysis the data which region peopel is more smoker\n",
        "region=data.groupby(['region','smoker']).size().reset_index().rename(columns={0:'region_smoker'}).sort_values(by='region_smoker',ascending=False)\n",
        "region.head()"
      ]
    },
    {
      "cell_type": "code",
      "execution_count": 24,
      "id": "38d562c9",
      "metadata": {
        "id": "38d562c9",
        "outputId": "2b772a2e-c9b4-4992-a28e-be5da902143a",
        "colab": {
          "base_uri": "https://localhost:8080/",
          "height": 542
        }
      },
      "outputs": [
        {
          "output_type": "display_data",
          "data": {
            "text/html": [
              "<html>\n",
              "<head><meta charset=\"utf-8\" /></head>\n",
              "<body>\n",
              "    <div>            <script src=\"https://cdnjs.cloudflare.com/ajax/libs/mathjax/2.7.5/MathJax.js?config=TeX-AMS-MML_SVG\"></script><script type=\"text/javascript\">if (window.MathJax) {MathJax.Hub.Config({SVG: {font: \"STIX-Web\"}});}</script>                <script type=\"text/javascript\">window.PlotlyConfig = {MathJaxConfig: 'local'};</script>\n",
              "        <script src=\"https://cdn.plot.ly/plotly-2.8.3.min.js\"></script>                <div id=\"60fa2664-72db-4a9b-aa9b-c6bae219dfaf\" class=\"plotly-graph-div\" style=\"height:525px; width:100%;\"></div>            <script type=\"text/javascript\">                                    window.PLOTLYENV=window.PLOTLYENV || {};                                    if (document.getElementById(\"60fa2664-72db-4a9b-aa9b-c6bae219dfaf\")) {                    Plotly.newPlot(                        \"60fa2664-72db-4a9b-aa9b-c6bae219dfaf\",                        [{\"alignmentgroup\":\"True\",\"bingroup\":\"x\",\"histfunc\":\"sum\",\"hovertemplate\":\"smoker=no<br>region=%{x}<br>sum of region_smoker=%{y}<extra></extra>\",\"legendgroup\":\"no\",\"marker\":{\"color\":\"#636efa\",\"pattern\":{\"shape\":\"\"}},\"name\":\"no\",\"offsetgroup\":\"no\",\"orientation\":\"v\",\"showlegend\":true,\"x\":[\"southeast\",\"northwest\",\"southwest\",\"northeast\"],\"xaxis\":\"x\",\"y\":[273,267,267,257],\"yaxis\":\"y\",\"type\":\"histogram\"},{\"alignmentgroup\":\"True\",\"bingroup\":\"x\",\"histfunc\":\"sum\",\"hovertemplate\":\"smoker=yes<br>region=%{x}<br>sum of region_smoker=%{y}<extra></extra>\",\"legendgroup\":\"yes\",\"marker\":{\"color\":\"#EF553B\",\"pattern\":{\"shape\":\"\"}},\"name\":\"yes\",\"offsetgroup\":\"yes\",\"orientation\":\"v\",\"showlegend\":true,\"x\":[\"southeast\",\"northeast\",\"northwest\",\"southwest\"],\"xaxis\":\"x\",\"y\":[91,67,58,58],\"yaxis\":\"y\",\"type\":\"histogram\"}],                        {\"template\":{\"data\":{\"barpolar\":[{\"marker\":{\"line\":{\"color\":\"rgb(17,17,17)\",\"width\":0.5},\"pattern\":{\"fillmode\":\"overlay\",\"size\":10,\"solidity\":0.2}},\"type\":\"barpolar\"}],\"bar\":[{\"error_x\":{\"color\":\"#f2f5fa\"},\"error_y\":{\"color\":\"#f2f5fa\"},\"marker\":{\"line\":{\"color\":\"rgb(17,17,17)\",\"width\":0.5},\"pattern\":{\"fillmode\":\"overlay\",\"size\":10,\"solidity\":0.2}},\"type\":\"bar\"}],\"carpet\":[{\"aaxis\":{\"endlinecolor\":\"#A2B1C6\",\"gridcolor\":\"#506784\",\"linecolor\":\"#506784\",\"minorgridcolor\":\"#506784\",\"startlinecolor\":\"#A2B1C6\"},\"baxis\":{\"endlinecolor\":\"#A2B1C6\",\"gridcolor\":\"#506784\",\"linecolor\":\"#506784\",\"minorgridcolor\":\"#506784\",\"startlinecolor\":\"#A2B1C6\"},\"type\":\"carpet\"}],\"choropleth\":[{\"colorbar\":{\"outlinewidth\":0,\"ticks\":\"\"},\"type\":\"choropleth\"}],\"contourcarpet\":[{\"colorbar\":{\"outlinewidth\":0,\"ticks\":\"\"},\"type\":\"contourcarpet\"}],\"contour\":[{\"colorbar\":{\"outlinewidth\":0,\"ticks\":\"\"},\"colorscale\":[[0.0,\"#0d0887\"],[0.1111111111111111,\"#46039f\"],[0.2222222222222222,\"#7201a8\"],[0.3333333333333333,\"#9c179e\"],[0.4444444444444444,\"#bd3786\"],[0.5555555555555556,\"#d8576b\"],[0.6666666666666666,\"#ed7953\"],[0.7777777777777778,\"#fb9f3a\"],[0.8888888888888888,\"#fdca26\"],[1.0,\"#f0f921\"]],\"type\":\"contour\"}],\"heatmapgl\":[{\"colorbar\":{\"outlinewidth\":0,\"ticks\":\"\"},\"colorscale\":[[0.0,\"#0d0887\"],[0.1111111111111111,\"#46039f\"],[0.2222222222222222,\"#7201a8\"],[0.3333333333333333,\"#9c179e\"],[0.4444444444444444,\"#bd3786\"],[0.5555555555555556,\"#d8576b\"],[0.6666666666666666,\"#ed7953\"],[0.7777777777777778,\"#fb9f3a\"],[0.8888888888888888,\"#fdca26\"],[1.0,\"#f0f921\"]],\"type\":\"heatmapgl\"}],\"heatmap\":[{\"colorbar\":{\"outlinewidth\":0,\"ticks\":\"\"},\"colorscale\":[[0.0,\"#0d0887\"],[0.1111111111111111,\"#46039f\"],[0.2222222222222222,\"#7201a8\"],[0.3333333333333333,\"#9c179e\"],[0.4444444444444444,\"#bd3786\"],[0.5555555555555556,\"#d8576b\"],[0.6666666666666666,\"#ed7953\"],[0.7777777777777778,\"#fb9f3a\"],[0.8888888888888888,\"#fdca26\"],[1.0,\"#f0f921\"]],\"type\":\"heatmap\"}],\"histogram2dcontour\":[{\"colorbar\":{\"outlinewidth\":0,\"ticks\":\"\"},\"colorscale\":[[0.0,\"#0d0887\"],[0.1111111111111111,\"#46039f\"],[0.2222222222222222,\"#7201a8\"],[0.3333333333333333,\"#9c179e\"],[0.4444444444444444,\"#bd3786\"],[0.5555555555555556,\"#d8576b\"],[0.6666666666666666,\"#ed7953\"],[0.7777777777777778,\"#fb9f3a\"],[0.8888888888888888,\"#fdca26\"],[1.0,\"#f0f921\"]],\"type\":\"histogram2dcontour\"}],\"histogram2d\":[{\"colorbar\":{\"outlinewidth\":0,\"ticks\":\"\"},\"colorscale\":[[0.0,\"#0d0887\"],[0.1111111111111111,\"#46039f\"],[0.2222222222222222,\"#7201a8\"],[0.3333333333333333,\"#9c179e\"],[0.4444444444444444,\"#bd3786\"],[0.5555555555555556,\"#d8576b\"],[0.6666666666666666,\"#ed7953\"],[0.7777777777777778,\"#fb9f3a\"],[0.8888888888888888,\"#fdca26\"],[1.0,\"#f0f921\"]],\"type\":\"histogram2d\"}],\"histogram\":[{\"marker\":{\"pattern\":{\"fillmode\":\"overlay\",\"size\":10,\"solidity\":0.2}},\"type\":\"histogram\"}],\"mesh3d\":[{\"colorbar\":{\"outlinewidth\":0,\"ticks\":\"\"},\"type\":\"mesh3d\"}],\"parcoords\":[{\"line\":{\"colorbar\":{\"outlinewidth\":0,\"ticks\":\"\"}},\"type\":\"parcoords\"}],\"pie\":[{\"automargin\":true,\"type\":\"pie\"}],\"scatter3d\":[{\"line\":{\"colorbar\":{\"outlinewidth\":0,\"ticks\":\"\"}},\"marker\":{\"colorbar\":{\"outlinewidth\":0,\"ticks\":\"\"}},\"type\":\"scatter3d\"}],\"scattercarpet\":[{\"marker\":{\"colorbar\":{\"outlinewidth\":0,\"ticks\":\"\"}},\"type\":\"scattercarpet\"}],\"scattergeo\":[{\"marker\":{\"colorbar\":{\"outlinewidth\":0,\"ticks\":\"\"}},\"type\":\"scattergeo\"}],\"scattergl\":[{\"marker\":{\"line\":{\"color\":\"#283442\"}},\"type\":\"scattergl\"}],\"scattermapbox\":[{\"marker\":{\"colorbar\":{\"outlinewidth\":0,\"ticks\":\"\"}},\"type\":\"scattermapbox\"}],\"scatterpolargl\":[{\"marker\":{\"colorbar\":{\"outlinewidth\":0,\"ticks\":\"\"}},\"type\":\"scatterpolargl\"}],\"scatterpolar\":[{\"marker\":{\"colorbar\":{\"outlinewidth\":0,\"ticks\":\"\"}},\"type\":\"scatterpolar\"}],\"scatter\":[{\"marker\":{\"line\":{\"color\":\"#283442\"}},\"type\":\"scatter\"}],\"scatterternary\":[{\"marker\":{\"colorbar\":{\"outlinewidth\":0,\"ticks\":\"\"}},\"type\":\"scatterternary\"}],\"surface\":[{\"colorbar\":{\"outlinewidth\":0,\"ticks\":\"\"},\"colorscale\":[[0.0,\"#0d0887\"],[0.1111111111111111,\"#46039f\"],[0.2222222222222222,\"#7201a8\"],[0.3333333333333333,\"#9c179e\"],[0.4444444444444444,\"#bd3786\"],[0.5555555555555556,\"#d8576b\"],[0.6666666666666666,\"#ed7953\"],[0.7777777777777778,\"#fb9f3a\"],[0.8888888888888888,\"#fdca26\"],[1.0,\"#f0f921\"]],\"type\":\"surface\"}],\"table\":[{\"cells\":{\"fill\":{\"color\":\"#506784\"},\"line\":{\"color\":\"rgb(17,17,17)\"}},\"header\":{\"fill\":{\"color\":\"#2a3f5f\"},\"line\":{\"color\":\"rgb(17,17,17)\"}},\"type\":\"table\"}]},\"layout\":{\"annotationdefaults\":{\"arrowcolor\":\"#f2f5fa\",\"arrowhead\":0,\"arrowwidth\":1},\"autotypenumbers\":\"strict\",\"coloraxis\":{\"colorbar\":{\"outlinewidth\":0,\"ticks\":\"\"}},\"colorscale\":{\"diverging\":[[0,\"#8e0152\"],[0.1,\"#c51b7d\"],[0.2,\"#de77ae\"],[0.3,\"#f1b6da\"],[0.4,\"#fde0ef\"],[0.5,\"#f7f7f7\"],[0.6,\"#e6f5d0\"],[0.7,\"#b8e186\"],[0.8,\"#7fbc41\"],[0.9,\"#4d9221\"],[1,\"#276419\"]],\"sequential\":[[0.0,\"#0d0887\"],[0.1111111111111111,\"#46039f\"],[0.2222222222222222,\"#7201a8\"],[0.3333333333333333,\"#9c179e\"],[0.4444444444444444,\"#bd3786\"],[0.5555555555555556,\"#d8576b\"],[0.6666666666666666,\"#ed7953\"],[0.7777777777777778,\"#fb9f3a\"],[0.8888888888888888,\"#fdca26\"],[1.0,\"#f0f921\"]],\"sequentialminus\":[[0.0,\"#0d0887\"],[0.1111111111111111,\"#46039f\"],[0.2222222222222222,\"#7201a8\"],[0.3333333333333333,\"#9c179e\"],[0.4444444444444444,\"#bd3786\"],[0.5555555555555556,\"#d8576b\"],[0.6666666666666666,\"#ed7953\"],[0.7777777777777778,\"#fb9f3a\"],[0.8888888888888888,\"#fdca26\"],[1.0,\"#f0f921\"]]},\"colorway\":[\"#636efa\",\"#EF553B\",\"#00cc96\",\"#ab63fa\",\"#FFA15A\",\"#19d3f3\",\"#FF6692\",\"#B6E880\",\"#FF97FF\",\"#FECB52\"],\"font\":{\"color\":\"#f2f5fa\"},\"geo\":{\"bgcolor\":\"rgb(17,17,17)\",\"lakecolor\":\"rgb(17,17,17)\",\"landcolor\":\"rgb(17,17,17)\",\"showlakes\":true,\"showland\":true,\"subunitcolor\":\"#506784\"},\"hoverlabel\":{\"align\":\"left\"},\"hovermode\":\"closest\",\"mapbox\":{\"style\":\"dark\"},\"paper_bgcolor\":\"rgb(17,17,17)\",\"plot_bgcolor\":\"rgb(17,17,17)\",\"polar\":{\"angularaxis\":{\"gridcolor\":\"#506784\",\"linecolor\":\"#506784\",\"ticks\":\"\"},\"bgcolor\":\"rgb(17,17,17)\",\"radialaxis\":{\"gridcolor\":\"#506784\",\"linecolor\":\"#506784\",\"ticks\":\"\"}},\"scene\":{\"xaxis\":{\"backgroundcolor\":\"rgb(17,17,17)\",\"gridcolor\":\"#506784\",\"gridwidth\":2,\"linecolor\":\"#506784\",\"showbackground\":true,\"ticks\":\"\",\"zerolinecolor\":\"#C8D4E3\"},\"yaxis\":{\"backgroundcolor\":\"rgb(17,17,17)\",\"gridcolor\":\"#506784\",\"gridwidth\":2,\"linecolor\":\"#506784\",\"showbackground\":true,\"ticks\":\"\",\"zerolinecolor\":\"#C8D4E3\"},\"zaxis\":{\"backgroundcolor\":\"rgb(17,17,17)\",\"gridcolor\":\"#506784\",\"gridwidth\":2,\"linecolor\":\"#506784\",\"showbackground\":true,\"ticks\":\"\",\"zerolinecolor\":\"#C8D4E3\"}},\"shapedefaults\":{\"line\":{\"color\":\"#f2f5fa\"}},\"sliderdefaults\":{\"bgcolor\":\"#C8D4E3\",\"bordercolor\":\"rgb(17,17,17)\",\"borderwidth\":1,\"tickwidth\":0},\"ternary\":{\"aaxis\":{\"gridcolor\":\"#506784\",\"linecolor\":\"#506784\",\"ticks\":\"\"},\"baxis\":{\"gridcolor\":\"#506784\",\"linecolor\":\"#506784\",\"ticks\":\"\"},\"bgcolor\":\"rgb(17,17,17)\",\"caxis\":{\"gridcolor\":\"#506784\",\"linecolor\":\"#506784\",\"ticks\":\"\"}},\"title\":{\"x\":0.05},\"updatemenudefaults\":{\"bgcolor\":\"#506784\",\"borderwidth\":0},\"xaxis\":{\"automargin\":true,\"gridcolor\":\"#283442\",\"linecolor\":\"#506784\",\"ticks\":\"\",\"title\":{\"standoff\":15},\"zerolinecolor\":\"#283442\",\"zerolinewidth\":2},\"yaxis\":{\"automargin\":true,\"gridcolor\":\"#283442\",\"linecolor\":\"#506784\",\"ticks\":\"\",\"title\":{\"standoff\":15},\"zerolinecolor\":\"#283442\",\"zerolinewidth\":2}}},\"xaxis\":{\"anchor\":\"y\",\"domain\":[0.0,1.0],\"title\":{\"text\":\"region\"}},\"yaxis\":{\"anchor\":\"x\",\"domain\":[0.0,1.0],\"title\":{\"text\":\"sum of region_smoker\"}},\"legend\":{\"title\":{\"text\":\"smoker\"},\"tracegroupgap\":0},\"title\":{\"text\":\"Let's visualize the which region is most smoker\"},\"barmode\":\"relative\",\"bargap\":0.5,\"plot_bgcolor\":\"pink\"},                        {\"responsive\": true}                    ).then(function(){\n",
              "                            \n",
              "var gd = document.getElementById('60fa2664-72db-4a9b-aa9b-c6bae219dfaf');\n",
              "var x = new MutationObserver(function (mutations, observer) {{\n",
              "        var display = window.getComputedStyle(gd).display;\n",
              "        if (!display || display === 'none') {{\n",
              "            console.log([gd, 'removed!']);\n",
              "            Plotly.purge(gd);\n",
              "            observer.disconnect();\n",
              "        }}\n",
              "}});\n",
              "\n",
              "// Listen for the removal of the full notebook cells\n",
              "var notebookContainer = gd.closest('#notebook-container');\n",
              "if (notebookContainer) {{\n",
              "    x.observe(notebookContainer, {childList: true});\n",
              "}}\n",
              "\n",
              "// Listen for the clearing of the current output cell\n",
              "var outputEl = gd.closest('.output');\n",
              "if (outputEl) {{\n",
              "    x.observe(outputEl, {childList: true});\n",
              "}}\n",
              "\n",
              "                        })                };                            </script>        </div>\n",
              "</body>\n",
              "</html>"
            ]
          },
          "metadata": {}
        }
      ],
      "source": [
        "#To analysis the data and visualize the some data points using the plotly bargraph\n",
        "fig=px.histogram(region,y='region_smoker',color='smoker',x='region',title=\"Let's visualize the which region is most smoker\")\n",
        "fig.update_layout(bargap=0.5,plot_bgcolor='pink',template = \"plotly_dark\")\n",
        "fig.show()"
      ]
    },
    {
      "cell_type": "markdown",
      "id": "47ba1a7a",
      "metadata": {
        "id": "47ba1a7a"
      },
      "source": [
        "# Observation\n",
        "1)Analysis the data the most smoker is region is southeast after that northeast\n",
        "2)Same as non-smoker region is southeast"
      ]
    },
    {
      "cell_type": "code",
      "execution_count": 25,
      "id": "27708104",
      "metadata": {
        "id": "27708104",
        "outputId": "d2635985-c1d2-419b-abcd-143bec16d0d1",
        "colab": {
          "base_uri": "https://localhost:8080/",
          "height": 206
        }
      },
      "outputs": [
        {
          "output_type": "execute_result",
          "data": {
            "text/plain": [
              "       region  children  region_wise_children\n",
              "23  southwest         5                     8\n",
              "17  southeast         5                     6\n",
              "11  northwest         5                     1\n",
              "5   northeast         5                     3\n",
              "22  southwest         4                     7"
            ],
            "text/html": [
              "\n",
              "  <div id=\"df-cccb95ee-b730-4fc5-8304-71d3b6c9c933\">\n",
              "    <div class=\"colab-df-container\">\n",
              "      <div>\n",
              "<style scoped>\n",
              "    .dataframe tbody tr th:only-of-type {\n",
              "        vertical-align: middle;\n",
              "    }\n",
              "\n",
              "    .dataframe tbody tr th {\n",
              "        vertical-align: top;\n",
              "    }\n",
              "\n",
              "    .dataframe thead th {\n",
              "        text-align: right;\n",
              "    }\n",
              "</style>\n",
              "<table border=\"1\" class=\"dataframe\">\n",
              "  <thead>\n",
              "    <tr style=\"text-align: right;\">\n",
              "      <th></th>\n",
              "      <th>region</th>\n",
              "      <th>children</th>\n",
              "      <th>region_wise_children</th>\n",
              "    </tr>\n",
              "  </thead>\n",
              "  <tbody>\n",
              "    <tr>\n",
              "      <th>23</th>\n",
              "      <td>southwest</td>\n",
              "      <td>5</td>\n",
              "      <td>8</td>\n",
              "    </tr>\n",
              "    <tr>\n",
              "      <th>17</th>\n",
              "      <td>southeast</td>\n",
              "      <td>5</td>\n",
              "      <td>6</td>\n",
              "    </tr>\n",
              "    <tr>\n",
              "      <th>11</th>\n",
              "      <td>northwest</td>\n",
              "      <td>5</td>\n",
              "      <td>1</td>\n",
              "    </tr>\n",
              "    <tr>\n",
              "      <th>5</th>\n",
              "      <td>northeast</td>\n",
              "      <td>5</td>\n",
              "      <td>3</td>\n",
              "    </tr>\n",
              "    <tr>\n",
              "      <th>22</th>\n",
              "      <td>southwest</td>\n",
              "      <td>4</td>\n",
              "      <td>7</td>\n",
              "    </tr>\n",
              "  </tbody>\n",
              "</table>\n",
              "</div>\n",
              "      <button class=\"colab-df-convert\" onclick=\"convertToInteractive('df-cccb95ee-b730-4fc5-8304-71d3b6c9c933')\"\n",
              "              title=\"Convert this dataframe to an interactive table.\"\n",
              "              style=\"display:none;\">\n",
              "        \n",
              "  <svg xmlns=\"http://www.w3.org/2000/svg\" height=\"24px\"viewBox=\"0 0 24 24\"\n",
              "       width=\"24px\">\n",
              "    <path d=\"M0 0h24v24H0V0z\" fill=\"none\"/>\n",
              "    <path d=\"M18.56 5.44l.94 2.06.94-2.06 2.06-.94-2.06-.94-.94-2.06-.94 2.06-2.06.94zm-11 1L8.5 8.5l.94-2.06 2.06-.94-2.06-.94L8.5 2.5l-.94 2.06-2.06.94zm10 10l.94 2.06.94-2.06 2.06-.94-2.06-.94-.94-2.06-.94 2.06-2.06.94z\"/><path d=\"M17.41 7.96l-1.37-1.37c-.4-.4-.92-.59-1.43-.59-.52 0-1.04.2-1.43.59L10.3 9.45l-7.72 7.72c-.78.78-.78 2.05 0 2.83L4 21.41c.39.39.9.59 1.41.59.51 0 1.02-.2 1.41-.59l7.78-7.78 2.81-2.81c.8-.78.8-2.07 0-2.86zM5.41 20L4 18.59l7.72-7.72 1.47 1.35L5.41 20z\"/>\n",
              "  </svg>\n",
              "      </button>\n",
              "      \n",
              "  <style>\n",
              "    .colab-df-container {\n",
              "      display:flex;\n",
              "      flex-wrap:wrap;\n",
              "      gap: 12px;\n",
              "    }\n",
              "\n",
              "    .colab-df-convert {\n",
              "      background-color: #E8F0FE;\n",
              "      border: none;\n",
              "      border-radius: 50%;\n",
              "      cursor: pointer;\n",
              "      display: none;\n",
              "      fill: #1967D2;\n",
              "      height: 32px;\n",
              "      padding: 0 0 0 0;\n",
              "      width: 32px;\n",
              "    }\n",
              "\n",
              "    .colab-df-convert:hover {\n",
              "      background-color: #E2EBFA;\n",
              "      box-shadow: 0px 1px 2px rgba(60, 64, 67, 0.3), 0px 1px 3px 1px rgba(60, 64, 67, 0.15);\n",
              "      fill: #174EA6;\n",
              "    }\n",
              "\n",
              "    [theme=dark] .colab-df-convert {\n",
              "      background-color: #3B4455;\n",
              "      fill: #D2E3FC;\n",
              "    }\n",
              "\n",
              "    [theme=dark] .colab-df-convert:hover {\n",
              "      background-color: #434B5C;\n",
              "      box-shadow: 0px 1px 3px 1px rgba(0, 0, 0, 0.15);\n",
              "      filter: drop-shadow(0px 1px 2px rgba(0, 0, 0, 0.3));\n",
              "      fill: #FFFFFF;\n",
              "    }\n",
              "  </style>\n",
              "\n",
              "      <script>\n",
              "        const buttonEl =\n",
              "          document.querySelector('#df-cccb95ee-b730-4fc5-8304-71d3b6c9c933 button.colab-df-convert');\n",
              "        buttonEl.style.display =\n",
              "          google.colab.kernel.accessAllowed ? 'block' : 'none';\n",
              "\n",
              "        async function convertToInteractive(key) {\n",
              "          const element = document.querySelector('#df-cccb95ee-b730-4fc5-8304-71d3b6c9c933');\n",
              "          const dataTable =\n",
              "            await google.colab.kernel.invokeFunction('convertToInteractive',\n",
              "                                                     [key], {});\n",
              "          if (!dataTable) return;\n",
              "\n",
              "          const docLinkHtml = 'Like what you see? Visit the ' +\n",
              "            '<a target=\"_blank\" href=https://colab.research.google.com/notebooks/data_table.ipynb>data table notebook</a>'\n",
              "            + ' to learn more about interactive tables.';\n",
              "          element.innerHTML = '';\n",
              "          dataTable['output_type'] = 'display_data';\n",
              "          await google.colab.output.renderOutput(dataTable, element);\n",
              "          const docLink = document.createElement('div');\n",
              "          docLink.innerHTML = docLinkHtml;\n",
              "          element.appendChild(docLink);\n",
              "        }\n",
              "      </script>\n",
              "    </div>\n",
              "  </div>\n",
              "  "
            ]
          },
          "metadata": {},
          "execution_count": 25
        }
      ],
      "source": [
        "#To visualize the which region people have more children by using the above data\n",
        "region=data.groupby(['region','children']).size().reset_index().rename(columns={0:'region_wise_children'}).sort_values(by='children',ascending=False)\n",
        "region.head()"
      ]
    },
    {
      "cell_type": "code",
      "execution_count": 26,
      "id": "d1c3e62b",
      "metadata": {
        "id": "d1c3e62b",
        "outputId": "9840314e-4681-4425-a84d-0fe6c211b0c1",
        "colab": {
          "base_uri": "https://localhost:8080/",
          "height": 542
        }
      },
      "outputs": [
        {
          "output_type": "display_data",
          "data": {
            "text/html": [
              "<html>\n",
              "<head><meta charset=\"utf-8\" /></head>\n",
              "<body>\n",
              "    <div>            <script src=\"https://cdnjs.cloudflare.com/ajax/libs/mathjax/2.7.5/MathJax.js?config=TeX-AMS-MML_SVG\"></script><script type=\"text/javascript\">if (window.MathJax) {MathJax.Hub.Config({SVG: {font: \"STIX-Web\"}});}</script>                <script type=\"text/javascript\">window.PlotlyConfig = {MathJaxConfig: 'local'};</script>\n",
              "        <script src=\"https://cdn.plot.ly/plotly-2.8.3.min.js\"></script>                <div id=\"58f29fc9-c243-4f5d-a95c-8ceb83201f2e\" class=\"plotly-graph-div\" style=\"height:525px; width:100%;\"></div>            <script type=\"text/javascript\">                                    window.PLOTLYENV=window.PLOTLYENV || {};                                    if (document.getElementById(\"58f29fc9-c243-4f5d-a95c-8ceb83201f2e\")) {                    Plotly.newPlot(                        \"58f29fc9-c243-4f5d-a95c-8ceb83201f2e\",                        [{\"alignmentgroup\":\"True\",\"bingroup\":\"x\",\"histfunc\":\"sum\",\"hovertemplate\":\"children=5<br>region=%{x}<br>sum of region_wise_children=%{y}<extra></extra>\",\"legendgroup\":\"5\",\"marker\":{\"color\":\"#636efa\",\"pattern\":{\"shape\":\"\"}},\"name\":\"5\",\"offsetgroup\":\"5\",\"orientation\":\"v\",\"showlegend\":true,\"x\":[\"southwest\",\"southeast\",\"northwest\",\"northeast\"],\"xaxis\":\"x\",\"y\":[8,6,1,3],\"yaxis\":\"y\",\"type\":\"histogram\"},{\"alignmentgroup\":\"True\",\"bingroup\":\"x\",\"histfunc\":\"sum\",\"hovertemplate\":\"children=4<br>region=%{x}<br>sum of region_wise_children=%{y}<extra></extra>\",\"legendgroup\":\"4\",\"marker\":{\"color\":\"#EF553B\",\"pattern\":{\"shape\":\"\"}},\"name\":\"4\",\"offsetgroup\":\"4\",\"orientation\":\"v\",\"showlegend\":true,\"x\":[\"southwest\",\"southeast\",\"northwest\",\"northeast\"],\"xaxis\":\"x\",\"y\":[7,5,6,7],\"yaxis\":\"y\",\"type\":\"histogram\"},{\"alignmentgroup\":\"True\",\"bingroup\":\"x\",\"histfunc\":\"sum\",\"hovertemplate\":\"children=3<br>region=%{x}<br>sum of region_wise_children=%{y}<extra></extra>\",\"legendgroup\":\"3\",\"marker\":{\"color\":\"#00cc96\",\"pattern\":{\"shape\":\"\"}},\"name\":\"3\",\"offsetgroup\":\"3\",\"orientation\":\"v\",\"showlegend\":true,\"x\":[\"northwest\",\"southeast\",\"northeast\",\"southwest\"],\"xaxis\":\"x\",\"y\":[46,35,39,37],\"yaxis\":\"y\",\"type\":\"histogram\"},{\"alignmentgroup\":\"True\",\"bingroup\":\"x\",\"histfunc\":\"sum\",\"hovertemplate\":\"children=2<br>region=%{x}<br>sum of region_wise_children=%{y}<extra></extra>\",\"legendgroup\":\"2\",\"marker\":{\"color\":\"#ab63fa\",\"pattern\":{\"shape\":\"\"}},\"name\":\"2\",\"offsetgroup\":\"2\",\"orientation\":\"v\",\"showlegend\":true,\"x\":[\"northwest\",\"southwest\",\"southeast\",\"northeast\"],\"xaxis\":\"x\",\"y\":[66,57,66,51],\"yaxis\":\"y\",\"type\":\"histogram\"},{\"alignmentgroup\":\"True\",\"bingroup\":\"x\",\"histfunc\":\"sum\",\"hovertemplate\":\"children=1<br>region=%{x}<br>sum of region_wise_children=%{y}<extra></extra>\",\"legendgroup\":\"1\",\"marker\":{\"color\":\"#FFA15A\",\"pattern\":{\"shape\":\"\"}},\"name\":\"1\",\"offsetgroup\":\"1\",\"orientation\":\"v\",\"showlegend\":true,\"x\":[\"northwest\",\"northeast\",\"southeast\",\"southwest\"],\"xaxis\":\"x\",\"y\":[74,77,95,78],\"yaxis\":\"y\",\"type\":\"histogram\"},{\"alignmentgroup\":\"True\",\"bingroup\":\"x\",\"histfunc\":\"sum\",\"hovertemplate\":\"children=0<br>region=%{x}<br>sum of region_wise_children=%{y}<extra></extra>\",\"legendgroup\":\"0\",\"marker\":{\"color\":\"#19d3f3\",\"pattern\":{\"shape\":\"\"}},\"name\":\"0\",\"offsetgroup\":\"0\",\"orientation\":\"v\",\"showlegend\":true,\"x\":[\"northeast\",\"southwest\",\"northwest\",\"southeast\"],\"xaxis\":\"x\",\"y\":[147,138,132,157],\"yaxis\":\"y\",\"type\":\"histogram\"}],                        {\"template\":{\"data\":{\"barpolar\":[{\"marker\":{\"line\":{\"color\":\"rgb(17,17,17)\",\"width\":0.5},\"pattern\":{\"fillmode\":\"overlay\",\"size\":10,\"solidity\":0.2}},\"type\":\"barpolar\"}],\"bar\":[{\"error_x\":{\"color\":\"#f2f5fa\"},\"error_y\":{\"color\":\"#f2f5fa\"},\"marker\":{\"line\":{\"color\":\"rgb(17,17,17)\",\"width\":0.5},\"pattern\":{\"fillmode\":\"overlay\",\"size\":10,\"solidity\":0.2}},\"type\":\"bar\"}],\"carpet\":[{\"aaxis\":{\"endlinecolor\":\"#A2B1C6\",\"gridcolor\":\"#506784\",\"linecolor\":\"#506784\",\"minorgridcolor\":\"#506784\",\"startlinecolor\":\"#A2B1C6\"},\"baxis\":{\"endlinecolor\":\"#A2B1C6\",\"gridcolor\":\"#506784\",\"linecolor\":\"#506784\",\"minorgridcolor\":\"#506784\",\"startlinecolor\":\"#A2B1C6\"},\"type\":\"carpet\"}],\"choropleth\":[{\"colorbar\":{\"outlinewidth\":0,\"ticks\":\"\"},\"type\":\"choropleth\"}],\"contourcarpet\":[{\"colorbar\":{\"outlinewidth\":0,\"ticks\":\"\"},\"type\":\"contourcarpet\"}],\"contour\":[{\"colorbar\":{\"outlinewidth\":0,\"ticks\":\"\"},\"colorscale\":[[0.0,\"#0d0887\"],[0.1111111111111111,\"#46039f\"],[0.2222222222222222,\"#7201a8\"],[0.3333333333333333,\"#9c179e\"],[0.4444444444444444,\"#bd3786\"],[0.5555555555555556,\"#d8576b\"],[0.6666666666666666,\"#ed7953\"],[0.7777777777777778,\"#fb9f3a\"],[0.8888888888888888,\"#fdca26\"],[1.0,\"#f0f921\"]],\"type\":\"contour\"}],\"heatmapgl\":[{\"colorbar\":{\"outlinewidth\":0,\"ticks\":\"\"},\"colorscale\":[[0.0,\"#0d0887\"],[0.1111111111111111,\"#46039f\"],[0.2222222222222222,\"#7201a8\"],[0.3333333333333333,\"#9c179e\"],[0.4444444444444444,\"#bd3786\"],[0.5555555555555556,\"#d8576b\"],[0.6666666666666666,\"#ed7953\"],[0.7777777777777778,\"#fb9f3a\"],[0.8888888888888888,\"#fdca26\"],[1.0,\"#f0f921\"]],\"type\":\"heatmapgl\"}],\"heatmap\":[{\"colorbar\":{\"outlinewidth\":0,\"ticks\":\"\"},\"colorscale\":[[0.0,\"#0d0887\"],[0.1111111111111111,\"#46039f\"],[0.2222222222222222,\"#7201a8\"],[0.3333333333333333,\"#9c179e\"],[0.4444444444444444,\"#bd3786\"],[0.5555555555555556,\"#d8576b\"],[0.6666666666666666,\"#ed7953\"],[0.7777777777777778,\"#fb9f3a\"],[0.8888888888888888,\"#fdca26\"],[1.0,\"#f0f921\"]],\"type\":\"heatmap\"}],\"histogram2dcontour\":[{\"colorbar\":{\"outlinewidth\":0,\"ticks\":\"\"},\"colorscale\":[[0.0,\"#0d0887\"],[0.1111111111111111,\"#46039f\"],[0.2222222222222222,\"#7201a8\"],[0.3333333333333333,\"#9c179e\"],[0.4444444444444444,\"#bd3786\"],[0.5555555555555556,\"#d8576b\"],[0.6666666666666666,\"#ed7953\"],[0.7777777777777778,\"#fb9f3a\"],[0.8888888888888888,\"#fdca26\"],[1.0,\"#f0f921\"]],\"type\":\"histogram2dcontour\"}],\"histogram2d\":[{\"colorbar\":{\"outlinewidth\":0,\"ticks\":\"\"},\"colorscale\":[[0.0,\"#0d0887\"],[0.1111111111111111,\"#46039f\"],[0.2222222222222222,\"#7201a8\"],[0.3333333333333333,\"#9c179e\"],[0.4444444444444444,\"#bd3786\"],[0.5555555555555556,\"#d8576b\"],[0.6666666666666666,\"#ed7953\"],[0.7777777777777778,\"#fb9f3a\"],[0.8888888888888888,\"#fdca26\"],[1.0,\"#f0f921\"]],\"type\":\"histogram2d\"}],\"histogram\":[{\"marker\":{\"pattern\":{\"fillmode\":\"overlay\",\"size\":10,\"solidity\":0.2}},\"type\":\"histogram\"}],\"mesh3d\":[{\"colorbar\":{\"outlinewidth\":0,\"ticks\":\"\"},\"type\":\"mesh3d\"}],\"parcoords\":[{\"line\":{\"colorbar\":{\"outlinewidth\":0,\"ticks\":\"\"}},\"type\":\"parcoords\"}],\"pie\":[{\"automargin\":true,\"type\":\"pie\"}],\"scatter3d\":[{\"line\":{\"colorbar\":{\"outlinewidth\":0,\"ticks\":\"\"}},\"marker\":{\"colorbar\":{\"outlinewidth\":0,\"ticks\":\"\"}},\"type\":\"scatter3d\"}],\"scattercarpet\":[{\"marker\":{\"colorbar\":{\"outlinewidth\":0,\"ticks\":\"\"}},\"type\":\"scattercarpet\"}],\"scattergeo\":[{\"marker\":{\"colorbar\":{\"outlinewidth\":0,\"ticks\":\"\"}},\"type\":\"scattergeo\"}],\"scattergl\":[{\"marker\":{\"line\":{\"color\":\"#283442\"}},\"type\":\"scattergl\"}],\"scattermapbox\":[{\"marker\":{\"colorbar\":{\"outlinewidth\":0,\"ticks\":\"\"}},\"type\":\"scattermapbox\"}],\"scatterpolargl\":[{\"marker\":{\"colorbar\":{\"outlinewidth\":0,\"ticks\":\"\"}},\"type\":\"scatterpolargl\"}],\"scatterpolar\":[{\"marker\":{\"colorbar\":{\"outlinewidth\":0,\"ticks\":\"\"}},\"type\":\"scatterpolar\"}],\"scatter\":[{\"marker\":{\"line\":{\"color\":\"#283442\"}},\"type\":\"scatter\"}],\"scatterternary\":[{\"marker\":{\"colorbar\":{\"outlinewidth\":0,\"ticks\":\"\"}},\"type\":\"scatterternary\"}],\"surface\":[{\"colorbar\":{\"outlinewidth\":0,\"ticks\":\"\"},\"colorscale\":[[0.0,\"#0d0887\"],[0.1111111111111111,\"#46039f\"],[0.2222222222222222,\"#7201a8\"],[0.3333333333333333,\"#9c179e\"],[0.4444444444444444,\"#bd3786\"],[0.5555555555555556,\"#d8576b\"],[0.6666666666666666,\"#ed7953\"],[0.7777777777777778,\"#fb9f3a\"],[0.8888888888888888,\"#fdca26\"],[1.0,\"#f0f921\"]],\"type\":\"surface\"}],\"table\":[{\"cells\":{\"fill\":{\"color\":\"#506784\"},\"line\":{\"color\":\"rgb(17,17,17)\"}},\"header\":{\"fill\":{\"color\":\"#2a3f5f\"},\"line\":{\"color\":\"rgb(17,17,17)\"}},\"type\":\"table\"}]},\"layout\":{\"annotationdefaults\":{\"arrowcolor\":\"#f2f5fa\",\"arrowhead\":0,\"arrowwidth\":1},\"autotypenumbers\":\"strict\",\"coloraxis\":{\"colorbar\":{\"outlinewidth\":0,\"ticks\":\"\"}},\"colorscale\":{\"diverging\":[[0,\"#8e0152\"],[0.1,\"#c51b7d\"],[0.2,\"#de77ae\"],[0.3,\"#f1b6da\"],[0.4,\"#fde0ef\"],[0.5,\"#f7f7f7\"],[0.6,\"#e6f5d0\"],[0.7,\"#b8e186\"],[0.8,\"#7fbc41\"],[0.9,\"#4d9221\"],[1,\"#276419\"]],\"sequential\":[[0.0,\"#0d0887\"],[0.1111111111111111,\"#46039f\"],[0.2222222222222222,\"#7201a8\"],[0.3333333333333333,\"#9c179e\"],[0.4444444444444444,\"#bd3786\"],[0.5555555555555556,\"#d8576b\"],[0.6666666666666666,\"#ed7953\"],[0.7777777777777778,\"#fb9f3a\"],[0.8888888888888888,\"#fdca26\"],[1.0,\"#f0f921\"]],\"sequentialminus\":[[0.0,\"#0d0887\"],[0.1111111111111111,\"#46039f\"],[0.2222222222222222,\"#7201a8\"],[0.3333333333333333,\"#9c179e\"],[0.4444444444444444,\"#bd3786\"],[0.5555555555555556,\"#d8576b\"],[0.6666666666666666,\"#ed7953\"],[0.7777777777777778,\"#fb9f3a\"],[0.8888888888888888,\"#fdca26\"],[1.0,\"#f0f921\"]]},\"colorway\":[\"#636efa\",\"#EF553B\",\"#00cc96\",\"#ab63fa\",\"#FFA15A\",\"#19d3f3\",\"#FF6692\",\"#B6E880\",\"#FF97FF\",\"#FECB52\"],\"font\":{\"color\":\"#f2f5fa\"},\"geo\":{\"bgcolor\":\"rgb(17,17,17)\",\"lakecolor\":\"rgb(17,17,17)\",\"landcolor\":\"rgb(17,17,17)\",\"showlakes\":true,\"showland\":true,\"subunitcolor\":\"#506784\"},\"hoverlabel\":{\"align\":\"left\"},\"hovermode\":\"closest\",\"mapbox\":{\"style\":\"dark\"},\"paper_bgcolor\":\"rgb(17,17,17)\",\"plot_bgcolor\":\"rgb(17,17,17)\",\"polar\":{\"angularaxis\":{\"gridcolor\":\"#506784\",\"linecolor\":\"#506784\",\"ticks\":\"\"},\"bgcolor\":\"rgb(17,17,17)\",\"radialaxis\":{\"gridcolor\":\"#506784\",\"linecolor\":\"#506784\",\"ticks\":\"\"}},\"scene\":{\"xaxis\":{\"backgroundcolor\":\"rgb(17,17,17)\",\"gridcolor\":\"#506784\",\"gridwidth\":2,\"linecolor\":\"#506784\",\"showbackground\":true,\"ticks\":\"\",\"zerolinecolor\":\"#C8D4E3\"},\"yaxis\":{\"backgroundcolor\":\"rgb(17,17,17)\",\"gridcolor\":\"#506784\",\"gridwidth\":2,\"linecolor\":\"#506784\",\"showbackground\":true,\"ticks\":\"\",\"zerolinecolor\":\"#C8D4E3\"},\"zaxis\":{\"backgroundcolor\":\"rgb(17,17,17)\",\"gridcolor\":\"#506784\",\"gridwidth\":2,\"linecolor\":\"#506784\",\"showbackground\":true,\"ticks\":\"\",\"zerolinecolor\":\"#C8D4E3\"}},\"shapedefaults\":{\"line\":{\"color\":\"#f2f5fa\"}},\"sliderdefaults\":{\"bgcolor\":\"#C8D4E3\",\"bordercolor\":\"rgb(17,17,17)\",\"borderwidth\":1,\"tickwidth\":0},\"ternary\":{\"aaxis\":{\"gridcolor\":\"#506784\",\"linecolor\":\"#506784\",\"ticks\":\"\"},\"baxis\":{\"gridcolor\":\"#506784\",\"linecolor\":\"#506784\",\"ticks\":\"\"},\"bgcolor\":\"rgb(17,17,17)\",\"caxis\":{\"gridcolor\":\"#506784\",\"linecolor\":\"#506784\",\"ticks\":\"\"}},\"title\":{\"x\":0.05},\"updatemenudefaults\":{\"bgcolor\":\"#506784\",\"borderwidth\":0},\"xaxis\":{\"automargin\":true,\"gridcolor\":\"#283442\",\"linecolor\":\"#506784\",\"ticks\":\"\",\"title\":{\"standoff\":15},\"zerolinecolor\":\"#283442\",\"zerolinewidth\":2},\"yaxis\":{\"automargin\":true,\"gridcolor\":\"#283442\",\"linecolor\":\"#506784\",\"ticks\":\"\",\"title\":{\"standoff\":15},\"zerolinecolor\":\"#283442\",\"zerolinewidth\":2}}},\"xaxis\":{\"anchor\":\"y\",\"domain\":[0.0,1.0],\"title\":{\"text\":\"region\"}},\"yaxis\":{\"anchor\":\"x\",\"domain\":[0.0,1.0],\"title\":{\"text\":\"sum of region_wise_children\"}},\"legend\":{\"title\":{\"text\":\"children\"},\"tracegroupgap\":0},\"title\":{\"text\":\"Let's visualize the which region people have the most region\"},\"barmode\":\"relative\",\"bargap\":0.5,\"plot_bgcolor\":\"grey\"},                        {\"responsive\": true}                    ).then(function(){\n",
              "                            \n",
              "var gd = document.getElementById('58f29fc9-c243-4f5d-a95c-8ceb83201f2e');\n",
              "var x = new MutationObserver(function (mutations, observer) {{\n",
              "        var display = window.getComputedStyle(gd).display;\n",
              "        if (!display || display === 'none') {{\n",
              "            console.log([gd, 'removed!']);\n",
              "            Plotly.purge(gd);\n",
              "            observer.disconnect();\n",
              "        }}\n",
              "}});\n",
              "\n",
              "// Listen for the removal of the full notebook cells\n",
              "var notebookContainer = gd.closest('#notebook-container');\n",
              "if (notebookContainer) {{\n",
              "    x.observe(notebookContainer, {childList: true});\n",
              "}}\n",
              "\n",
              "// Listen for the clearing of the current output cell\n",
              "var outputEl = gd.closest('.output');\n",
              "if (outputEl) {{\n",
              "    x.observe(outputEl, {childList: true});\n",
              "}}\n",
              "\n",
              "                        })                };                            </script>        </div>\n",
              "</body>\n",
              "</html>"
            ]
          },
          "metadata": {}
        }
      ],
      "source": [
        "# To visualize the above information using the plotly \n",
        "fig=px.histogram(region,y='region_wise_children',color='children',x='region',title=\"Let's visualize the which region people have the most region\")\n",
        "fig.update_layout(bargap=0.5,plot_bgcolor='grey',template = \"plotly_dark\")\n",
        "fig.show()"
      ]
    },
    {
      "cell_type": "markdown",
      "id": "9f3bd3db",
      "metadata": {
        "id": "9f3bd3db"
      },
      "source": [
        "# # Observation:"
      ]
    },
    {
      "cell_type": "raw",
      "id": "0b1325f7",
      "metadata": {
        "id": "0b1325f7"
      },
      "source": [
        "\n",
        "1) From the above data southwest region 5 childrens comapare to the other reagion.\n",
        "2) Coming to the 4 children's are see the southwest and northeast.\n",
        "3) Coming to the 4 childrean's are see the northwest."
      ]
    },
    {
      "cell_type": "code",
      "execution_count": 27,
      "id": "5190105b",
      "metadata": {
        "id": "5190105b",
        "outputId": "c89a1d59-85e7-4587-890a-9c060afa18c0",
        "colab": {
          "base_uri": "https://localhost:8080/",
          "height": 206
        }
      },
      "outputs": [
        {
          "output_type": "execute_result",
          "data": {
            "text/plain": [
              "        sex    bmi  gender_bmi\n",
              "791    male  53.13           1\n",
              "790    male  52.58           1\n",
              "789    male  50.38           1\n",
              "788    male  49.06           1\n",
              "400  female  48.07           1"
            ],
            "text/html": [
              "\n",
              "  <div id=\"df-134026e2-d5be-4158-9f6e-a54d820fc385\">\n",
              "    <div class=\"colab-df-container\">\n",
              "      <div>\n",
              "<style scoped>\n",
              "    .dataframe tbody tr th:only-of-type {\n",
              "        vertical-align: middle;\n",
              "    }\n",
              "\n",
              "    .dataframe tbody tr th {\n",
              "        vertical-align: top;\n",
              "    }\n",
              "\n",
              "    .dataframe thead th {\n",
              "        text-align: right;\n",
              "    }\n",
              "</style>\n",
              "<table border=\"1\" class=\"dataframe\">\n",
              "  <thead>\n",
              "    <tr style=\"text-align: right;\">\n",
              "      <th></th>\n",
              "      <th>sex</th>\n",
              "      <th>bmi</th>\n",
              "      <th>gender_bmi</th>\n",
              "    </tr>\n",
              "  </thead>\n",
              "  <tbody>\n",
              "    <tr>\n",
              "      <th>791</th>\n",
              "      <td>male</td>\n",
              "      <td>53.13</td>\n",
              "      <td>1</td>\n",
              "    </tr>\n",
              "    <tr>\n",
              "      <th>790</th>\n",
              "      <td>male</td>\n",
              "      <td>52.58</td>\n",
              "      <td>1</td>\n",
              "    </tr>\n",
              "    <tr>\n",
              "      <th>789</th>\n",
              "      <td>male</td>\n",
              "      <td>50.38</td>\n",
              "      <td>1</td>\n",
              "    </tr>\n",
              "    <tr>\n",
              "      <th>788</th>\n",
              "      <td>male</td>\n",
              "      <td>49.06</td>\n",
              "      <td>1</td>\n",
              "    </tr>\n",
              "    <tr>\n",
              "      <th>400</th>\n",
              "      <td>female</td>\n",
              "      <td>48.07</td>\n",
              "      <td>1</td>\n",
              "    </tr>\n",
              "  </tbody>\n",
              "</table>\n",
              "</div>\n",
              "      <button class=\"colab-df-convert\" onclick=\"convertToInteractive('df-134026e2-d5be-4158-9f6e-a54d820fc385')\"\n",
              "              title=\"Convert this dataframe to an interactive table.\"\n",
              "              style=\"display:none;\">\n",
              "        \n",
              "  <svg xmlns=\"http://www.w3.org/2000/svg\" height=\"24px\"viewBox=\"0 0 24 24\"\n",
              "       width=\"24px\">\n",
              "    <path d=\"M0 0h24v24H0V0z\" fill=\"none\"/>\n",
              "    <path d=\"M18.56 5.44l.94 2.06.94-2.06 2.06-.94-2.06-.94-.94-2.06-.94 2.06-2.06.94zm-11 1L8.5 8.5l.94-2.06 2.06-.94-2.06-.94L8.5 2.5l-.94 2.06-2.06.94zm10 10l.94 2.06.94-2.06 2.06-.94-2.06-.94-.94-2.06-.94 2.06-2.06.94z\"/><path d=\"M17.41 7.96l-1.37-1.37c-.4-.4-.92-.59-1.43-.59-.52 0-1.04.2-1.43.59L10.3 9.45l-7.72 7.72c-.78.78-.78 2.05 0 2.83L4 21.41c.39.39.9.59 1.41.59.51 0 1.02-.2 1.41-.59l7.78-7.78 2.81-2.81c.8-.78.8-2.07 0-2.86zM5.41 20L4 18.59l7.72-7.72 1.47 1.35L5.41 20z\"/>\n",
              "  </svg>\n",
              "      </button>\n",
              "      \n",
              "  <style>\n",
              "    .colab-df-container {\n",
              "      display:flex;\n",
              "      flex-wrap:wrap;\n",
              "      gap: 12px;\n",
              "    }\n",
              "\n",
              "    .colab-df-convert {\n",
              "      background-color: #E8F0FE;\n",
              "      border: none;\n",
              "      border-radius: 50%;\n",
              "      cursor: pointer;\n",
              "      display: none;\n",
              "      fill: #1967D2;\n",
              "      height: 32px;\n",
              "      padding: 0 0 0 0;\n",
              "      width: 32px;\n",
              "    }\n",
              "\n",
              "    .colab-df-convert:hover {\n",
              "      background-color: #E2EBFA;\n",
              "      box-shadow: 0px 1px 2px rgba(60, 64, 67, 0.3), 0px 1px 3px 1px rgba(60, 64, 67, 0.15);\n",
              "      fill: #174EA6;\n",
              "    }\n",
              "\n",
              "    [theme=dark] .colab-df-convert {\n",
              "      background-color: #3B4455;\n",
              "      fill: #D2E3FC;\n",
              "    }\n",
              "\n",
              "    [theme=dark] .colab-df-convert:hover {\n",
              "      background-color: #434B5C;\n",
              "      box-shadow: 0px 1px 3px 1px rgba(0, 0, 0, 0.15);\n",
              "      filter: drop-shadow(0px 1px 2px rgba(0, 0, 0, 0.3));\n",
              "      fill: #FFFFFF;\n",
              "    }\n",
              "  </style>\n",
              "\n",
              "      <script>\n",
              "        const buttonEl =\n",
              "          document.querySelector('#df-134026e2-d5be-4158-9f6e-a54d820fc385 button.colab-df-convert');\n",
              "        buttonEl.style.display =\n",
              "          google.colab.kernel.accessAllowed ? 'block' : 'none';\n",
              "\n",
              "        async function convertToInteractive(key) {\n",
              "          const element = document.querySelector('#df-134026e2-d5be-4158-9f6e-a54d820fc385');\n",
              "          const dataTable =\n",
              "            await google.colab.kernel.invokeFunction('convertToInteractive',\n",
              "                                                     [key], {});\n",
              "          if (!dataTable) return;\n",
              "\n",
              "          const docLinkHtml = 'Like what you see? Visit the ' +\n",
              "            '<a target=\"_blank\" href=https://colab.research.google.com/notebooks/data_table.ipynb>data table notebook</a>'\n",
              "            + ' to learn more about interactive tables.';\n",
              "          element.innerHTML = '';\n",
              "          dataTable['output_type'] = 'display_data';\n",
              "          await google.colab.output.renderOutput(dataTable, element);\n",
              "          const docLink = document.createElement('div');\n",
              "          docLink.innerHTML = docLinkHtml;\n",
              "          element.appendChild(docLink);\n",
              "        }\n",
              "      </script>\n",
              "    </div>\n",
              "  </div>\n",
              "  "
            ]
          },
          "metadata": {},
          "execution_count": 27
        }
      ],
      "source": [
        "#Analysis the data which gender is most is the body mass index\n",
        "bmi=data.groupby(['sex','bmi']).size().reset_index().rename(columns={0:'gender_bmi'}).sort_values(by='bmi',ascending=False)\n",
        "bmi.head()"
      ]
    },
    {
      "cell_type": "code",
      "execution_count": 28,
      "id": "dd8653f2",
      "metadata": {
        "id": "dd8653f2",
        "outputId": "7f0a66a6-2a41-4256-e01f-0f00b3372cd3",
        "colab": {
          "base_uri": "https://localhost:8080/",
          "height": 542
        }
      },
      "outputs": [
        {
          "output_type": "display_data",
          "data": {
            "text/html": [
              "<html>\n",
              "<head><meta charset=\"utf-8\" /></head>\n",
              "<body>\n",
              "    <div>            <script src=\"https://cdnjs.cloudflare.com/ajax/libs/mathjax/2.7.5/MathJax.js?config=TeX-AMS-MML_SVG\"></script><script type=\"text/javascript\">if (window.MathJax) {MathJax.Hub.Config({SVG: {font: \"STIX-Web\"}});}</script>                <script type=\"text/javascript\">window.PlotlyConfig = {MathJaxConfig: 'local'};</script>\n",
              "        <script src=\"https://cdn.plot.ly/plotly-2.8.3.min.js\"></script>                <div id=\"9a00fd4a-81b8-4796-b645-abb23f7e4b82\" class=\"plotly-graph-div\" style=\"height:525px; width:100%;\"></div>            <script type=\"text/javascript\">                                    window.PLOTLYENV=window.PLOTLYENV || {};                                    if (document.getElementById(\"9a00fd4a-81b8-4796-b645-abb23f7e4b82\")) {                    Plotly.newPlot(                        \"9a00fd4a-81b8-4796-b645-abb23f7e4b82\",                        [{\"alignmentgroup\":\"True\",\"bingroup\":\"x\",\"histnorm\":\"probability\",\"hovertemplate\":\"sex=male<br>bmi=%{x}<br>probability=%{y}<extra></extra>\",\"legendgroup\":\"male\",\"marker\":{\"color\":\"#636efa\",\"pattern\":{\"shape\":\"\"}},\"name\":\"male\",\"offsetgroup\":\"male\",\"orientation\":\"v\",\"showlegend\":true,\"x\":[53.13,52.58,50.38,49.06,47.74,47.52,46.53,45.9,45.54,45.43,44.88,44.77,44.22,43.89,43.7,43.4,43.01,42.9,42.655,42.46,42.4,42.35,42.13,41.91,41.895,41.8,41.69,41.47,41.325,41.23,41.14,40.945,40.92,40.565,40.48,40.47,40.375,40.37,40.3,40.28,40.26,40.15,39.93,39.9,39.805,39.8,39.71,39.7,39.6,39.52,39.5,39.49,39.425,39.4,39.16,39.14,38.94,38.83,38.6,38.39,38.38,38.28,38.19,38.17,38.06,38.0,37.905,37.8,37.715,37.62,37.51,37.43,37.4,37.335,37.3,37.29,37.18,37.1,37.07,37.05,37.0,36.96,36.955,36.86,36.85,36.765,36.7,36.67,36.6,36.48,36.4,36.3,36.2,36.19,36.1,36.08,35.97,35.86,35.815,35.8,35.75,35.7,35.625,35.6,35.53,35.5,35.435,35.42,35.4,35.31,35.3,35.245,35.2,35.09,34.96,34.9,34.865,34.8,34.77,34.7,34.675,34.5,34.485,34.43,34.4,34.39,34.32,34.3,34.21,34.2,34.105,34.1,34.01,33.915,33.88,33.82,33.77,33.725,33.7,33.66,33.63,33.55,33.535,33.44,33.4,33.345,33.33,33.25,33.155,33.11,33.1,33.0,32.9,32.8,32.775,32.7,32.67,32.6,32.585,32.56,32.49,32.395,32.34,32.3,32.205,32.2,32.11,32.015,32.01,31.92,31.825,31.79,31.73,31.68,31.635,31.6,31.57,31.54,31.5,31.46,31.445,31.4,31.35,31.255,31.16,31.13,31.1,31.065,31.02,31.0,30.97,30.9,30.875,30.8,30.78,30.69,30.685,30.59,30.5,30.495,30.4,30.36,30.305,30.3,30.25,30.21,30.2,30.14,30.115,30.1,30.03,30.02,30.0,29.925,29.9,29.83,29.81,29.8,29.735,29.7,29.64,29.6,29.48,29.45,29.4,29.37,29.355,29.3,29.26,29.2,29.15,29.07,28.975,28.93,28.9,28.88,28.8,28.785,28.7,28.69,28.6,28.595,28.5,28.405,28.4,28.31,28.3,28.27,28.215,28.12,28.1,28.025,28.0,27.94,27.93,27.835,27.8,27.74,27.7,27.645,27.61,27.6,27.55,27.5,27.455,27.4,27.36,27.3,27.265,27.2,27.1,27.06,27.0,26.98,26.9,26.885,26.84,26.8,26.79,26.695,26.62,26.6,26.51,26.41,26.4,26.315,26.22,26.18,26.125,26.07,26.03,25.935,25.9,25.84,25.8,25.745,25.74,25.7,25.6,25.555,25.52,25.46,25.41,25.4,25.365,25.3,25.27,25.175,25.1,25.08,24.985,24.97,24.86,24.795,24.7,24.64,24.605,24.6,24.51,24.42,24.415,24.4,24.32,24.31,24.3,24.13,24.035,23.98,23.94,23.9,23.845,23.8,23.76,23.75,23.7,23.655,23.56,23.4,23.32,23.3,23.21,23.2,23.1,23.085,22.99,22.895,22.705,22.61,22.515,22.42,22.3,22.135,22.1,22.0,21.85,21.78,21.755,21.66,21.565,21.5,21.47,21.4,21.375,21.12,21.01,20.9,20.8,20.7,20.615,20.425,20.4,20.35,20.3,20.235,20.13,19.95,19.855,19.8,19.57,19.3,19.19,18.905,18.715,18.335,17.86,17.67,17.48,17.385,17.29,16.815,15.96],\"xaxis\":\"x\",\"yaxis\":\"y\",\"type\":\"histogram\"},{\"alignmentgroup\":\"True\",\"bingroup\":\"x\",\"histnorm\":\"probability\",\"hovertemplate\":\"sex=female<br>bmi=%{x}<br>probability=%{y}<extra></extra>\",\"legendgroup\":\"female\",\"marker\":{\"color\":\"#EF553B\",\"pattern\":{\"shape\":\"\"}},\"name\":\"female\",\"offsetgroup\":\"female\",\"orientation\":\"v\",\"showlegend\":true,\"x\":[48.07,47.6,47.41,46.75,46.7,46.2,46.09,45.32,44.745,44.7,44.22,44.0,43.89,43.34,43.12,42.94,42.75,42.68,42.4,42.24,42.13,41.91,41.8,41.47,41.42,41.325,41.23,41.1,40.81,40.66,40.565,40.5,40.37,40.28,40.26,40.185,40.15,39.995,39.82,39.805,39.7,39.615,39.6,39.5,39.49,39.33,39.27,39.2,39.16,39.1,39.05,38.95,38.9,38.83,38.665,38.39,38.38,38.285,38.28,38.17,38.095,38.06,38.0,37.9,37.73,37.7,37.62,37.525,37.51,37.43,37.4,37.335,37.29,37.145,37.1,37.05,37.0,36.955,36.86,36.85,36.765,36.67,36.63,36.575,36.52,36.48,36.385,36.3,36.29,36.195,36.19,36.08,36.005,36.0,35.97,35.91,35.9,35.86,35.815,35.8,35.72,35.64,35.625,35.53,35.3,35.2,35.15,35.1,34.96,34.87,34.865,34.8,34.77,34.7,34.6,34.58,34.485,34.4,34.32,34.295,34.21,34.2,34.105,34.1,33.99,33.915,33.88,33.82,33.8,33.725,33.7,33.63,33.535,33.5,33.44,33.4,33.345,33.33,33.3,33.25,33.2,33.155,33.11,33.1,33.06,33.0,32.965,32.9,32.87,32.8,32.78,32.775,32.68,32.6,32.56,32.5,32.49,32.45,32.4,32.395,32.34,32.3,32.23,32.2,32.12,32.11,32.1,32.0,31.92,31.9,31.825,31.8,31.79,31.73,31.635,31.6,31.54,31.46,31.4,31.35,31.3,31.255,31.24,31.2,31.16,31.13,31.065,31.02,31.0,30.9,30.875,30.8,30.78,30.69,30.685,30.59,30.5,30.495,30.4,30.305,30.3,30.21,30.2,30.14,30.115,30.1,30.02,29.925,29.92,29.9,29.83,29.81,29.8,29.735,29.7,29.64,29.6,29.59,29.545,29.5,29.48,29.37,29.355,29.3,29.26,29.165,29.1,29.07,29.04,29.0,28.975,28.93,28.9,28.88,28.82,28.785,28.7,28.69,28.6,28.595,28.49,28.405,28.4,28.38,28.31,28.3,28.27,28.215,28.2,28.16,28.12,28.1,28.05,28.025,28.0,27.94,27.93,27.9,27.835,27.83,27.74,27.72,27.7,27.645,27.6,27.55,27.5,27.4,27.36,27.28,27.265,27.2,27.17,27.1,27.075,26.98,26.885,26.84,26.8,26.79,26.73,26.7,26.695,26.62,26.6,26.51,26.505,26.41,26.4,26.315,26.29,26.22,26.2,26.18,26.125,26.03,25.935,25.9,25.85,25.84,25.8,25.745,25.74,25.7,25.65,25.6,25.555,25.46,25.365,25.3,25.27,25.2,25.175,25.08,25.0,24.985,24.89,24.86,24.795,24.75,24.7,24.605,24.6,24.53,24.51,24.42,24.32,24.31,24.3,24.225,24.13,24.1,24.09,24.035,23.98,23.87,23.845,23.75,23.655,23.65,23.6,23.56,23.54,23.465,23.4,23.37,23.275,23.21,23.18,23.085,23.0,22.99,22.895,22.88,22.8,22.77,22.61,22.6,22.515,22.42,22.23,22.22,22.135,22.04,21.945,21.89,21.85,21.8,21.755,21.7,21.66,21.56,21.47,21.3,21.28,21.09,20.8,20.79,20.6,20.52,20.235,20.1,20.045,19.95,19.855,19.8,19.475,19.095,19.0,18.6,18.5,18.335,18.3,18.05,17.955,17.8,17.765,17.4,17.29,17.195,16.815],\"xaxis\":\"x\",\"yaxis\":\"y\",\"type\":\"histogram\"}],                        {\"template\":{\"data\":{\"barpolar\":[{\"marker\":{\"line\":{\"color\":\"rgb(17,17,17)\",\"width\":0.5},\"pattern\":{\"fillmode\":\"overlay\",\"size\":10,\"solidity\":0.2}},\"type\":\"barpolar\"}],\"bar\":[{\"error_x\":{\"color\":\"#f2f5fa\"},\"error_y\":{\"color\":\"#f2f5fa\"},\"marker\":{\"line\":{\"color\":\"rgb(17,17,17)\",\"width\":0.5},\"pattern\":{\"fillmode\":\"overlay\",\"size\":10,\"solidity\":0.2}},\"type\":\"bar\"}],\"carpet\":[{\"aaxis\":{\"endlinecolor\":\"#A2B1C6\",\"gridcolor\":\"#506784\",\"linecolor\":\"#506784\",\"minorgridcolor\":\"#506784\",\"startlinecolor\":\"#A2B1C6\"},\"baxis\":{\"endlinecolor\":\"#A2B1C6\",\"gridcolor\":\"#506784\",\"linecolor\":\"#506784\",\"minorgridcolor\":\"#506784\",\"startlinecolor\":\"#A2B1C6\"},\"type\":\"carpet\"}],\"choropleth\":[{\"colorbar\":{\"outlinewidth\":0,\"ticks\":\"\"},\"type\":\"choropleth\"}],\"contourcarpet\":[{\"colorbar\":{\"outlinewidth\":0,\"ticks\":\"\"},\"type\":\"contourcarpet\"}],\"contour\":[{\"colorbar\":{\"outlinewidth\":0,\"ticks\":\"\"},\"colorscale\":[[0.0,\"#0d0887\"],[0.1111111111111111,\"#46039f\"],[0.2222222222222222,\"#7201a8\"],[0.3333333333333333,\"#9c179e\"],[0.4444444444444444,\"#bd3786\"],[0.5555555555555556,\"#d8576b\"],[0.6666666666666666,\"#ed7953\"],[0.7777777777777778,\"#fb9f3a\"],[0.8888888888888888,\"#fdca26\"],[1.0,\"#f0f921\"]],\"type\":\"contour\"}],\"heatmapgl\":[{\"colorbar\":{\"outlinewidth\":0,\"ticks\":\"\"},\"colorscale\":[[0.0,\"#0d0887\"],[0.1111111111111111,\"#46039f\"],[0.2222222222222222,\"#7201a8\"],[0.3333333333333333,\"#9c179e\"],[0.4444444444444444,\"#bd3786\"],[0.5555555555555556,\"#d8576b\"],[0.6666666666666666,\"#ed7953\"],[0.7777777777777778,\"#fb9f3a\"],[0.8888888888888888,\"#fdca26\"],[1.0,\"#f0f921\"]],\"type\":\"heatmapgl\"}],\"heatmap\":[{\"colorbar\":{\"outlinewidth\":0,\"ticks\":\"\"},\"colorscale\":[[0.0,\"#0d0887\"],[0.1111111111111111,\"#46039f\"],[0.2222222222222222,\"#7201a8\"],[0.3333333333333333,\"#9c179e\"],[0.4444444444444444,\"#bd3786\"],[0.5555555555555556,\"#d8576b\"],[0.6666666666666666,\"#ed7953\"],[0.7777777777777778,\"#fb9f3a\"],[0.8888888888888888,\"#fdca26\"],[1.0,\"#f0f921\"]],\"type\":\"heatmap\"}],\"histogram2dcontour\":[{\"colorbar\":{\"outlinewidth\":0,\"ticks\":\"\"},\"colorscale\":[[0.0,\"#0d0887\"],[0.1111111111111111,\"#46039f\"],[0.2222222222222222,\"#7201a8\"],[0.3333333333333333,\"#9c179e\"],[0.4444444444444444,\"#bd3786\"],[0.5555555555555556,\"#d8576b\"],[0.6666666666666666,\"#ed7953\"],[0.7777777777777778,\"#fb9f3a\"],[0.8888888888888888,\"#fdca26\"],[1.0,\"#f0f921\"]],\"type\":\"histogram2dcontour\"}],\"histogram2d\":[{\"colorbar\":{\"outlinewidth\":0,\"ticks\":\"\"},\"colorscale\":[[0.0,\"#0d0887\"],[0.1111111111111111,\"#46039f\"],[0.2222222222222222,\"#7201a8\"],[0.3333333333333333,\"#9c179e\"],[0.4444444444444444,\"#bd3786\"],[0.5555555555555556,\"#d8576b\"],[0.6666666666666666,\"#ed7953\"],[0.7777777777777778,\"#fb9f3a\"],[0.8888888888888888,\"#fdca26\"],[1.0,\"#f0f921\"]],\"type\":\"histogram2d\"}],\"histogram\":[{\"marker\":{\"pattern\":{\"fillmode\":\"overlay\",\"size\":10,\"solidity\":0.2}},\"type\":\"histogram\"}],\"mesh3d\":[{\"colorbar\":{\"outlinewidth\":0,\"ticks\":\"\"},\"type\":\"mesh3d\"}],\"parcoords\":[{\"line\":{\"colorbar\":{\"outlinewidth\":0,\"ticks\":\"\"}},\"type\":\"parcoords\"}],\"pie\":[{\"automargin\":true,\"type\":\"pie\"}],\"scatter3d\":[{\"line\":{\"colorbar\":{\"outlinewidth\":0,\"ticks\":\"\"}},\"marker\":{\"colorbar\":{\"outlinewidth\":0,\"ticks\":\"\"}},\"type\":\"scatter3d\"}],\"scattercarpet\":[{\"marker\":{\"colorbar\":{\"outlinewidth\":0,\"ticks\":\"\"}},\"type\":\"scattercarpet\"}],\"scattergeo\":[{\"marker\":{\"colorbar\":{\"outlinewidth\":0,\"ticks\":\"\"}},\"type\":\"scattergeo\"}],\"scattergl\":[{\"marker\":{\"line\":{\"color\":\"#283442\"}},\"type\":\"scattergl\"}],\"scattermapbox\":[{\"marker\":{\"colorbar\":{\"outlinewidth\":0,\"ticks\":\"\"}},\"type\":\"scattermapbox\"}],\"scatterpolargl\":[{\"marker\":{\"colorbar\":{\"outlinewidth\":0,\"ticks\":\"\"}},\"type\":\"scatterpolargl\"}],\"scatterpolar\":[{\"marker\":{\"colorbar\":{\"outlinewidth\":0,\"ticks\":\"\"}},\"type\":\"scatterpolar\"}],\"scatter\":[{\"marker\":{\"line\":{\"color\":\"#283442\"}},\"type\":\"scatter\"}],\"scatterternary\":[{\"marker\":{\"colorbar\":{\"outlinewidth\":0,\"ticks\":\"\"}},\"type\":\"scatterternary\"}],\"surface\":[{\"colorbar\":{\"outlinewidth\":0,\"ticks\":\"\"},\"colorscale\":[[0.0,\"#0d0887\"],[0.1111111111111111,\"#46039f\"],[0.2222222222222222,\"#7201a8\"],[0.3333333333333333,\"#9c179e\"],[0.4444444444444444,\"#bd3786\"],[0.5555555555555556,\"#d8576b\"],[0.6666666666666666,\"#ed7953\"],[0.7777777777777778,\"#fb9f3a\"],[0.8888888888888888,\"#fdca26\"],[1.0,\"#f0f921\"]],\"type\":\"surface\"}],\"table\":[{\"cells\":{\"fill\":{\"color\":\"#506784\"},\"line\":{\"color\":\"rgb(17,17,17)\"}},\"header\":{\"fill\":{\"color\":\"#2a3f5f\"},\"line\":{\"color\":\"rgb(17,17,17)\"}},\"type\":\"table\"}]},\"layout\":{\"annotationdefaults\":{\"arrowcolor\":\"#f2f5fa\",\"arrowhead\":0,\"arrowwidth\":1},\"autotypenumbers\":\"strict\",\"coloraxis\":{\"colorbar\":{\"outlinewidth\":0,\"ticks\":\"\"}},\"colorscale\":{\"diverging\":[[0,\"#8e0152\"],[0.1,\"#c51b7d\"],[0.2,\"#de77ae\"],[0.3,\"#f1b6da\"],[0.4,\"#fde0ef\"],[0.5,\"#f7f7f7\"],[0.6,\"#e6f5d0\"],[0.7,\"#b8e186\"],[0.8,\"#7fbc41\"],[0.9,\"#4d9221\"],[1,\"#276419\"]],\"sequential\":[[0.0,\"#0d0887\"],[0.1111111111111111,\"#46039f\"],[0.2222222222222222,\"#7201a8\"],[0.3333333333333333,\"#9c179e\"],[0.4444444444444444,\"#bd3786\"],[0.5555555555555556,\"#d8576b\"],[0.6666666666666666,\"#ed7953\"],[0.7777777777777778,\"#fb9f3a\"],[0.8888888888888888,\"#fdca26\"],[1.0,\"#f0f921\"]],\"sequentialminus\":[[0.0,\"#0d0887\"],[0.1111111111111111,\"#46039f\"],[0.2222222222222222,\"#7201a8\"],[0.3333333333333333,\"#9c179e\"],[0.4444444444444444,\"#bd3786\"],[0.5555555555555556,\"#d8576b\"],[0.6666666666666666,\"#ed7953\"],[0.7777777777777778,\"#fb9f3a\"],[0.8888888888888888,\"#fdca26\"],[1.0,\"#f0f921\"]]},\"colorway\":[\"#636efa\",\"#EF553B\",\"#00cc96\",\"#ab63fa\",\"#FFA15A\",\"#19d3f3\",\"#FF6692\",\"#B6E880\",\"#FF97FF\",\"#FECB52\"],\"font\":{\"color\":\"#f2f5fa\"},\"geo\":{\"bgcolor\":\"rgb(17,17,17)\",\"lakecolor\":\"rgb(17,17,17)\",\"landcolor\":\"rgb(17,17,17)\",\"showlakes\":true,\"showland\":true,\"subunitcolor\":\"#506784\"},\"hoverlabel\":{\"align\":\"left\"},\"hovermode\":\"closest\",\"mapbox\":{\"style\":\"dark\"},\"paper_bgcolor\":\"rgb(17,17,17)\",\"plot_bgcolor\":\"rgb(17,17,17)\",\"polar\":{\"angularaxis\":{\"gridcolor\":\"#506784\",\"linecolor\":\"#506784\",\"ticks\":\"\"},\"bgcolor\":\"rgb(17,17,17)\",\"radialaxis\":{\"gridcolor\":\"#506784\",\"linecolor\":\"#506784\",\"ticks\":\"\"}},\"scene\":{\"xaxis\":{\"backgroundcolor\":\"rgb(17,17,17)\",\"gridcolor\":\"#506784\",\"gridwidth\":2,\"linecolor\":\"#506784\",\"showbackground\":true,\"ticks\":\"\",\"zerolinecolor\":\"#C8D4E3\"},\"yaxis\":{\"backgroundcolor\":\"rgb(17,17,17)\",\"gridcolor\":\"#506784\",\"gridwidth\":2,\"linecolor\":\"#506784\",\"showbackground\":true,\"ticks\":\"\",\"zerolinecolor\":\"#C8D4E3\"},\"zaxis\":{\"backgroundcolor\":\"rgb(17,17,17)\",\"gridcolor\":\"#506784\",\"gridwidth\":2,\"linecolor\":\"#506784\",\"showbackground\":true,\"ticks\":\"\",\"zerolinecolor\":\"#C8D4E3\"}},\"shapedefaults\":{\"line\":{\"color\":\"#f2f5fa\"}},\"sliderdefaults\":{\"bgcolor\":\"#C8D4E3\",\"bordercolor\":\"rgb(17,17,17)\",\"borderwidth\":1,\"tickwidth\":0},\"ternary\":{\"aaxis\":{\"gridcolor\":\"#506784\",\"linecolor\":\"#506784\",\"ticks\":\"\"},\"baxis\":{\"gridcolor\":\"#506784\",\"linecolor\":\"#506784\",\"ticks\":\"\"},\"bgcolor\":\"rgb(17,17,17)\",\"caxis\":{\"gridcolor\":\"#506784\",\"linecolor\":\"#506784\",\"ticks\":\"\"}},\"title\":{\"x\":0.05},\"updatemenudefaults\":{\"bgcolor\":\"#506784\",\"borderwidth\":0},\"xaxis\":{\"automargin\":true,\"gridcolor\":\"#283442\",\"linecolor\":\"#506784\",\"ticks\":\"\",\"title\":{\"standoff\":15},\"zerolinecolor\":\"#283442\",\"zerolinewidth\":2},\"yaxis\":{\"automargin\":true,\"gridcolor\":\"#283442\",\"linecolor\":\"#506784\",\"ticks\":\"\",\"title\":{\"standoff\":15},\"zerolinecolor\":\"#283442\",\"zerolinewidth\":2}}},\"xaxis\":{\"anchor\":\"y\",\"domain\":[0.0,1.0],\"title\":{\"text\":\"bmi\"}},\"yaxis\":{\"anchor\":\"x\",\"domain\":[0.0,1.0],\"title\":{\"text\":\"probability\"}},\"legend\":{\"title\":{\"text\":\"sex\"},\"tracegroupgap\":0},\"title\":{\"text\":\"Let's visualize the gender with body mass index\"},\"barmode\":\"relative\",\"bargap\":0.5,\"plot_bgcolor\":\"yellow\",\"paper_bgcolor\":\"green\"},                        {\"responsive\": true}                    ).then(function(){\n",
              "                            \n",
              "var gd = document.getElementById('9a00fd4a-81b8-4796-b645-abb23f7e4b82');\n",
              "var x = new MutationObserver(function (mutations, observer) {{\n",
              "        var display = window.getComputedStyle(gd).display;\n",
              "        if (!display || display === 'none') {{\n",
              "            console.log([gd, 'removed!']);\n",
              "            Plotly.purge(gd);\n",
              "            observer.disconnect();\n",
              "        }}\n",
              "}});\n",
              "\n",
              "// Listen for the removal of the full notebook cells\n",
              "var notebookContainer = gd.closest('#notebook-container');\n",
              "if (notebookContainer) {{\n",
              "    x.observe(notebookContainer, {childList: true});\n",
              "}}\n",
              "\n",
              "// Listen for the clearing of the current output cell\n",
              "var outputEl = gd.closest('.output');\n",
              "if (outputEl) {{\n",
              "    x.observe(outputEl, {childList: true});\n",
              "}}\n",
              "\n",
              "                        })                };                            </script>        </div>\n",
              "</body>\n",
              "</html>"
            ]
          },
          "metadata": {}
        }
      ],
      "source": [
        "#To visualize the above data using the plotly and see the bmi per genders\n",
        "fig=px.histogram(bmi,color='sex',x='bmi',title=\"Let's visualize the gender with body mass index\",histnorm='probability')\n",
        "fig.update_layout(bargap=0.5,plot_bgcolor='yellow',template = \"plotly_dark\",paper_bgcolor='green')\n",
        "fig.show()"
      ]
    },
    {
      "cell_type": "markdown",
      "id": "8813a525",
      "metadata": {
        "id": "8813a525"
      },
      "source": [
        "# Analysis"
      ]
    },
    {
      "cell_type": "raw",
      "id": "d5b1db7c",
      "metadata": {
        "id": "d5b1db7c"
      },
      "source": [
        "1) To Analysis the data for male gender the highest repeat  bmi is range 30\n",
        "2) Coming to the feamle the high repeat the bmi is range 28"
      ]
    },
    {
      "cell_type": "markdown",
      "id": "5870705c",
      "metadata": {
        "id": "5870705c"
      },
      "source": [
        "# Model buliding Process"
      ]
    },
    {
      "cell_type": "code",
      "execution_count": 29,
      "id": "71a01076",
      "metadata": {
        "id": "71a01076"
      },
      "outputs": [],
      "source": [
        "#Let's convert the categorical data to numerical data using the labelencoder \n",
        "#import the labelencoder using the sklearn\n",
        "from sklearn.preprocessing import LabelEncoder,StandardScaler\n",
        "#intialize the labbel encoder with variabel\n",
        "label=LabelEncoder()\n",
        "stand=StandardScaler()\n",
        "#Let's check the mean_squred_errot and r2 score\n",
        "from sklearn.metrics import mean_squared_error,r2_score"
      ]
    },
    {
      "cell_type": "code",
      "execution_count": 30,
      "id": "b4a42a2a",
      "metadata": {
        "id": "b4a42a2a",
        "outputId": "627bffb4-168f-426d-82d2-2344eeafb255",
        "colab": {
          "base_uri": "https://localhost:8080/"
        }
      },
      "outputs": [
        {
          "output_type": "execute_result",
          "data": {
            "text/plain": [
              "Index(['age', 'sex', 'bmi', 'children', 'smoker', 'region', 'charges'], dtype='object')"
            ]
          },
          "metadata": {},
          "execution_count": 30
        }
      ],
      "source": [
        "#Print the columns in the dataset\n",
        "data.columns"
      ]
    },
    {
      "cell_type": "code",
      "execution_count": 31,
      "id": "0f687664",
      "metadata": {
        "id": "0f687664"
      },
      "outputs": [],
      "source": [
        "#Let's use the label encoder\n",
        "data['sex']=label.fit_transform(data['sex'])\n",
        "data['smoker']=label.fit_transform(data['smoker'])\n",
        "data['region']=label.fit_transform(data['region'])"
      ]
    },
    {
      "cell_type": "code",
      "execution_count": 32,
      "id": "0a75cf26",
      "metadata": {
        "id": "0a75cf26"
      },
      "outputs": [],
      "source": [
        "#Let's divided the data into traing and testing\n",
        "X=data.drop(['charges'],axis=1)\n",
        "y=data['charges']"
      ]
    },
    {
      "cell_type": "code",
      "execution_count": 33,
      "id": "0fe7034d",
      "metadata": {
        "id": "0fe7034d"
      },
      "outputs": [],
      "source": [
        "#Using the 30% from the test data\n",
        "X_train,X_test,y_train,y_test=train_test_split(X,y,test_size=0.3,random_state=42)"
      ]
    },
    {
      "cell_type": "code",
      "execution_count": 34,
      "id": "f194a1d2",
      "metadata": {
        "id": "f194a1d2",
        "outputId": "af2584d2-aab6-41ff-bb00-8f50db6342fc",
        "colab": {
          "base_uri": "https://localhost:8080/"
        }
      },
      "outputs": [
        {
          "output_type": "execute_result",
          "data": {
            "text/plain": [
              "LinearRegression(fit_intercept=False, n_jobs=10)"
            ]
          },
          "metadata": {},
          "execution_count": 34
        }
      ],
      "source": [
        "#intialize the LinearRegression \n",
        "linear=LinearRegression(fit_intercept=False,\n",
        "    normalize='deprecated',\n",
        "    copy_X=True,\n",
        "    n_jobs=10,\n",
        "    positive=False)\n",
        "#Fit the data to the model\n",
        "linear.fit(X_train,y_train)"
      ]
    },
    {
      "cell_type": "code",
      "execution_count": 35,
      "id": "c443f756",
      "metadata": {
        "id": "c443f756",
        "outputId": "2d7eaee6-e8e2-48ba-e64c-d5dcb42ea7ba",
        "colab": {
          "base_uri": "https://localhost:8080/"
        }
      },
      "outputs": [
        {
          "output_type": "execute_result",
          "data": {
            "text/plain": [
              "array([11011.66177003,  8583.12756214, 37227.57144727, 10326.48239788,\n",
              "       27712.98675899,  7507.40159149,  4683.88980625, 14120.93576235,\n",
              "        6706.0495686 , 11107.88808665, 29125.32575935,  9393.4369589 ,\n",
              "        6835.52956987, 33909.42525797, 36105.64069297, 33724.79683067,\n",
              "       11860.41829289, 34026.30236783, 10214.00401439, 32944.63440793,\n",
              "        5346.92963773,  8942.17448287,  3536.22886536,  6778.64801521,\n",
              "       11905.77104008, 12894.80841007, 12795.50588814,  7346.20558887,\n",
              "       11501.60450679,  3804.75326722,  9151.57698202, 12969.98696489,\n",
              "        5315.68098413,  7356.3979492 ,  5133.09268514, 10842.73266114,\n",
              "        4532.82795041,  9221.22588057, 34813.80853583, 31073.776153  ,\n",
              "        5020.5856677 ,  5369.90744319, 12212.25868506, 12384.67150052,\n",
              "        7571.4842228 , 11719.48552696,  6116.22759982,  5612.21463016,\n",
              "       32930.25041778,  7315.5827089 , 13963.8869075 ,  3952.66876209,\n",
              "       10247.52488896,  4548.47720218, 11801.82534868, 11803.93818451,\n",
              "        6957.58260957, 30879.33298269, 12272.45768935, 12723.67661569,\n",
              "       13217.35747194,  8010.7128945 , 13007.02290835,  9901.43121441,\n",
              "       12382.98728101,  6908.58780897, 27556.87647208, 11100.44692319,\n",
              "        6099.83412983,  4672.00693462,  9448.71666384, 11625.83100841,\n",
              "       10733.6492569 ,  8598.85073626,  9755.67700254,  8089.92687949,\n",
              "        7332.69839652, 12410.51370725,  7020.15799716,  9771.80688987,\n",
              "        4396.31537873, 36669.42553741,  7164.27322445, 30300.95461728,\n",
              "       29219.13336742, 34517.3912395 ,  6911.22178569, 11990.03302092,\n",
              "       10433.55648168, 11404.21520403, 15222.66661614, 36515.87471524,\n",
              "       34396.36639225,  7671.82880134, 30493.59409864,  8511.2458306 ,\n",
              "       29896.98514881,  5004.06688132, 30684.07017654,  8873.71517644,\n",
              "        7458.69612455,  4076.61794956,  9078.24520389, 11987.27599422,\n",
              "       13176.09111376,  4288.32935969,  9523.59936805, 33525.34918747,\n",
              "        4280.46689655, 34458.34631195,  3691.6806001 ,  6572.24596102,\n",
              "       13886.44517377, 32078.66989804, 11957.91756108,  4082.12053789,\n",
              "       13256.56083078, 32343.59271662,  8729.03806614,  5344.1337069 ,\n",
              "        9040.88636862,  9601.28168572, 13199.58158211,  5357.77694295,\n",
              "        6980.50467796, 10162.39766788, 10039.14796467, 11276.47042129,\n",
              "       13084.75718797,  5502.15459537,  7217.13037879,  8089.29917038,\n",
              "        8612.46736633, 11381.97025101,  8380.1470007 , 12272.20280602,\n",
              "        8132.79935968, 31318.39268618, 33843.22274616, 32432.63484301,\n",
              "        8402.6308257 , 12354.06503656,  5740.34283331, 12662.91198845,\n",
              "        4979.0701941 , 32877.2056663 ,  7581.34515985,  6535.52548678,\n",
              "       12585.57545536,  6997.42448885, 36135.18011383,  5822.39362393,\n",
              "        4438.07514949, 31142.47273867,  9790.39974064,  8303.93115406,\n",
              "       13866.83472518, 10493.95202308, 27920.80861977, 32724.84141861,\n",
              "       14045.87561195,  5062.10416739, 12822.08850623,  5475.24094905,\n",
              "        5061.19232464,  9489.36051293, 36671.40620215, 36046.05768082,\n",
              "       33458.5949788 ,  5380.91884971,  9949.77961503,  8555.12261235,\n",
              "        9783.12430641,  6893.6847984 ,  4584.83160821, 32753.56288887,\n",
              "       26495.13503308, 13781.74744653, 30560.60583498, 12472.25354014,\n",
              "       37560.2916581 ,  5443.30392507,  9790.41185264,  7604.4653581 ,\n",
              "        7160.81976631,  6327.17090083,  7186.54356863,  6250.97150076,\n",
              "       11412.26875236, 11694.67472492,  5314.52107755,  5350.25549961,\n",
              "        5821.46835224, 29822.16624273, 13278.85039854, 11389.82993714,\n",
              "        4990.99939243, 13060.52054035,  5186.16755738, 10209.05225248,\n",
              "        6095.12669181, 34180.77568468,  7447.29392367,  4715.11460415,\n",
              "       27956.01255632, 29071.07905185, 10603.82303583,  5801.37725963,\n",
              "       10499.55766485,  5026.20706893, 11787.87987774, 12223.11812903,\n",
              "       12533.78428871, 28373.37610525,  8378.47445797,  7726.54331855,\n",
              "        7575.3284753 , 13237.17560672, 12674.384345  ,  8325.22105737,\n",
              "        5852.0627042 , 10134.9312731 ,  9200.18522535, 32858.33354879,\n",
              "        5221.41620116, 29047.27006145,  3598.74780204,  4522.0544835 ,\n",
              "       10720.99770827, 12175.24893909,  4802.92776388, 10953.19894719,\n",
              "        6253.03654981, 31395.67769255, 11173.55712424, 10513.510483  ,\n",
              "        6350.60501074,  8440.09112166, 33414.13292029,  4829.54701967,\n",
              "       13292.59539784, 29368.20770382,  6596.75546054,  6242.68107786,\n",
              "        4210.28739327,  5977.04815365,  6216.05384504,  6443.15105694,\n",
              "       13283.33961767,  3767.24994927,  4320.86963399,  8678.02609576,\n",
              "        5733.68077363, 12905.0007704 ,  5412.15844414,  6171.72929031,\n",
              "       11811.79148636,  6333.38412249, 10663.06334296,  8654.91592924,\n",
              "        9899.09480027, 13167.71991382, 28697.6566457 , 36381.82824385,\n",
              "       12905.92604208,  8929.1048468 , 35882.3554656 , 11100.39222442,\n",
              "       10427.34004779, 10985.83809977, 11061.78893886,  9916.34391398,\n",
              "       12338.6967062 , 13634.79703311,  4423.62240182, 27400.29439708,\n",
              "       10097.27774475, 32195.03724124,  7982.84905575, 10922.37433009,\n",
              "       11228.9999408 , 15317.17410351,  9739.25863855, 10937.46851835,\n",
              "       30674.9464788 ,  5981.59248004, 11791.0741849 , 34909.20743419,\n",
              "        7275.6313919 ,  6035.63947838,  5508.87384376, 11153.88356463,\n",
              "       30039.24132799, 11982.91060085,  9936.96613902, 11770.32382627,\n",
              "       10936.00584918,  5172.58173518,  5126.97079995, 28719.13037949,\n",
              "       29732.85739683,  9352.50377615,  5533.30169579, 27566.11970502,\n",
              "       12525.84114103, 29676.83148589,  5840.19823637, 36516.11221962,\n",
              "        8142.76029734,  4900.16261915,  7847.46249476,  3990.66807502,\n",
              "       28488.17601387, 13094.01269231,  3670.02045342, 11900.98238981,\n",
              "       11515.54412116, 13441.94665334, 32049.83431775, 13265.39519486,\n",
              "       32708.26527567,  9353.2749029 , 13627.94812531,  6029.49481964,\n",
              "       10195.00435792,  9125.53185391, 13118.36833397, 10558.23969624,\n",
              "        7478.00973287, 11612.04342235, 13823.14641102, 13209.65553802,\n",
              "        6925.89695414, 27129.39377132,  8691.91885571,  5142.52073822,\n",
              "        6646.49808663, 10790.3020065 , 33367.88511466,  9967.7473391 ,\n",
              "       13870.97697547,  9283.18819618,  7314.96225451,  5129.40026253,\n",
              "        5404.95148035, 10474.18008234,  7968.32423037,  4501.16983333,\n",
              "       11444.39956318, 10491.35103662,  6784.21162466,  4144.45306168,\n",
              "       10616.76460524,  5876.86338202, 32305.47287882, 27381.43614373,\n",
              "       34732.1837172 ,  6171.24861956,  9504.92101064,  9173.00598185,\n",
              "        4533.89608529, 33531.34247828,  9305.76027809, 31002.92304913,\n",
              "       33662.70747325,  8282.17490611, 12530.66219192,  8980.88390144,\n",
              "       11000.08891572, 12297.8447357 , 33445.40316318, 12244.29716973,\n",
              "        9291.88883161,  6585.81305216,  4014.65550129, 13078.45365468,\n",
              "       30800.91554615, 11688.79249131, 10447.29158192,  7128.88072781,\n",
              "        6151.96211436,  8025.55316236,  9639.94428043, 10269.3873272 ,\n",
              "       34213.64320709, 36843.06221698, 12036.40135142, 10077.98267289,\n",
              "       13536.43560425, 12444.92483528,  8043.33447354,  7430.37146844,\n",
              "        9578.70960381,  4962.61999737,  9648.95287847,  7105.38390192,\n",
              "       11817.61742845, 12773.64983418,  7450.50928279,  5295.55951887,\n",
              "       12304.72239667,  3448.79865563])"
            ]
          },
          "metadata": {},
          "execution_count": 35
        }
      ],
      "source": [
        "#To predict the predictoions from the linearregression\n",
        "y_pred=linear.predict(X_test)\n",
        "#prediction\n",
        "y_pred"
      ]
    },
    {
      "cell_type": "code",
      "execution_count": 36,
      "id": "cc8cb0b7",
      "metadata": {
        "id": "cc8cb0b7",
        "outputId": "db0c5736-47b8-468a-f827-75049b6c5359",
        "colab": {
          "base_uri": "https://localhost:8080/"
        }
      },
      "outputs": [
        {
          "output_type": "stream",
          "name": "stdout",
          "text": [
            "The linear regression model test score is 74.51\n",
            "The linear regression model train score is 71.18\n"
          ]
        }
      ],
      "source": [
        "#Let's prnt the test score is for the linear regression model\n",
        "print(f'The linear regression model test score is {linear.score(X_test,y_test)*100:.2f}')\n",
        "#Print the train score for linear regression model\n",
        "print(f'The linear regression model train score is {linear.score(X_train,y_train)*100:.2f}')"
      ]
    },
    {
      "cell_type": "code",
      "execution_count": 37,
      "id": "49b573e9",
      "metadata": {
        "id": "49b573e9",
        "outputId": "fc6f0ab7-2d3e-4418-8334-167689174e4b",
        "colab": {
          "base_uri": "https://localhost:8080/"
        }
      },
      "outputs": [
        {
          "output_type": "stream",
          "name": "stdout",
          "text": [
            "The mean_squard_error is 37375724.26907292\n",
            "The mean_squard_error is 0.74509189638555\n"
          ]
        }
      ],
      "source": [
        "#Let's check the mean_squard_error and r2 score\n",
        "print(f'The mean_squard_error is {mean_squared_error(y_test,y_pred)}')\n",
        "#print the r2_score\n",
        "print(f'The mean_squard_error is {r2_score(y_test,y_pred)}')"
      ]
    },
    {
      "cell_type": "code",
      "execution_count": 38,
      "id": "3f1a4311",
      "metadata": {
        "id": "3f1a4311",
        "outputId": "15e84425-d62d-420c-a0cc-2e19f0d49238",
        "colab": {
          "base_uri": "https://localhost:8080/",
          "height": 519
        }
      },
      "outputs": [
        {
          "output_type": "execute_result",
          "data": {
            "text/plain": [
              "Text(0, 0.5, 'Predictions')"
            ]
          },
          "metadata": {},
          "execution_count": 38
        },
        {
          "output_type": "display_data",
          "data": {
            "text/plain": [
              "<Figure size 1152x576 with 1 Axes>"
            ],
            "image/png": "[encoded data removed]"
          },
          "metadata": {}
        }
      ],
      "source": [
        "plt.scatter(y_test, y_pred)\n",
        "plt.xlabel(\"True Values\")\n",
        "plt.ylabel(\"Predictions\")"
      ]
    },
    {
      "cell_type": "code",
      "execution_count": 39,
      "id": "5b514e89",
      "metadata": {
        "id": "5b514e89",
        "outputId": "984bec30-a7fe-49d0-f8b7-622e900e77ce",
        "colab": {
          "base_uri": "https://localhost:8080/"
        }
      },
      "outputs": [
        {
          "output_type": "execute_result",
          "data": {
            "text/plain": [
              "DecisionTreeRegressor(ccp_alpha=0.1, criterion='absolute_error', max_depth=10,\n",
              "                      max_features=5, random_state=42)"
            ]
          },
          "metadata": {},
          "execution_count": 39
        }
      ],
      "source": [
        "#To install the decisiontree regressor model\n",
        "from sklearn.tree import DecisionTreeRegressor\n",
        "#intailze the model\n",
        "tree=DecisionTreeRegressor(criterion='absolute_error',\n",
        "    splitter='best',\n",
        "    max_depth=10,ccp_alpha=0.1,max_features=5,random_state=42)\n",
        "#Let's fit the model\n",
        "tree.fit(X_train,y_train)"
      ]
    },
    {
      "cell_type": "code",
      "execution_count": 40,
      "id": "8dd67466",
      "metadata": {
        "id": "8dd67466",
        "outputId": "95c0aa43-a2a3-41b5-9ac7-c50cc5b9f414",
        "colab": {
          "base_uri": "https://localhost:8080/"
        }
      },
      "outputs": [
        {
          "output_type": "execute_result",
          "data": {
            "text/plain": [
              "array([ 8605.350525,  5377.4578  , 28950.4692  ,  8527.532   ,\n",
              "       36898.73308 , 11326.71487 ,  2556.83465 , 14410.9321  ,\n",
              "        3353.4703  , 10527.21875 , 17496.306   ,  6600.361   ,\n",
              "        4454.40265 , 46113.511   , 48970.2476  , 40419.0191  ,\n",
              "       10527.21875 , 41676.0811  ,  8556.907   , 21348.706   ,\n",
              "        4504.6624  ,  8215.15205 ,  1253.1715  ,  2741.948   ,\n",
              "       10527.21875 , 10386.998425, 21075.991935,  4618.0799  ,\n",
              "        9225.2564  ,  1137.24035 ,  7682.67    , 11840.77505 ,\n",
              "        2020.177   ,  5708.867   ,  3410.324   , 12797.20962 ,\n",
              "        2020.177   ,  7630.3568  , 24593.8415  , 39937.518275,\n",
              "        4872.844925,  2362.22905 , 12038.334   , 12323.936   ,\n",
              "        5787.96145 , 12921.39175 , 26018.95052 ,  4247.8355  ,\n",
              "       40987.7534  ,  4679.89045 , 13887.9685  ,  1718.28955 ,\n",
              "        7443.64305 ,  1646.4297  , 10886.298   , 10527.21875 ,\n",
              "        3756.6216  , 43943.8761  , 11845.0969  , 10355.641   ,\n",
              "       13887.9685  ,  4058.1161  , 36580.28216 ,  7684.977475,\n",
              "       10197.7722  ,  3956.07145 , 15518.18025 , 11271.265125,\n",
              "        2902.9065  ,  1664.9996  ,  7650.77375 , 19144.57652 ,\n",
              "        8279.07285 ,  6600.361   ,  7441.053   ,  4293.66545 ,\n",
              "        4618.0799  , 11073.176   ,  3847.674   ,  8527.532   ,\n",
              "        1529.39085 , 27218.43725 ,  4927.28145 , 37474.896525,\n",
              "       42112.2356  , 41919.097   ,  5425.02335 , 10886.298   ,\n",
              "        8215.15205 , 11271.265125, 31620.00106 , 25678.77845 ,\n",
              "       23568.272   ,  4927.28145 , 55135.40209 ,  6600.361   ,\n",
              "       19521.9682  ,  1877.9294  , 17361.7661  , 24915.04626 ,\n",
              "        4454.40265 ,  1740.9205  ,  6571.02435 , 12094.478   ,\n",
              "       13143.60075 ,  1718.28955 ,  8215.15205 , 22218.1149  ,\n",
              "        1646.4297  , 21677.28345 ,  1253.1715  ,  3410.324   ,\n",
              "       12038.334   , 43943.8761  ,  9447.25035 , 27724.28875 ,\n",
              "       12736.083525, 19040.876   ,  6498.56095 , 17102.634655,\n",
              "        5120.85805 ,  6600.361   , 10579.711   ,  1975.3825  ,\n",
              "        4428.88785 ,  7111.026025,  7630.3568  ,  9282.4806  ,\n",
              "       21797.0004  ,  1824.2854  ,  3943.5954  ,  6602.76935 ,\n",
              "        5787.96145 , 12797.20962 ,  5663.3026  , 12921.39175 ,\n",
              "        5120.85805 , 37742.5757  , 40419.0191  , 37742.5757  ,\n",
              "        5377.4578  ,  9875.6804  ,  2494.022   , 11055.23735 ,\n",
              "        2494.022   , 24143.923025,  5257.50795 ,  2866.091   ,\n",
              "       10527.21875 ,  4899.21975 , 48207.17725 ,  2899.48935 ,\n",
              "        1137.24035 , 43943.8761  ,  7443.64305 ,  5120.85805 ,\n",
              "       13143.60075 ,  8556.907   , 36898.73308 , 39937.518275,\n",
              "       12646.207   ,  2730.10785 , 30166.61817 ,  2395.17155 ,\n",
              "        4247.8355  ,  7160.21215 , 49577.6624  , 42303.69215 ,\n",
              "       38998.546   ,  3206.49135 , 26140.3603  ,  6498.56095 ,\n",
              "        5028.1466  ,  4454.40265 ,  2161.7419  , 23568.272   ,\n",
              "       16232.847   , 14410.9321  , 16776.30405 , 11840.77505 ,\n",
              "       27218.43725 ,  2556.83465 ,  8583.60605 ,  4899.21975 ,\n",
              "        5708.867   ,  2899.48935 ,  4454.40265 ,  2866.091   ,\n",
              "        8556.907   , 10886.298   ,  4247.8355  ,  2207.69745 ,\n",
              "        2556.83465 , 55135.40209 , 12981.11635 ,  9630.229   ,\n",
              "        2709.24395 , 11729.6795  ,  2207.69745 ,  8444.474   ,\n",
              "        3206.49135 , 23065.4207  ,  4058.1161  ,  2683.86475 ,\n",
              "       18223.4512  , 18310.742   ,  8671.19125 , 18838.70366 ,\n",
              "        8279.07285 ,  2902.9065  , 12981.11635 , 12038.334   ,\n",
              "       19144.57652 , 18310.742   ,  6600.361   ,  3756.6216  ,\n",
              "        4899.21975 , 14004.1779  , 13012.20865 ,  4899.21975 ,\n",
              "        2207.69745 , 12797.20962 ,  6796.86325 , 48885.13561 ,\n",
              "        1909.52745 , 34822.67035 ,  1740.9205  ,  1646.4297  ,\n",
              "        9934.040725, 11536.501925,  1529.39085 ,  9264.797   ,\n",
              "        4927.28145 , 19040.876   ,  9264.797   ,  8444.474   ,\n",
              "        4435.0942  ,  6474.013   , 45702.02235 ,  1664.9996  ,\n",
              "       13012.20865 , 36837.467   ,  3556.9223  ,  3410.324   ,\n",
              "        1646.4297  ,  2704.1722  ,  3847.674   ,  4454.40265 ,\n",
              "       11411.685   ,  1646.4297  ,  1877.9294  ,  7682.67    ,\n",
              "        3206.49135 , 11840.77505 ,  2730.10785 ,  3232.7784  ,\n",
              "       12142.5786  ,  3410.324   , 25656.57526 ,  5425.02335 ,\n",
              "        8207.500275, 13464.3826  , 18310.742   , 52590.82939 ,\n",
              "       12231.6136  ,  6282.235   , 47462.894   ,  9880.068   ,\n",
              "        8527.532   , 20878.78443 ,  9264.797   ,  8582.3023  ,\n",
              "       12490.545875, 14410.9321  ,  2161.7419  , 12829.4551  ,\n",
              "        7650.77375 , 39937.518275, 24915.04626 ,  9222.4458  ,\n",
              "        8671.19125 , 14450.844775, 14478.33015 ,  8671.19125 ,\n",
              "       39937.518275,  2704.1722  ,  9222.4458  , 48612.348025,\n",
              "        4454.40265 ,  2704.1722  ,  2207.69745 , 10970.91565 ,\n",
              "       16420.49455 , 11015.1747  , 14478.33015 , 24476.47851 ,\n",
              "       10527.21875 ,  2902.9065  ,  2161.7419  , 39611.7577  ,\n",
              "       37079.372   ,  7160.21215 ,  2683.86475 , 15518.18025 ,\n",
              "       12921.39175 , 36837.467   ,  2207.69745 , 52590.82939 ,\n",
              "        5787.96145 ,  1631.74475 ,  5926.846   ,  1718.28955 ,\n",
              "       18310.742   , 13464.3826  , 27724.28875 , 12094.478   ,\n",
              "       10886.298   , 12231.6136  , 40419.0191  , 12265.5069  ,\n",
              "       23065.4207  ,  7682.67    , 15161.5344  ,  4454.40265 ,\n",
              "        8556.907   ,  8527.532   , 14004.1779  , 11763.0009  ,\n",
              "        3556.9223  , 10602.385   , 21075.991935, 11938.25595 ,\n",
              "        4899.21975 , 33307.5508  ,  6571.02435 , 17102.634655,\n",
              "        3847.674   ,  9880.068   , 41676.0811  ,  8527.532   ,\n",
              "       14254.6082  ,  7111.026025,  4189.1131  ,  4247.8355  ,\n",
              "        2207.69745 ,  7630.3568  ,  6282.235   ,  1631.74475 ,\n",
              "       11536.501925,  7473.092175,  5375.038   ,  3180.5101  ,\n",
              "       10106.13425 ,  2472.79895 , 39937.518275, 38792.6856  ,\n",
              "       46255.1125  ,  3206.49135 ,  8209.188675,  6272.451725,\n",
              "        1877.9294  , 21348.706   ,  6282.235   , 15820.699   ,\n",
              "       41676.0811  ,  4899.21975 , 21075.991935,  5787.96145 ,\n",
              "        9447.25035 , 10527.21875 , 19964.7463  ,  9748.9106  ,\n",
              "       19496.71917 ,  4454.40265 ,  2020.177   , 11657.916975,\n",
              "       19040.876   , 11763.0009  , 10461.9794  ,  3556.9223  ,\n",
              "        2902.9065  ,  5966.8874  ,  8279.07285 ,  8527.532   ,\n",
              "       24593.8415  , 52590.82939 , 11845.0969  ,  7473.092175,\n",
              "       13352.0998  , 11015.1747  ,  6600.361   ,  2866.091   ,\n",
              "        6796.86325 ,  3984.9514  ,  8444.474   ,  4454.40265 ,\n",
              "       11845.0969  , 25656.57526 ,  4293.66545 ,  2207.69745 ,\n",
              "       11364.3535  , 27724.28875 ])"
            ]
          },
          "metadata": {},
          "execution_count": 40
        }
      ],
      "source": [
        "#predict the prediction using the data\n",
        "tree_pred=tree.predict(X_test)\n",
        "#prediction\n",
        "tree_pred"
      ]
    },
    {
      "cell_type": "code",
      "execution_count": 41,
      "id": "60c6f2dc",
      "metadata": {
        "id": "60c6f2dc",
        "outputId": "c1906b3c-eb2f-477d-b6c5-85bff6953d1b",
        "colab": {
          "base_uri": "https://localhost:8080/"
        }
      },
      "outputs": [
        {
          "output_type": "stream",
          "name": "stdout",
          "text": [
            "The decisiontree regression model test score is 76.08\n",
            "The decisiontree regression model train score is 95.74\n"
          ]
        }
      ],
      "source": [
        "#Let's prnt the test score is for the decisiontree regression model\n",
        "print(f'The decisiontree regression model test score is {tree.score(X_test,y_test)*100:.2f}')\n",
        "#Print the train score for decisiontree regression model\n",
        "print(f'The decisiontree regression model train score is {tree.score(X_train,y_train)*100:.2f}')"
      ]
    },
    {
      "cell_type": "code",
      "execution_count": 42,
      "id": "886c163a",
      "metadata": {
        "id": "886c163a",
        "outputId": "58a60360-e25a-4c81-d119-169a5a3fd635",
        "colab": {
          "base_uri": "https://localhost:8080/"
        }
      },
      "outputs": [
        {
          "output_type": "stream",
          "name": "stdout",
          "text": [
            "The mean_squard_error is 35074606.951686166\n",
            "The mean_squard_error is 0.7607858652126583\n"
          ]
        }
      ],
      "source": [
        "#Let's check the mean_squard_error and r2 score\n",
        "print(f'The mean_squard_error is {mean_squared_error(y_test,tree_pred)}')\n",
        "#print the r2_score\n",
        "print(f'The mean_squard_error is {r2_score(y_test,tree_pred)}')"
      ]
    },
    {
      "cell_type": "code",
      "execution_count": 43,
      "id": "02488860",
      "metadata": {
        "id": "02488860",
        "outputId": "0cd15b57-e63c-4683-cd2f-14b4c63a2ed3",
        "colab": {
          "base_uri": "https://localhost:8080/"
        }
      },
      "outputs": [
        {
          "output_type": "execute_result",
          "data": {
            "text/plain": [
              "RandomForestRegressor(criterion='poisson', n_estimators=700, n_jobs=10)"
            ]
          },
          "metadata": {},
          "execution_count": 43
        }
      ],
      "source": [
        "#import the randomforesttree regressor\n",
        "from sklearn.ensemble import RandomForestRegressor\n",
        "#intalize the model\n",
        "random=RandomForestRegressor(n_estimators=700,criterion='poisson',n_jobs=10)\n",
        "#Let's fit the data to random forest\n",
        "random.fit(X_train,y_train)"
      ]
    },
    {
      "cell_type": "code",
      "execution_count": 44,
      "id": "3a928f63",
      "metadata": {
        "id": "3a928f63",
        "outputId": "70f08770-5505-43dd-f940-b229aded447f",
        "colab": {
          "base_uri": "https://localhost:8080/"
        }
      },
      "outputs": [
        {
          "output_type": "execute_result",
          "data": {
            "text/plain": [
              "array([ 9095.52183124,  5354.36936121, 35863.29083889,  9680.59643846,\n",
              "       39649.30579803,  8549.51788533,  2153.03195446, 14780.54231991,\n",
              "        5451.05479353, 10824.33415894, 19790.33654684,  7157.07484411,\n",
              "        4055.39032181, 45412.54925779, 48338.34227919, 44889.29373056,\n",
              "       12177.86101516, 42772.31777077,  9317.36737866, 24915.11342973,\n",
              "        8596.57816239,  8490.16786017,  1411.60220737,  2780.0041858 ,\n",
              "       12550.72846761, 12652.49971637, 18789.39575441,  5000.84281739,\n",
              "       10868.87148681,  3000.0138752 ,  8480.06225426, 11669.94774443,\n",
              "        2619.6804177 ,  5923.34054394,  3737.68903966, 13256.29353409,\n",
              "        4615.69286969,  7891.93744354, 24474.60339871, 40114.91850197,\n",
              "        7290.51688004,  3259.95352906, 12779.93424031, 13027.45696593,\n",
              "        5596.34119829, 14913.40857583, 17370.39409154, 11074.65937139,\n",
              "       42519.3473762 ,  6328.51659299, 14203.51304937,  2558.71896429,\n",
              "        6643.26318466,  1873.38812401, 11063.13936189, 12116.10049684,\n",
              "        4633.55367093, 42806.67135746, 12045.9045802 , 22028.33733579,\n",
              "       13987.61786549,  5913.1985756 , 18428.01534847,  7519.21670383,\n",
              "       10660.18314747,  7017.6188899 , 22080.29183201, 13416.39071821,\n",
              "        6962.67031179,  2408.30282297, 10286.71913564,  9480.04857449,\n",
              "        9370.15500487, 11214.80409673,  9059.3554575 ,  5231.73845464,\n",
              "        6289.26874959, 13020.00417139,  5037.43568547,  8681.50238227,\n",
              "        2339.38213383, 34263.23762857,  9322.88099709, 42303.81175164,\n",
              "       43433.33782636, 41831.31619154,  5199.90965613, 10916.02391409,\n",
              "        8434.29685863, 14634.18393379, 24150.6673497 , 35158.096755  ,\n",
              "       25908.12151111,  7016.50979687, 40436.44711163,  7200.34630289,\n",
              "       19360.80330316,  2650.56964809, 17995.06356774,  7949.58612119,\n",
              "        4740.25229433,  1979.20122669,  6902.78058851, 18188.25629699,\n",
              "       15364.4294993 ,  7602.88457211,  8231.96143101, 24453.46730693,\n",
              "        2062.52408457, 24693.56687174,  1454.13429131,  4586.55899721,\n",
              "       12284.43051511, 40327.71510163, 10184.18444784,  4014.6122831 ,\n",
              "       13166.25972823, 28366.62867024,  6408.27221397,  4821.80807443,\n",
              "        6233.2349934 ,  7557.96642096, 16666.63250407,  2718.27316179,\n",
              "        7032.52651869,  7272.51749809, 16372.39361463,  9584.64735713,\n",
              "       20865.52034613,  2692.837428  ,  4181.75604564,  6202.47489517,\n",
              "        6119.19416793, 11767.25712449,  8130.11333673, 24142.07750077,\n",
              "        6398.09912754, 31569.65737443, 47696.24958259, 39020.43757683,\n",
              "        5219.00108486, 12497.76100301,  3244.54974229, 17805.98534097,\n",
              "        3033.91875909, 23974.26539114,  6558.54136599,  4160.18267504,\n",
              "       11764.424387  ,  4888.0307855 , 45555.74388476,  6638.04135284,\n",
              "        1675.71794839, 40377.48762591,  7351.0574981 ,  5164.0525548 ,\n",
              "       14631.68113064,  9190.7374318 , 37185.58620024, 39983.98306311,\n",
              "       12681.92518349,  3320.52986484, 20863.8911709 ,  3874.42126494,\n",
              "        5673.2013225 ,  7384.90272936, 47612.59268659, 41576.69642593,\n",
              "       40280.78781493,  8799.01851046, 15811.34506951,  7945.17209401,\n",
              "       10419.85589244,  5178.04986036,  2701.91543019, 23562.98698396,\n",
              "       17314.32591481, 14581.50455933, 17362.37607257, 11769.38407094,\n",
              "       34682.82232293,  7042.3798576 ,  9960.94947536,  5053.65607381,\n",
              "        5622.8634452 ,  3573.95749969,  5202.55976471,  4639.16915897,\n",
              "        9848.89635509, 12163.15204997,  4781.48008729,  5485.19595851,\n",
              "        5425.02358069, 46912.6542547 , 13363.04236003,  9902.1094291 ,\n",
              "        3264.22075927, 16187.47877111,  3355.31080174, 12784.9516154 ,\n",
              "        3906.58432993, 24929.53788269,  5950.47508261,  5049.07076103,\n",
              "       19472.93732957, 20980.73197564, 11169.63150517,  6201.72303047,\n",
              "       14750.86757613,  4981.78611887, 15890.44917007, 11979.72302409,\n",
              "       11214.75973471, 19002.12305997,  7145.00265947,  4209.92548989,\n",
              "        4802.00554406, 14220.1084692 , 15371.72041334,  5255.37986943,\n",
              "        2300.7398256 ,  9595.94376866, 12742.71631473, 49008.30960307,\n",
              "        2596.8190058 , 35116.11881149,  1877.13698556,  1782.46014117,\n",
              "        9507.0796938 , 12683.41852446,  2587.19709387, 10856.72053271,\n",
              "       10693.05366589, 29183.21287226, 10652.5169552 , 13507.01584764,\n",
              "        4666.40212129,  7008.75866141, 44639.99228851,  2830.20462127,\n",
              "       14811.23422346, 44263.94167103,  3219.09765913,  3399.7612242 ,\n",
              "        1717.95226169,  3142.0938231 ,  4783.49666067,  4372.13967186,\n",
              "       13575.7452144 ,  2619.89060209,  2227.99021659,  9279.46180957,\n",
              "        5389.72165737, 12205.18527029,  2815.84287623,  3657.16901614,\n",
              "       14162.45550821,  4810.44702259, 11575.51668163,  5951.05851577,\n",
              "        7874.05045321, 15512.11622133, 18697.37898047, 44885.03200621,\n",
              "       12537.169076  ,  6728.87993507, 45706.9497535 , 10055.63728239,\n",
              "        8884.88236803, 19905.52342431, 10741.41633597,  8987.65371403,\n",
              "       14420.6371    , 14019.08796911,  2858.12548631, 14653.33889639,\n",
              "        7329.66474197, 41307.01533849,  8095.75065657,  9702.4360112 ,\n",
              "        9849.54348436, 15065.15201167, 13927.09843957, 10074.97667497,\n",
              "       37623.87413183,  3233.56791559,  9997.59606327, 46966.17606053,\n",
              "        5071.82163349,  3078.82601711,  3069.11780804, 11459.72989463,\n",
              "       15208.84142886, 17657.80310646, 11339.15410439, 19469.21428636,\n",
              "       12336.44344334,  4017.64921613,  2762.46266069, 42822.38035339,\n",
              "       36815.89583964, 14870.6822793 ,  6263.4699833 , 16719.6389435 ,\n",
              "       13568.82512397, 44477.80603891,  3375.19693436, 43223.54117319,\n",
              "        7477.17457381,  1783.13280616,  6590.24353824,  2644.83006607,\n",
              "       17409.66565101, 13556.0687621 ,  3701.66278091, 19775.13910523,\n",
              "       10758.97349653, 12247.35039929, 44636.77508509, 12353.98085394,\n",
              "       24677.88053706,  7964.63740286, 16800.09835513,  5061.41712316,\n",
              "        9540.05240711,  8422.13965156, 14688.94031301, 18270.60122376,\n",
              "        3138.50705359, 12006.2353236 , 14727.00048087, 12189.02846849,\n",
              "        4991.23452307, 44354.61895714,  6624.24139387,  4672.82928293,\n",
              "        4905.44734587,  9530.97866886, 42343.74553381, 11703.94012961,\n",
              "       15888.99023417,  6983.29249207,  5565.82046946,  5177.11628256,\n",
              "       14395.79746321,  8316.42137119,  6056.79717843,  2311.10870537,\n",
              "       11573.8003535 , 14576.3679934 ,  5792.071429  ,  7608.21879284,\n",
              "       11677.21851699,  3172.24064479, 42995.52079351, 47565.81477126,\n",
              "       49476.77338407,  6797.20007409,  9109.566506  ,  6429.89386186,\n",
              "        2625.14226054, 21880.03700393,  7570.87553376, 20484.28826814,\n",
              "       45563.02438596,  5283.27108193, 15004.25612796,  6711.14136596,\n",
              "       11343.42625883, 11339.53133037, 21035.77657666, 13168.6887518 ,\n",
              "        7919.01424444,  7322.55065364,  3785.39845729, 11591.21044407,\n",
              "       20532.36382914, 11502.53334904, 10178.36418803,  3134.64933066,\n",
              "       10047.67536254,  6714.80807279, 13078.89197124, 10916.46873789,\n",
              "       23786.15568731, 45276.67328039, 12009.13186941,  8436.72700657,\n",
              "       13529.38689344, 16807.787996  ,  7440.24168249,  4985.58044236,\n",
              "        7413.60398607,  5252.05172731, 12699.02189221,  5307.51627126,\n",
              "       11921.16604874, 14563.90648779,  5041.823823  ,  5120.07845973,\n",
              "       11706.27929443,  3563.91767269])"
            ]
          },
          "metadata": {},
          "execution_count": 44
        }
      ],
      "source": [
        "#Randomforest regressor prediction\n",
        "random_pred=random.predict(X_test)\n",
        "#prediction\n",
        "random_pred"
      ]
    },
    {
      "cell_type": "code",
      "execution_count": 45,
      "id": "ba63751c",
      "metadata": {
        "id": "ba63751c",
        "outputId": "44537c0c-b549-4dd8-cb79-43ea52e26d03",
        "colab": {
          "base_uri": "https://localhost:8080/"
        }
      },
      "outputs": [
        {
          "output_type": "stream",
          "name": "stdout",
          "text": [
            "The decisiontree regression model test score is 83.32\n",
            "The decisiontree regression model train score is 97.36\n"
          ]
        }
      ],
      "source": [
        "#Let's prnt the test score is for the decisiontree regression model\n",
        "print(f'The decisiontree regression model test score is {random.score(X_test,y_test)*100:.2f}')\n",
        "#Print the train score for decisiontree regression model\n",
        "print(f'The decisiontree regression model train score is {random.score(X_train,y_train)*100:.2f}')"
      ]
    },
    {
      "cell_type": "code",
      "execution_count": 46,
      "id": "2029151d",
      "metadata": {
        "id": "2029151d",
        "outputId": "a4ed46e4-58db-49ec-de9b-9e8ec79a0932",
        "colab": {
          "base_uri": "https://localhost:8080/"
        }
      },
      "outputs": [
        {
          "output_type": "stream",
          "name": "stdout",
          "text": [
            "The mean_squard_error is 24455045.834032144\n",
            "The mean_squard_error is 0.8332128813750954\n"
          ]
        }
      ],
      "source": [
        "#Let's check the mean_squard_error and r2 score\n",
        "print(f'The mean_squard_error is {mean_squared_error(y_test,random_pred)}')\n",
        "#print the r2_score\n",
        "print(f'The mean_squard_error is {r2_score(y_test,random_pred)}')"
      ]
    },
    {
      "cell_type": "code",
      "execution_count": 47,
      "id": "b45cef0f",
      "metadata": {
        "id": "b45cef0f"
      },
      "outputs": [],
      "source": [
        "#intialize the Xgbregressor\n",
        "from xgboost import XGBRegressor\n",
        "#import the model\n",
        "xgboost=XGBRegressor()"
      ]
    },
    {
      "cell_type": "code",
      "execution_count": 48,
      "id": "899ccdd7",
      "metadata": {
        "id": "899ccdd7",
        "outputId": "311ca9f4-72a4-4442-9c28-0da17a8e7c94",
        "colab": {
          "base_uri": "https://localhost:8080/"
        }
      },
      "outputs": [
        {
          "output_type": "stream",
          "name": "stdout",
          "text": [
            "[16:48:57] WARNING: /workspace/src/objective/regression_obj.cu:152: reg:linear is now deprecated in favor of reg:squarederror.\n"
          ]
        },
        {
          "output_type": "execute_result",
          "data": {
            "text/plain": [
              "XGBRegressor(n_estimators=500)"
            ]
          },
          "metadata": {},
          "execution_count": 48
        }
      ],
      "source": [
        "# create an xgboost regression model\n",
        "model = XGBRegressor(max_depth=3, learning_rate=0.1, n_estimators=500, objective='reg:linear', booster='gbtree')\n",
        "#fit the data to train data\n",
        "model.fit(X_train,y_train)"
      ]
    },
    {
      "cell_type": "code",
      "execution_count": 49,
      "id": "b09e9884",
      "metadata": {
        "id": "b09e9884",
        "outputId": "dfe45d9b-6cd6-485e-de7c-62777ce0a434",
        "colab": {
          "base_uri": "https://localhost:8080/"
        }
      },
      "outputs": [
        {
          "output_type": "execute_result",
          "data": {
            "text/plain": [
              "array([10703.593  ,  6770.639  , 32540.082  ,  9324.199  , 32675.207  ,\n",
              "        4716.862  ,  1535.3035 , 15314.802  ,  2467.8767 , 10192.931  ,\n",
              "       18436.143  ,  7976.559  ,  4406.5054 , 45347.703  , 46415.39   ,\n",
              "       44171.008  , 10450.802  , 44634.46   ,  8857.713  , 24295.79   ,\n",
              "        6543.3276 ,  8185.6655 ,   360.28967,  3391.4248 , 12977.829  ,\n",
              "       12816.93   , 15079.035  ,  6203.1333 ,  9931.783  ,  4522.512  ,\n",
              "        7085.521  , 13442.125  ,  2260.3389 ,  5015.8706 ,  3953.2622 ,\n",
              "       10483.692  ,  2074.434  ,  7832.133  , 27039.172  , 39777.76   ,\n",
              "        4932.0757 ,  4841.742  , 13126.709  , 14956.285  ,  6416.0273 ,\n",
              "       16185.651  ,  7825.363  ,  9134.778  , 43251.926  ,  5596.961  ,\n",
              "       12675.299  ,  1903.3668 ,  5684.4414 ,   959.0669 , 10891.477  ,\n",
              "       12564.289  ,  4451.677  , 40006.383  , 10965.483  , 12255.585  ,\n",
              "       15672.559  ,  5673.3647 , 16480.42   ,  8669.044  , 11197.458  ,\n",
              "        6373.8247 , 14866.574  , 11350.342  ,  5022.067  ,  1692.371  ,\n",
              "        7022.8584 , 10636.502  , 10746.194  ,  7811.5054 ,  9878.632  ,\n",
              "        5320.962  ,  8047.904  , 12818.228  ,  6156.728  ,  8657.462  ,\n",
              "        3267.3335 , 26795.422  ,  8320.435  , 40801.92   , 39175.297  ,\n",
              "       44307.914  ,  5237.9023 , 11632.521  ,  9207.455  , 15071.511  ,\n",
              "       31650.041  , 30119.14   , 26094.2    ,  5944.6504 , 41660.625  ,\n",
              "        6094.893  , 19625.008  ,  3124.1035 , 18092.873  ,  6928.551  ,\n",
              "        5195.1914 ,  1130.8226 ,  5754.8984 , 13878.591  , 12747.89   ,\n",
              "        3468.6895 ,  9211.234  , 21765.62   ,  1528.3728 , 24991.785  ,\n",
              "         417.21213,  3154.7625 , 13325.236  , 40213.27   , 11505.262  ,\n",
              "        2502.8057 , 12898.807  , 23221.557  ,  7317.976  ,  5782.2573 ,\n",
              "        6590.521  ,  8455.442  , 14496.807  ,  3176.7998 ,  6756.6416 ,\n",
              "        7608.217  , 10143.05   , 10804.648  , 14272.381  ,  4255.327  ,\n",
              "        2873.9956 ,  6813.192  ,  6994.434  , 10438.071  ,  6013.1626 ,\n",
              "       19306.334  ,  6225.518  , 38485.547  , 46174.637  , 40570.176  ,\n",
              "        4474.6    , 11290.989  ,  3336.2632 , 13999.3125 ,  3184.2886 ,\n",
              "       24295.182  ,  5859.8374 ,  2850.6592 , 12106.171  ,  3849.5964 ,\n",
              "       52378.85   ,  6235.87   ,  2159.599  , 39847.77   ,  5231.212  ,\n",
              "        5543.2197 , 13793.708  ,  9517.091  , 34089.625  , 39802.906  ,\n",
              "       13299.964  ,  3198.3328 , 20225.998  ,  6454.4473 ,  4886.749  ,\n",
              "        7622.7817 , 51642.684  , 43270.754  , 42786.664  ,  3240.9885 ,\n",
              "       10069.017  ,  6125.487  ,  9949.095  ,  4886.3154 ,  4651.0757 ,\n",
              "       24791.455  , 16849.223  , 12980.11   , 15571.517  , 12082.017  ,\n",
              "       26891.963  ,  3191.6296 ,  8500.456  ,  3855.4927 ,  4749.234  ,\n",
              "       10993.119  ,  9836.761  ,  3847.0667 ,  8528.813  , 11334.352  ,\n",
              "        4513.066  ,  3016.1938 ,  4658.963  , 41419.652  , 18836.156  ,\n",
              "       10201.615  ,  4888.3667 , 13969.22   ,  1979.7848 , 11972.176  ,\n",
              "        3541.1829 , 27965.71   ,  6477.096  ,  2697.213  , 18508.86   ,\n",
              "       18459.34   , 10520.826  ,  5703.3955 , 10308.514  ,  4341.0747 ,\n",
              "       13684.698  , 11058.619  ,  9217.529  , 16469.814  ,  8251.175  ,\n",
              "        5150.7964 ,  5583.5825 , 15433.937  , 14903.619  ,  5328.844  ,\n",
              "        4468.5483 ,  8654.553  ,  6589.9937 , 48371.24   ,  1866.9187 ,\n",
              "       38393.74   ,  1428.8033 ,  2689.8247 , 10639.0625 , 12930.     ,\n",
              "        4125.55   , 10187.791  ,  5468.3833 , 25235.234  , 11249.14   ,\n",
              "       11120.115  ,  6065.8413 ,  6536.108  , 43709.895  ,  3133.8135 ,\n",
              "       15333.541  , 40191.316  ,  4793.586  ,  4632.1123 ,   591.8324 ,\n",
              "        3438.6157 ,  5353.977  ,  3793.718  , 14919.746  , -1733.8021 ,\n",
              "        4997.542  ,  6254.7974 ,  3245.6516 , 10739.342  ,  5450.519  ,\n",
              "        4282.4404 , 14482.755  ,  8220.571  ,  9818.091  ,  5893.3887 ,\n",
              "        7105.8228 , 14942.941  , 19480.572  , 43489.414  , 12269.544  ,\n",
              "        6811.3413 , 47863.934  ,  8731.153  ,  7962.8687 , 12695.6875 ,\n",
              "       10705.861  , 10938.987  , 12609.8545 , 11546.531  ,  4677.104  ,\n",
              "       13671.636  ,  7317.742  , 40298.99   ,  5847.1562 , 10646.719  ,\n",
              "       10116.808  , 14817.477  ,  8903.7295 ,  9998.329  , 44834.21   ,\n",
              "        2771.651  , 11156.271  , 48501.285  ,  4857.9917 ,  4364.9097 ,\n",
              "        2985.5405 , 11375.635  , 16666.207  , 17378.268  ,  9016.388  ,\n",
              "        9845.426  , 10667.837  ,  4025.3953 ,  3762.6025 , 39023.707  ,\n",
              "       39359.793  ,  8681.31   ,  6161.7188 , 18033.621  , 14022.656  ,\n",
              "       40455.496  ,  5167.8804 , 45522.46   ,  7865.275  ,  1071.4415 ,\n",
              "        6409.5923 ,  6825.4385 , 18006.705  , 13365.948  ,   821.1744 ,\n",
              "       11607.914  , 11228.791  , 16397.305  , 42091.773  , 14337.287  ,\n",
              "       23970.844  ,  6295.03   , 14905.961  ,  4544.8867 ,  8662.105  ,\n",
              "        7988.921  , 15557.477  , 12591.541  ,  3765.8564 , 11044.642  ,\n",
              "       13247.589  , 18059.3    ,  4559.1577 , 34706.04   ,  5727.55   ,\n",
              "        4224.4854 ,  4083.899  ,  8439.519  , 43265.51   ,  8210.943  ,\n",
              "       14287.195  ,  7387.6636 ,  5679.3667 , 11545.134  ,  9500.474  ,\n",
              "        8422.001  ,  6405.5977 ,  2744.2122 , 11520.612  ,  9992.517  ,\n",
              "        6950.945  ,  3366.2124 , 11244.97   ,  5207.694  , 40436.98   ,\n",
              "       39536.863  , 48059.414  ,  9915.402  ,  8220.826  ,  7494.2876 ,\n",
              "        2289.3691 , 23262.865  ,  5437.8477 , 17288.865  , 52621.46   ,\n",
              "        5542.8584 , 14967.236  ,  7546.7373 , 10030.713  , 17266.557  ,\n",
              "       20896.678  , 12744.5205 ,  7883.629  ,  6555.251  ,  -139.93047,\n",
              "       10337.109  , 20837.223  , 12353.814  , 10031.007  ,  2970.9512 ,\n",
              "        6469.5015 ,  8657.151  , 11753.582  ,  7286.74   , 23988.71   ,\n",
              "       47378.965  , 10782.882  ,  8912.342  , 14275.636  , 14558.409  ,\n",
              "        6808.438  ,  1886.6372 ,  7200.9644 ,  4924.2876 , 10079.076  ,\n",
              "        4083.339  , 12714.653  , 11590.082  ,  5636.9097 ,  4272.122  ,\n",
              "       12469.607  ,  1545.3248 ], dtype=float32)"
            ]
          },
          "metadata": {},
          "execution_count": 49
        }
      ],
      "source": [
        "#Make prediction on the test data\n",
        "model_pred=model.predict(X_test)\n",
        "#prediction\n",
        "model_pred"
      ]
    },
    {
      "cell_type": "code",
      "execution_count": 50,
      "id": "5a39c7c1",
      "metadata": {
        "id": "5a39c7c1",
        "outputId": "b3726f1b-b957-4831-d28d-13c672dd82a3",
        "colab": {
          "base_uri": "https://localhost:8080/"
        }
      },
      "outputs": [
        {
          "output_type": "stream",
          "name": "stdout",
          "text": [
            "The xgboost regression model test score is 84.80\n",
            "The xgboost regression model train score is 94.98\n"
          ]
        }
      ],
      "source": [
        "#Let's prnt the test score is for the xgboost regression model\n",
        "print(f'The xgboost regression model test score is {model.score(X_test,y_test)*100:.2f}')\n",
        "#Print the train score for xgboost regression model\n",
        "print(f'The xgboost regression model train score is {model.score(X_train,y_train)*100:.2f}')"
      ]
    },
    {
      "cell_type": "code",
      "execution_count": 51,
      "id": "13fc882d",
      "metadata": {
        "id": "13fc882d",
        "outputId": "38675413-3651-4652-a12e-8e8fd044d753",
        "colab": {
          "base_uri": "https://localhost:8080/"
        }
      },
      "outputs": [
        {
          "output_type": "stream",
          "name": "stdout",
          "text": [
            "The mean_squard_error is 22289068.33242669\n",
            "The mean_squard_error is 0.8479851761788292\n"
          ]
        }
      ],
      "source": [
        "#Let's check the mean_squard_error and r2 score\n",
        "print(f'The mean_squard_error is {mean_squared_error(y_test,model_pred)}')\n",
        "#print the r2_score\n",
        "print(f'The mean_squard_error is {r2_score(y_test,model_pred)}')"
      ]
    },
    {
      "cell_type": "code",
      "execution_count": 52,
      "id": "aead5818",
      "metadata": {
        "id": "aead5818",
        "outputId": "30784df3-ec9b-49e3-8d4f-af5ddd231f36",
        "colab": {
          "base_uri": "https://localhost:8080/"
        }
      },
      "outputs": [
        {
          "output_type": "execute_result",
          "data": {
            "text/plain": [
              "Ridge(solver='lsqr')"
            ]
          },
          "metadata": {},
          "execution_count": 52
        }
      ],
      "source": [
        "#import the Ridge algorithm\n",
        "from sklearn.linear_model import Ridge\n",
        "#intaize the Ridge algorithm\n",
        "ridge=Ridge(solver='lsqr')\n",
        "#And fit the data to train data\n",
        "ridge.fit(X_train,y_train)"
      ]
    },
    {
      "cell_type": "code",
      "execution_count": 53,
      "id": "7f150ce1",
      "metadata": {
        "id": "7f150ce1",
        "outputId": "28a19ff5-3543-46f7-a058-7a54b979ef59",
        "colab": {
          "base_uri": "https://localhost:8080/"
        }
      },
      "outputs": [
        {
          "output_type": "stream",
          "name": "stdout",
          "text": [
            "The decisiontree regression model test score is 76.92\n",
            "The decisiontree regression model train score is 74.22\n"
          ]
        }
      ],
      "source": [
        "#Let's prnt the test score is for the decisiontree regression model\n",
        "print(f'The decisiontree regression model test score is {ridge.score(X_test,y_test)*100:.2f}')\n",
        "#Print the train score for decisiontree regression model\n",
        "print(f'The decisiontree regression model train score is {ridge.score(X_train,y_train)*100:.2f}')"
      ]
    },
    {
      "cell_type": "code",
      "execution_count": 54,
      "id": "bd5fe601",
      "metadata": {
        "id": "bd5fe601",
        "outputId": "147d0b8e-1d95-414c-836d-f5c75a875e6b",
        "colab": {
          "base_uri": "https://localhost:8080/"
        }
      },
      "outputs": [
        {
          "output_type": "execute_result",
          "data": {
            "text/plain": [
              "GradientBoostingRegressor(alpha=0.3, criterion='mse', loss='huber',\n",
              "                          n_estimators=300, random_state=120)"
            ]
          },
          "metadata": {},
          "execution_count": 54
        }
      ],
      "source": [
        "#install the graident boost method\n",
        "from sklearn.ensemble import GradientBoostingRegressor\n",
        "#intalize the gradientboostingregressor\n",
        "model=GradientBoostingRegressor(loss='huber',\n",
        "    n_estimators=300,alpha=0.3,criterion='mse',random_state=120)\n",
        "#Let fit the train data to the model\n",
        "model.fit(X_train,y_train)"
      ]
    },
    {
      "cell_type": "code",
      "execution_count": 55,
      "id": "d5b5ea6d",
      "metadata": {
        "id": "d5b5ea6d",
        "outputId": "26f09c95-5d99-4608-8226-b517faf8bd00",
        "colab": {
          "base_uri": "https://localhost:8080/"
        }
      },
      "outputs": [
        {
          "output_type": "execute_result",
          "data": {
            "text/plain": [
              "array([ 8923.43536197,  5428.06713652, 29906.45429477,  9124.66856283,\n",
              "       34943.34646908,  4548.9829858 ,  2089.15694552, 14557.29575877,\n",
              "        3488.94834655, 10316.36026666, 17805.30406312,  7170.02651059,\n",
              "        3996.93441549, 45978.59083537, 49042.3896801 , 42110.89050599,\n",
              "        9819.88972533, 40007.39519501,  8197.68263265, 23795.02006894,\n",
              "        4960.62679421,  7826.71607359,  1183.34933333,  2633.39515479,\n",
              "       11049.58627459, 11106.93615497, 13110.68194079,  4909.28833798,\n",
              "        9547.3751688 ,  1196.78099999,  8060.18483107, 11755.61358153,\n",
              "        2022.37231302,  5928.11933193,  2997.06283845,  8002.93092341,\n",
              "        2670.87121344,  7670.51807609, 21621.7091446 , 39837.40771338,\n",
              "        4633.8181803 ,  2639.56017872, 11727.33501118, 12385.83801619,\n",
              "        5097.21086115, 12797.77854775,  3504.75167667,  4331.70863724,\n",
              "       42407.98184465,  4551.07211959, 13888.98549316,  1873.87216633,\n",
              "        6903.70049614,  1716.09710634, 10641.4208823 , 10250.8306927 ,\n",
              "        3695.98482999, 38288.24945137, 11742.4334332 , 10655.97369713,\n",
              "       13762.83472351,  5097.31479547, 14654.48658455,  7641.27578818,\n",
              "       10281.58258785,  4204.61256773, 16999.86812747, 10918.83891044,\n",
              "        3598.7898023 ,  1602.7524341 ,  6156.52342041,  9283.06249994,\n",
              "        8624.98382867,  6666.79284384,  7295.27644786,  5012.20853541,\n",
              "        4836.35917193, 11376.61703832,  4417.87735641,  8809.32539123,\n",
              "        1539.15725943, 30505.32965379,  5020.12136344, 37734.64809012,\n",
              "       39562.88584382, 37004.77456403,  5065.72971777, 10749.93773541,\n",
              "        8621.02215363, 11357.21572054, 15309.0919226 , 26095.24601755,\n",
              "       23422.38167829,  5044.68668905, 38431.6306115 ,  6827.21565317,\n",
              "       19515.31339048,  1994.6140062 , 18230.11612845,  6111.00167149,\n",
              "        4692.43179172,  1714.12393565,  5877.13587519, 12485.52034557,\n",
              "       12980.22687371,  1789.40419955,  7868.30598787, 21725.27326559,\n",
              "        1799.15055841, 22037.9744851 ,  1172.54042661,  3023.42184497,\n",
              "       12986.23868722, 38793.4592291 ,  9982.816061  ,  2221.32350773,\n",
              "       12637.1027655 , 24247.93975019,  6513.37002957,  3212.63037321,\n",
              "        5630.66723446,  7230.61672402, 11658.69562439,  1938.13052523,\n",
              "        4709.08957787,  7632.18713527,  7722.54276994,  9352.95182885,\n",
              "       12970.56564204,  1891.7414023 ,  3838.20874257,  6012.89465103,\n",
              "        5572.26115349,  8181.73729682,  6015.90645565, 13163.6481131 ,\n",
              "        4803.98288925, 37987.34501724, 40942.63059423, 37968.33460617,\n",
              "        5409.51431148,  9990.80630388,  2294.80827959, 11361.9522118 ,\n",
              "        2112.92622603, 25161.86996131,  5407.3716101 ,  3603.91796989,\n",
              "       11905.56958032,  4527.87451422, 40566.14373725,  2880.05548659,\n",
              "        1119.1267003 , 37743.36447528,  6305.55851958,  4843.25607158,\n",
              "       13486.04442259,  8629.09654407, 35428.98808769, 39333.07061703,\n",
              "       13592.58224732,  2802.6482641 , 14880.31205897,  2594.32312137,\n",
              "        3839.24242916,  7002.17350655, 45210.35907403, 38868.87305757,\n",
              "       39789.53675963,  2583.23715855,  9109.76946924,  6431.19518976,\n",
              "        7585.20699678,  4228.68393847,  2098.11569482, 24511.86466591,\n",
              "       16467.13793058, 13727.02710143, 15462.19006227, 11788.47889072,\n",
              "       28645.45023093,  3137.16822065,  8497.82856135,  4887.47163247,\n",
              "        5187.56633728,  2890.02218648,  4114.2423145 ,  3581.82032459,\n",
              "        8805.16429634, 10768.09565284,  3839.61936952,  2278.71553334,\n",
              "        2570.03088702, 39525.86478664, 13050.388453  ,  9270.9265154 ,\n",
              "        2789.88102208, 12379.86641028,  2192.4963459 ,  9118.88886217,\n",
              "        2994.25352044, 26797.02741655,  4549.09066243,  2912.13755391,\n",
              "       17047.53806518, 18710.27735702,  9044.75837025,  3954.33323088,\n",
              "        8210.83851146,  3345.3495679 , 13117.04522373, 12051.12763652,\n",
              "       11467.66801835, 18425.27244109,  6664.90306536,  4263.94138565,\n",
              "        4801.09368591, 14001.11332918, 12729.06489011,  4923.22344731,\n",
              "        2269.70426864,  7750.35348552,  6898.63462273, 42238.18111928,\n",
              "        1974.47966925, 35611.01267307,  1739.64801212,  1660.38610319,\n",
              "        9250.44655093, 11142.50820658,  1551.32329496,  9957.29747069,\n",
              "        4582.76764329, 24455.38831992, 10069.06711454,  8483.05694553,\n",
              "        3958.20582002,  5983.26938165, 42373.20973959,  1617.83988611,\n",
              "       13239.25603566, 37791.44181011,  2947.92997562,  3410.27135742,\n",
              "        1612.42730914,  2657.89829557,  4404.59427675,  3954.4513077 ,\n",
              "       12547.96399876,  1403.32047528,  1988.74129198,  7300.53099896,\n",
              "        3054.35662681, 11969.96566428,  2805.62445985,  3307.16550537,\n",
              "       12358.41264122,  3397.89202378,  8912.37969934,  6231.44291256,\n",
              "        7996.46283098, 13393.24526664, 18632.45372148, 48376.19955242,\n",
              "       12164.87154533,  6002.50762728, 43909.02315665,  9655.73058126,\n",
              "        8598.89067114,  8936.5675308 ,  9571.57439897,  8474.39348715,\n",
              "       12867.92680633, 13257.92501951,  2090.84058676, 13389.65938437,\n",
              "        7246.58664136, 39525.54017915,  5550.93187546,  9116.90607823,\n",
              "        9264.56676776, 14758.53417663,  9894.70732824,  9067.02516518,\n",
              "       39725.07523626,  2644.7275648 ,  9679.77244775, 43640.81310641,\n",
              "        4433.04503374,  2546.79217448,  2204.38629155, 11005.10277526,\n",
              "       15584.54974603, 10867.91793807,  9715.82444747, 10441.32715983,\n",
              "        9384.05323568,  3449.52419817,  2111.72891547, 37758.51033645,\n",
              "       37563.39055033,  6755.51051094,  3397.096813  , 16509.03991829,\n",
              "       13090.3449542 , 38390.39713773,  2482.86878735, 48384.5389937 ,\n",
              "        5199.07844592,  1627.50029724,  6156.76836224,  1873.47827212,\n",
              "       16616.50997115, 13454.52084885,  2145.40404226, 12141.68553079,\n",
              "       10428.75875171, 12223.08790587, 41698.70698788, 12682.1570671 ,\n",
              "       22787.48255629,  7716.48359504, 14841.32268515,  3832.95236315,\n",
              "        8197.68263265,  7917.83964264, 14514.57165969, 11080.97443633,\n",
              "        3406.58044864, 10661.54150377, 13133.01759295, 11852.03760811,\n",
              "        4498.25055034, 33312.34336606,  5895.42633304,  2387.32590846,\n",
              "        4399.34426812,  9283.65519667, 41656.61258621,  8610.94337304,\n",
              "       14257.62952389,  7123.59295554,  5191.71719637,  3953.89098146,\n",
              "        2288.22750796,  8069.95266038,  5512.32434318,  1604.97385016,\n",
              "       11222.25679618,  8274.14194445,  5133.36871377,  2994.43728441,\n",
              "        9640.14998834,  2533.52861613, 39785.30486435, 37235.34870569,\n",
              "       41789.6997207 ,  3060.97976033,  7743.0591074 ,  6317.59461722,\n",
              "        1989.58290815, 22313.69624146,  6734.15481113, 17517.44850113,\n",
              "       43163.47533467,  5329.1391776 , 12722.76136941,  5914.03852132,\n",
              "        9597.31081264, 10455.94865922, 18081.46525762, 11913.45993177,\n",
              "        7889.42703721,  4198.20124357,  2322.8102636 , 11622.19686725,\n",
              "       22046.84794584, 10976.16677481,  9567.06203257,  3017.84806627,\n",
              "        3415.80673387,  5987.74893265,  8593.12398219,  9101.30732559,\n",
              "       26140.76108062, 45791.70943088, 11739.82316603,  7757.22800738,\n",
              "       13610.00849641, 11058.98770043,  6169.37445565,  3806.47598239,\n",
              "        7406.5612805 ,  3524.9522072 ,  8463.93185643,  4349.65481336,\n",
              "       11738.02733808, 10108.89955454,  4652.86438421,  2253.32831901,\n",
              "       11382.02798642,  2113.57887146])"
            ]
          },
          "metadata": {},
          "execution_count": 55
        }
      ],
      "source": [
        "#Make the prediction on the test data\n",
        "gradient_pred=model.predict(X_test)\n",
        "#Prediction\n",
        "gradient_pred"
      ]
    },
    {
      "cell_type": "code",
      "execution_count": 56,
      "id": "97d12071",
      "metadata": {
        "id": "97d12071",
        "outputId": "e44a25bf-ac99-4dd5-d02f-dee7d626f41e",
        "colab": {
          "base_uri": "https://localhost:8080/"
        }
      },
      "outputs": [
        {
          "output_type": "stream",
          "name": "stdout",
          "text": [
            "The gradientboosting regression model test score is 86.54\n",
            "The gradientboosting regression model train score is 85.58\n"
          ]
        }
      ],
      "source": [
        "#Let's print the test score is for the gradientboosting regression model\n",
        "print(f'The gradientboosting regression model test score is {model.score(X_test,y_test)*100:.2f}')\n",
        "#Print the train score for gradientboosting regression model\n",
        "print(f'The gradientboosting regression model train score is {model.score(X_train,y_train)*100:.2f}')"
      ]
    },
    {
      "cell_type": "code",
      "execution_count": 57,
      "id": "06ac75ca",
      "metadata": {
        "id": "06ac75ca",
        "outputId": "0ef7e125-203e-4643-9d03-8473096e0b0d",
        "colab": {
          "base_uri": "https://localhost:8080/"
        }
      },
      "outputs": [
        {
          "output_type": "stream",
          "name": "stdout",
          "text": [
            "The mean_squard_error is 19739668.547696024\n",
            "The mean_squard_error is 0.8653724690591579\n"
          ]
        }
      ],
      "source": [
        "#Let's check the mean_squard_error and r2 score\n",
        "print(f'The mean_squard_error is {mean_squared_error(y_test,gradient_pred)}')\n",
        "#print the r2_score\n",
        "print(f'The mean_squard_error is {r2_score(y_test,gradient_pred)}')"
      ]
    },
    {
      "cell_type": "markdown",
      "id": "d7f4aea7",
      "metadata": {
        "id": "d7f4aea7"
      },
      "source": [
        "# The final output"
      ]
    },
    {
      "cell_type": "code",
      "execution_count": 58,
      "id": "299f3024",
      "metadata": {
        "id": "299f3024",
        "outputId": "e2f14ce1-4b25-4f16-f567-033cf17a1968",
        "colab": {
          "base_uri": "https://localhost:8080/"
        }
      },
      "outputs": [
        {
          "output_type": "stream",
          "name": "stdout",
          "text": [
            "The linear regression model test score is 74.51\n",
            "The linear regression model train score is 71.18\n",
            "The mean_squard_error is 37375724.26907292\n",
            "The mean_squard_error is 0.74509189638555\n",
            "The decisiontree regression model test score is 76.08\n",
            "The decisiontree regression model train score is 95.74\n",
            "The mean_squard_error is 35074606.951686166\n",
            "The mean_squard_error is 0.7607858652126583\n",
            "The decisiontree regression model test score is 83.32\n",
            "The decisiontree regression model train score is 97.36\n",
            "The mean_squard_error is 24455045.834032144\n",
            "The mean_squard_error is 0.8332128813750954\n",
            "The xgboost regression model test score is 86.54\n",
            "The xgboost regression model train score is 85.58\n",
            "The mean_squard_error is 22289068.33242669\n",
            "The mean_squard_error is 0.8479851761788292\n",
            "The gradientboosting regression model test score is 86.54\n",
            "The gradientboosting regression model train score is 85.58\n",
            "The mean_squard_error is 19739668.547696024\n",
            "The mean_squard_error is 0.8653724690591579\n"
          ]
        }
      ],
      "source": [
        "#Let's prnt the test score is for the linear regression model\n",
        "print(f'The linear regression model test score is {linear.score(X_test,y_test)*100:.2f}')\n",
        "#Print the train score for linear regression model\n",
        "print(f'The linear regression model train score is {linear.score(X_train,y_train)*100:.2f}')\n",
        "#Let's check the mean_squard_error and r2 score\n",
        "print(f'The mean_squard_error is {mean_squared_error(y_test,y_pred)}')\n",
        "#print the r2_score\n",
        "print(f'The mean_squard_error is {r2_score(y_test,y_pred)}')\n",
        "#Let's prnt the test score is for the decisiontree regression model\n",
        "print(f'The decisiontree regression model test score is {tree.score(X_test,y_test)*100:.2f}')\n",
        "#Print the train score for decisiontree regression model\n",
        "print(f'The decisiontree regression model train score is {tree.score(X_train,y_train)*100:.2f}')\n",
        "#Let's check the mean_squard_error and r2 score\n",
        "print(f'The mean_squard_error is {mean_squared_error(y_test,tree_pred)}')\n",
        "#print the r2_score\n",
        "print(f'The mean_squard_error is {r2_score(y_test,tree_pred)}')\n",
        "#Let's prnt the test score is for the decisiontree regression model\n",
        "print(f'The decisiontree regression model test score is {random.score(X_test,y_test)*100:.2f}')\n",
        "#Print the train score for decisiontree regression model\n",
        "print(f'The decisiontree regression model train score is {random.score(X_train,y_train)*100:.2f}')\n",
        "#Let's check the mean_squard_error and r2 score\n",
        "print(f'The mean_squard_error is {mean_squared_error(y_test,random_pred)}')\n",
        "#print the r2_score\n",
        "print(f'The mean_squard_error is {r2_score(y_test,random_pred)}')\n",
        "#Let's prnt the test score is for the xgboost regression model\n",
        "print(f'The xgboost regression model test score is {model.score(X_test,y_test)*100:.2f}')\n",
        "#Print the train score for xgboost regression model\n",
        "print(f'The xgboost regression model train score is {model.score(X_train,y_train)*100:.2f}')\n",
        "#Let's check the mean_squard_error and r2 score\n",
        "print(f'The mean_squard_error is {mean_squared_error(y_test,model_pred)}')\n",
        "#print the r2_score\n",
        "print(f'The mean_squard_error is {r2_score(y_test,model_pred)}')\n",
        "#Let's print the test score is for the gradientboosting regression model\n",
        "print(f'The gradientboosting regression model test score is {model.score(X_test,y_test)*100:.2f}')\n",
        "#Print the train score for gradientboosting regression model\n",
        "print(f'The gradientboosting regression model train score is {model.score(X_train,y_train)*100:.2f}')\n",
        "#Let's check the mean_squard_error and r2 score\n",
        "print(f'The mean_squard_error is {mean_squared_error(y_test,gradient_pred)}')\n",
        "#print the r2_score\n",
        "print(f'The mean_squard_error is {r2_score(y_test,gradient_pred)}')"
      ]
    },
    {
      "cell_type": "raw",
      "id": "2349ef92",
      "metadata": {
        "id": "2349ef92"
      },
      "source": [
        "Finaly we get 86% accuracy_Score to the gradientboosting model and we predict the insurance charges.To predict the insurance charges using the various factor such as age,bmi,gender,children,region and we predict the charges."
      ]
    },
    {
      "cell_type": "markdown",
      "id": "c9551778",
      "metadata": {
        "id": "c9551778"
      },
      "source": [
        "# Thank you"
      ]
    },
    {
      "cell_type": "code",
      "execution_count": 58,
      "id": "a329a92e",
      "metadata": {
        "id": "a329a92e"
      },
      "outputs": [],
      "source": []
    }
  ],
  "metadata": {
    "kernelspec": {
      "display_name": "Python 3 (ipykernel)",
      "language": "python",
      "name": "python3"
    },
    "language_info": {
      "codemirror_mode": {
        "name": "ipython",
        "version": 3
      },
      "file_extension": ".py",
      "mimetype": "text/x-python",
      "name": "python",
      "nbconvert_exporter": "python",
      "pygments_lexer": "ipython3",
      "version": "3.9.12"
    },
    "colab": {
      "provenance": [],
      "include_colab_link": true
    },
    "accelerator": "GPU",
    "gpuClass": "standard"
  },
  "nbformat": 4,
  "nbformat_minor": 5
}