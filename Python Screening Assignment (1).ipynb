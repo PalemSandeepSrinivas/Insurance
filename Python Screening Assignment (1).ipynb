{
 "cells": [
  {
   "cell_type": "code",
   "execution_count": 76,
   "id": "550ec931",
   "metadata": {},
   "outputs": [
    {
     "name": "stdout",
     "output_type": "stream",
     "text": [
      "Enter the text to be replalced: assignment\n",
      "Enter the text that replace: screening\n",
      "\u0000\u0000\u0000\u0000\u0000\u0000\u0000\u0000\u0000\u0000\u0000\u0000\u0000\u0000\u0000\u0000\u0000\u0000\u0000\u0000\u0000\u0000\u0000\u0000\u0000\u0000\u0000\u0000\u0000\u0000This is a placement screening\n"
     ]
    }
   ],
   "source": [
    "f = open('file.txt',\"r+\")\n",
    "f.truncate(0)\n",
    "f.write(\"This is a placement assignment\")\n",
    "x = input(\"Enter the text to be replalced: \")\n",
    "y = input(\"Enter the text that replace: \")\n",
    "f.seek(0)\n",
    "l = f.readline()\n",
    "l = l.split(\" \")\n",
    "i = l.index(x)\n",
    "l = l[:i]+[y]+l[i+1:]\n",
    "l = \" \".join(l)\n",
    "f.truncate(0)\n",
    "f.writelines(l)\n",
    "f.seek(0)\n",
    "print(f.read())\n",
    "f.close()\n",
    "#print(\"Text succesfully replaced\")"
   ]
  },
  {
   "cell_type": "markdown",
   "id": "50cb8eec",
   "metadata": {},
   "source": [
    "### Abstract Class "
   ]
  },
  {
   "cell_type": "code",
   "execution_count": null,
   "id": "c6bc9111",
   "metadata": {},
   "outputs": [],
   "source": [
    "1> The methods in class which has only decleration but not \n",
    "defination are called abstract methods.\n",
    "2>And the class that has abstract methods are called abstract \n",
    "class.\n",
    "3>we can not also create object of abstract class.\n",
    "4>Abstract methods implemented in parent class should be \n",
    "implemented in child class also"
   ]
  },
  {
   "cell_type": "code",
   "execution_count": 85,
   "id": "f9fa0c5c",
   "metadata": {},
   "outputs": [
    {
     "name": "stdout",
     "output_type": "stream",
     "text": [
      "25\n",
      "20\n"
     ]
    }
   ],
   "source": [
    "from abc import ABC,abstractmethod\n",
    "class Shape(ABC):\n",
    "    @abstractmethod\n",
    "    def area(self):pass\n",
    "    \n",
    "    @abstractmethod\n",
    "    def perimeter(self):pass\n",
    "    \n",
    "class Square(Shape):\n",
    "    def __init__(self,side):\n",
    "        self.side = side\n",
    "#Here we should create methods of abstract class to make use of\n",
    "#this class\n",
    "    def __init__(self,side):\n",
    "        self.__side = side\n",
    "    def area(self):\n",
    "        return self.__side * self.__side\n",
    "    def perimeter(self):\n",
    "        return 4 * self.__side\n",
    "\n",
    "squrae = Square(5)\n",
    "print(squrae.area())\n",
    "print(squrae.perimeter())"
   ]
  },
  {
   "cell_type": "markdown",
   "id": "4c3d0044",
   "metadata": {},
   "source": [
    "### Multiple Inheritance"
   ]
  },
  {
   "cell_type": "code",
   "execution_count": null,
   "id": "5a07ebae",
   "metadata": {},
   "outputs": [],
   "source": [
    "1> The ability of a class to inherit form more than one class is \n",
    "called multiple inheritance.\n",
    "2.>Python Inheritance provides Code reusability, readability, \n",
    "and scalability.\n",
    "3>It reduces the code repetition. ...\n",
    "3>By dividing the code into multiple classes, the applications \n",
    "look better, and the error identification is easy."
   ]
  },
  {
   "cell_type": "code",
   "execution_count": 94,
   "id": "34b54665",
   "metadata": {},
   "outputs": [
    {
     "name": "stdout",
     "output_type": "stream",
     "text": [
      "In Class3\n",
      "In Class1\n",
      "In Class2\n",
      "In Parent_Class\n"
     ]
    }
   ],
   "source": [
    "class Parent_Class:\n",
    "    def m(self):\n",
    "        print(\"In Parent_Class\")\n",
    "    \n",
    "class Sub_Class1(Parent_Class):\n",
    "    def m(self):\n",
    "        print(\"In Class1\")\n",
    "\n",
    "class Sub_Class2(Parent_Class):\n",
    "    def m(self):\n",
    "        print(\"In Class2\")\n",
    "    \n",
    "class Sub_Class3(Sub_Class1, Sub_Class2):\n",
    "    def m(self):\n",
    "        print(\"In Class3\")\n",
    "\n",
    "obj = Sub_Class3()\n",
    "obj.m()\n",
    "\n",
    "Sub_Class1.m(obj)\n",
    "Sub_Class2.m(obj)\n",
    "Parent_Class.m(obj)\n"
   ]
  },
  {
   "cell_type": "markdown",
   "id": "c0d8a5c5",
   "metadata": {},
   "source": [
    "### Decorators"
   ]
  },
  {
   "cell_type": "code",
   "execution_count": null,
   "id": "f38e80e4",
   "metadata": {},
   "outputs": [],
   "source": [
    "1.>Decorators allows programmers to modify the behaviour of a \n",
    "function or class.\n",
    "2>Decorators allow us to wrap another function in order to\n",
    "extend the behaviour of the wrapped function, without permanently \n",
    "modifying it.\n",
    "3>But before diving deep into decorators let us understand some \n",
    "concepts that will come in handy in learning the \n",
    "decorators."
   ]
  },
  {
   "cell_type": "code",
   "execution_count": 93,
   "id": "cc490a8e",
   "metadata": {},
   "outputs": [
    {
     "name": "stdout",
     "output_type": "stream",
     "text": [
      "2.0\n"
     ]
    }
   ],
   "source": [
    "def div(a,b):\n",
    "    print(a/b)\n",
    "    \n",
    "def smart_div(func):\n",
    "    \n",
    "    def inner(a,b):\n",
    "        if a<b:\n",
    "            a,b=b,a\n",
    "        return func(a,b)\n",
    "    return inner\n",
    "        \n",
    "div = smart_div(div)\n",
    "\n",
    "div(2,4)"
   ]
  }
 ],
 "metadata": {
  "kernelspec": {
   "display_name": "Python 3 (ipykernel)",
   "language": "python",
   "name": "python3"
  },
  "language_info": {
   "codemirror_mode": {
    "name": "ipython",
    "version": 3
   },
   "file_extension": ".py",
   "mimetype": "text/x-python",
   "name": "python",
   "nbconvert_exporter": "python",
   "pygments_lexer": "ipython3",
   "version": "3.7.11"
  }
 },
 "nbformat": 4,
 "nbformat_minor": 5
}
